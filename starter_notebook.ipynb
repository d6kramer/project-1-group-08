{
 "cells": [
  {
   "cell_type": "markdown",
   "id": "6ff14472-d9d4-4bdb-804a-3d9be009dbf3",
   "metadata": {},
   "source": [
    "Starter file for Project 1 - need to load in Spotify CSV!\n"
   ]
  },
  {
   "cell_type": "code",
   "execution_count": null,
   "id": "1b862541",
   "metadata": {},
   "outputs": [],
   "source": [
    "# Import Dependencies\n",
    "import pandas as pd\n",
    "from pathlib import Path\n",
    "import matplotlib.pyplot as plt\n",
    "import scipy.stats as st\n",
    "import numpy as np"
   ]
  },
  {
   "cell_type": "code",
   "execution_count": null,
   "id": "0df8a118",
   "metadata": {},
   "outputs": [],
   "source": [
    "csv_path = Path(\"Resources/spotify-2023.csv\")\n",
    "\n",
    "spotify_df = pd.read_csv(csv_path, encoding='iso-8859-1')\n",
    "\n",
    "#Basic Dataframe with all information\n",
    "spotify_df.head()"
   ]
  },
  {
   "cell_type": "code",
   "execution_count": null,
   "id": "e57f5424",
   "metadata": {},
   "outputs": [],
   "source": [
    "# David!\n"
   ]
  },
  {
   "cell_type": "code",
   "execution_count": null,

   "id": "067bbc1d",
   "metadata": {},
   "outputs": [],
   "source": [
    "#bucket to store the artists names as a list\n",
    "artist_list = []\n",
    "\n",
    "#columns into lists and drop the NA values\n",
    "artist1_list = spotify_df[\"Artist Name 1\"].dropna().tolist()\n",
    "artist2_list = spotify_df[\"Artist Name 2\"].dropna().tolist()\n",
    "artist3_list = spotify_df[\"Artist Name 3\"].dropna().tolist()\n",
    "artist4_list = spotify_df[\"Artist Name 4\"].dropna().tolist()\n",
    "artist5_list = spotify_df[\"Artist Name 5\"].dropna().tolist()\n",
    "artist6_list = spotify_df[\"Artist Name 6\"].dropna().tolist()\n",
    "artist7_list = spotify_df[\"Artist Name 7\"].dropna().tolist()\n",
    "artist8_list = spotify_df[\"Artist Name 8\"].dropna().tolist()\n",
    "\n",
    "#compile the lists\n",
    "artist_list.extend(artist1_list)\n",
    "artist_list.extend(artist2_list)\n",
    "artist_list.extend(artist3_list)\n",
    "artist_list.extend(artist4_list)\n",
    "artist_list.extend(artist5_list)\n",
    "artist_list.extend(artist6_list)\n",
    "artist_list.extend(artist7_list)\n",
    "artist_list.extend(artist8_list)\n",
    "\n",
    "artist_list"
   ]
  },
  {
   "cell_type": "code",
   "execution_count": null,

   "id": "0d16a1fa",
   "metadata": {},
   "outputs": [],
   "source": [
    "# Number of artists in the sample\n",
    "print(len(artist_list))"
   ]

  },
  {
   "cell_type": "code",
   "execution_count": null,

   "id": "94ca9b13",
   "metadata": {},
   "outputs": [],
   "source": [
    "# Number of songs in the sample\n",
    "counter = 0\n",
    "for row in spotify_df[\"track_name\"]:\n",
    "   counter = counter + 1\n",
    "counter   "
   ]

  },
  {
   "cell_type": "code",
   "execution_count": null,

   "id": "f049e316",
   "metadata": {},
   "outputs": [],
   "source": [
    "# DF of the full artist list\n",
    "all_artists_df = pd.DataFrame(artist_list)\n",
    "\n",
    "# Clean up data / DF\n",
    "all_artists_df.columns = [\"Artist\"]\n",
    "all_artists_df[\"Artist\"].replace({\" Bad Bunny\": \"Bad Bunny\"}, inplace=True)\n",
    "\n",
    "all_artists_df.head(10)"
   ]

  },
  {
   "cell_type": "code",
   "execution_count": null,

   "id": "21bf2529",
   "metadata": {},
   "outputs": [],
   "source": [
    "# Unique artists in the sample\n",
    "print(len(all_artists_df.value_counts()))"
   ]

  },
  {
   "cell_type": "code",
   "execution_count": null,

   "id": "04dc6dd3",
   "metadata": {},
   "outputs": [],
   "source": [
    "# Sorted by most common and update DF\n",
    "sorted_df = all_artists_df.value_counts().sort_values(ascending=False)\n",
    "count_sorted_df = pd.DataFrame(sorted_df)\n",
    "\n",
    "count_sorted_df.head(10)"
   ]

  },
  {
   "cell_type": "code",
   "execution_count": null,

   "id": "24aadafc",
   "metadata": {},
   "outputs": [],
   "source": [
    "#limit the list to only the top 5\n",
    "topfive_df = count_sorted_df.loc[(count_sorted_df[\"count\"] >= 20)]\n",
    "\n",
    "#add back the index\n",
    "topfive_df.reset_index(inplace=True)\n",
    "\n",
    "topfive_df"
   ]

  },
  {
   "cell_type": "code",
   "execution_count": null,

   "id": "d5dc5ef2",
   "metadata": {},
   "outputs": [],
   "source": [
    "# bar chart \n",
    "x_axis = np.arange(len(topfive_df))\n",
    "tick_locations = [value for value in x_axis]\n",
    "plt.bar(x_axis, topfive_df[\"count\"], color='g', alpha=0.65, align=\"center\")\n",
    "plt.xticks(tick_locations, topfive_df[\"Artist\"], rotation=\"horizontal\")\n",
    "\n",
    "plt.title(\"Top 5 Artists Represented in the Sample\")\n",
    "plt.ylabel(\"Number of Songs in Sample\")\n",
    "plt.tight_layout()\n",
    "\n",
    "plt.show()"
   ]

  },
  {
   "cell_type": "code",
   "execution_count": null,

   "id": "5c98ae3d",
   "metadata": {},
   "outputs": [],
   "source": [
    "# list out the columns\n",
    "spotify_df.columns\n"
   ]

  },
  {
   "cell_type": "code",
   "execution_count": null,

   "id": "8553236f",
   "metadata": {},
   "outputs": [],
   "source": [
    "# tighten up the df columns that I need\n",
    "short_spotify_df = spotify_df[[\"track_name\",\"Artist Name 1\",\"Artist Name 2\",\"Artist Name 3\",\n",
    "                              \"Artist Name 4\",\"Artist Name 5\",\"Artist Name 6\",\"Artist Name 7\"\n",
    "                              ,\"Artist Name 8\", \"released_year\", \"streams\"]].copy()\n",
    "short_spotify_df.head()"
   ]

  },
  {
   "cell_type": "code",
   "execution_count": null,

   "id": "8f81b017",
   "metadata": {},
   "outputs": [],
   "source": [
    "#sorted by streams\n",
    "sorted_short_df = short_spotify_df.sort_values(\"streams\", ascending=False)\n",
    "sorted_short_df"
   ]

  },
  {
   "cell_type": "code",
   "execution_count": null,

   "id": "ea36b386",
   "metadata": {},
   "outputs": [],
   "source": [
    "#DF for streams over 1 billion\n",
    "one_bill_df = short_spotify_df[(short_spotify_df[\"streams\"] >= 1000000000)]\n",
    "\n",
    "one_bill_df.count()"
   ]

  },
  {
   "cell_type": "code",
   "execution_count": null,

   "id": "9461d4b6",
   "metadata": {},
   "outputs": [],
   "source": [
    "#bucket to store the artists names with 1 billion streams as a list\n",
    "onebill_artist_list = []\n",
    "\n",
    "#columns into lists and drop the NA values\n",
    "onebill_artist1_list = one_bill_df[\"Artist Name 1\"].dropna().tolist()\n",
    "onebill_artist2_list = one_bill_df[\"Artist Name 2\"].dropna().tolist()\n",
    "onebill_artist3_list = one_bill_df[\"Artist Name 3\"].dropna().tolist()\n",
    "onebill_artist4_list = one_bill_df[\"Artist Name 4\"].dropna().tolist()\n",
    "\n",
    "#compile the lists\n",
    "onebill_artist_list.extend(onebill_artist1_list)\n",
    "onebill_artist_list.extend(onebill_artist2_list)\n",
    "onebill_artist_list.extend(onebill_artist3_list)\n",
    "onebill_artist_list.extend(onebill_artist4_list)\n",
    "\n",
    "onebill_artist_list"
   ]

  },
  {
   "cell_type": "code",
   "execution_count": null,

   "id": "52ad2375",
   "metadata": {},
   "outputs": [],
   "source": [
    "# DF of the full artist list\n",
    "onebill_artists_df = pd.DataFrame(onebill_artist_list)\n",
    "\n",
    "# Clean up data / DF\n",
    "onebill_artists_df.columns = [\"Artist\"]\n",
    "onebill_artists_df[\"Artist\"].replace({\" Bad Bunny\": \"Bad Bunny\"}, inplace=True)\n",
    "\n",
    "onebill_artists_df"
   ]

  },
  {
   "cell_type": "code",
   "execution_count": null,

   "id": "c7257476",
   "metadata": {},
   "outputs": [],
   "source": [
    "# Unique artists in the sample\n",
    "print(len(onebill_artists_df.value_counts()))"
   ]

  },
  {
   "cell_type": "code",
   "execution_count": null,

   "id": "7f64d4d5",
   "metadata": {},
   "outputs": [],
   "source": [
    "onebill_sorted_df = onebill_artists_df.value_counts().sort_values(ascending=False)\n",
    "onebill_count_sorted_df = pd.DataFrame(onebill_sorted_df)\n",
    "\n",
    "onebill_count_sorted_df.head(10)"
   ]

  },
  {
   "cell_type": "code",
   "execution_count": null,

   "id": "b6a586c1",
   "metadata": {},
   "outputs": [],
   "source": [
    "#limit the list to only the top 5\n",
    "onebill_topfive_df = onebill_count_sorted_df.loc[(onebill_count_sorted_df[\"count\"] >= 5)]\n",
    "\n",
    "#add back the index\n",
    "onebill_topfive_df.reset_index(inplace=True)\n",
    "\n",
    "onebill_topfive_df"
   ]

  },
  {
   "cell_type": "code",
   "execution_count": null,

   "id": "89b2436a",
   "metadata": {},
   "outputs": [],
   "source": [
    "# bar chart \n",
    "x_axis = np.arange(len(onebill_topfive_df))\n",
    "tick_locations = [value for value in x_axis]\n",
    "plt.bar(x_axis, onebill_topfive_df[\"count\"], color='g', alpha=0.65, align=\"center\")\n",
    "plt.xticks(tick_locations, onebill_topfive_df[\"Artist\"], rotation=\"horizontal\")\n",
    "\n",
    "plt.title(\"Top Artists with over 1 Billion Streams\")\n",
    "plt.ylabel(\"Number of Songs\")\n",
    "plt.tight_layout()\n",
    "\n",
    "plt.show()"
   ]

  },
  {
   "cell_type": "code",
   "execution_count": null,

   "id": "e36fcdba",
   "metadata": {},
   "outputs": [],
   "source": [
    "two_bill_df = short_spotify_df[(short_spotify_df[\"streams\"] >= 2000000000)]\n",
    "two_bill_df.count()"
   ]

  },
  {
   "cell_type": "code",
   "execution_count": null,

   "id": "cccf3c89",
   "metadata": {},
   "outputs": [],
   "source": [
    "#bucket to store the artists names with 2 billion streams as a list\n",
    "twobill_artist_list = []\n",
    "\n",
    "#columns into lists and drop the NA values\n",
    "twobill_artist1_list = two_bill_df[\"Artist Name 1\"].dropna().tolist()\n",
    "twobill_artist2_list = two_bill_df[\"Artist Name 2\"].dropna().tolist()\n",
    "twobill_artist3_list = two_bill_df[\"Artist Name 3\"].dropna().tolist()\n",
    "\n",
    "#compile the lists\n",
    "twobill_artist_list.extend(twobill_artist1_list)\n",
    "twobill_artist_list.extend(twobill_artist2_list)\n",
    "twobill_artist_list.extend(twobill_artist3_list)\n",
    "\n",
    "twobill_artist_list"
   ]

  },
  {
   "cell_type": "code",
   "execution_count": null,

   "id": "08b2de54",
   "metadata": {},
   "outputs": [],
   "source": [
    "# DF of the full artist list\n",
    "twobill_artists_df = pd.DataFrame(twobill_artist_list)\n",
    "\n",
    "# Clean up data / DF\n",
    "twobill_artists_df.columns = [\"Artist\"]\n",
    "twobill_artists_df[\"Artist\"].replace({\" Bad Bunny\": \"Bad Bunny\"}, inplace=True)\n",
    "\n",
    "twobill_artists_df.head()"
   ]

  },
  {
   "cell_type": "code",
   "execution_count": null,

   "id": "e53e6d89",
   "metadata": {},
   "outputs": [],
   "source": [
    "# Unique artists in the sample\n",
    "print(len(twobill_artists_df.value_counts()))"
   ]

  },
  {
   "cell_type": "code",
   "execution_count": null,

   "id": "b6f09fdb",
   "metadata": {},
   "outputs": [],
   "source": [
    "twobill_sorted_df = twobill_artists_df.value_counts().sort_values(ascending=False)\n",
    "twobill_count_sorted_df = pd.DataFrame(twobill_sorted_df)\n",
    "\n",
    "twobill_count_sorted_df.head(10)"
   ]

  },
  {
   "cell_type": "code",
   "execution_count": null,

   "id": "7f1be3c5",
   "metadata": {},
   "outputs": [],
   "source": [
    "#limit the list to only the top 6\n",
    "twobill_topfive_df = twobill_count_sorted_df.loc[(twobill_count_sorted_df[\"count\"] >= 2)]\n",
    "\n",
    "#add back the index\n",
    "twobill_topfive_df.reset_index(inplace=True)\n",
    "\n",
    "twobill_topfive_df"
   ]

  },
  {
   "cell_type": "code",
   "execution_count": null,


   "id": "94e8791d",
   "metadata": {},
   "outputs": [],
   "source": [
    "# bar chart \n",
    "x_axis = np.arange(len(twobill_topfive_df))\n",
    "tick_locations = [value for value in x_axis]\n",
    "plt.bar(x_axis, twobill_topfive_df[\"count\"], color='g', alpha=0.65, align=\"center\")\n",
    "plt.xticks(tick_locations, twobill_topfive_df[\"Artist\"], rotation=15)\n",
    "\n",
    "plt.title(\"Top Artists with over 2 Billion Streams\")\n",
    "plt.ylabel(\"Number of Songs\")\n",
    "plt.tight_layout()\n",
    "\n",
    "plt.show()"
   ]
  },
  {
   "cell_type": "markdown",
   "id": "0efeddb8",
   "metadata": {},
   "source": [
    "#### Question: Who were the most popular artists in 2023 by number of streams?\n",
    "\n",
    "##### The sample consisted of 952 songs with 802 unique artists.  An analysis of all the artists in the sample was completed and the most prolific artist was Bad Bunny with 41 songs.  An analysis of streams over 1 billion included 152 songs with 137 unique artists. The top artist with over 1 billion streams was also Bad Bunny with 8 songs. An analysis of streams over 2 billion was also completed that included 31 songs with 33 unique artists. For this sample Ed Sheeran was the top artist with 4 songs surpasing 2 billion streams.\n",
    "\n",
    "##### The artists represented in each of the samples were different with only the Weeknd making all three groups.  There was very little overlap between the different samples.  Interesting next questions could focus on individual artists to see how the prolific artists songs performed overall.  Also for the top artists in the over 2 billion sample how their other songs performed, did they just have a few extremely popular songs?  "
   ]

  },
  {
   "cell_type": "code",
   "execution_count": null,

   "id": "d0050367",
   "metadata": {},
   "outputs": [],
   "source": [
    "# new copy for scatters\n",
    "scatter1_df = sorted_short_df.copy()\n",
    "# sort lowest to highest streams\n",
    "scatter2_df = scatter1_df.sort_values(\"streams\", ascending=True)\n",
    "# add a list of numbers\n",
    "scatter2_df.insert(0, \"New_Count\", range(1, 1 + len(scatter1_df)))\n",
    "scatter2_df.head()\n"
   ]

  },
  {
   "cell_type": "code",
   "execution_count": null,

   "id": "3e4aa25f",
   "metadata": {},
   "outputs": [],
   "source": [
    "#Scatter for year\n",
    "plt.scatter(scatter2_df[\"New_Count\"], scatter2_df[\"released_year\"], marker=\"o\", \n",
    "            facecolors=\"green\", edgecolors=\"black\")\n",
    "\n",
    "plt.ylim(1920,2030)\n",
    "plt.xlim(0,1000)\n",
    "plt.title(\"Year Released Distribution\")\n",
    "plt.xlabel(\"Number of Streams Ranked Low to High\")\n",
    "plt.ylabel(\"Year Released\")\n",
    "plt.show()"
   ]

  },
  {
   "cell_type": "code",
   "execution_count": null,

   "id": "490960f4",
   "metadata": {},
   "outputs": [],
   "source": [
    "# repeat process for the 1 billion DF\n",
    "one_bill_scatter_df = one_bill_df.copy()\n",
    "one_bill_scatter_df = one_bill_scatter_df.sort_values(\"streams\", ascending=True)\n",
    "one_bill_scatter_df.insert(0, \"New_Count\", range(1, 1 + len(one_bill_scatter_df)))\n",
    "one_bill_scatter_df.head()"
   ]

  },
  {
   "cell_type": "code",
   "execution_count": null,

   "id": "d33d7e1d",
   "metadata": {},
   "outputs": [],
   "source": [
    "# one_bill_df.head()\n",
    "#Scatter for year\n",
    "plt.scatter(one_bill_scatter_df[\"New_Count\"], one_bill_scatter_df[\"released_year\"], marker=\"o\", \n",
    "            facecolors=\"green\", edgecolors=\"black\")\n",
    "\n",
    "plt.ylim(1920,2030)\n",
    "plt.xlim(0,160)\n",
    "plt.title(\"Year Released Distribution, Streams over 1 Billion\")\n",
    "plt.xlabel(\"Number of Streams Ranked Low to High\")\n",
    "plt.ylabel(\"Year Released\")\n",
    "plt.show()"
   ]

  },
  {
   "cell_type": "code",
   "execution_count": null,

   "id": "6ecd524a",
   "metadata": {},
   "outputs": [],
   "source": [
    "# repeat process for the 2 billion DF\n",
    "two_bill_scatter_df = two_bill_df.copy()\n",
    "two_bill_scatter_df = two_bill_scatter_df.sort_values(\"streams\", ascending=True)\n",
    "two_bill_scatter_df.insert(0, \"New_Count\", range(1, 1 + len(two_bill_scatter_df)))\n",
    "two_bill_scatter_df.head()"
   ]

  },
  {
   "cell_type": "code",
   "execution_count": null,

   "id": "15835534",
   "metadata": {},
   "outputs": [],
   "source": [
    "#Scatter for year of 2 billion streams\n",
    "plt.scatter(two_bill_scatter_df[\"New_Count\"], two_bill_scatter_df[\"released_year\"], marker=\"o\", \n",
    "            facecolors=\"green\", edgecolors=\"black\")\n",
    "\n",
    "plt.ylim(1920,2030)\n",
    "plt.xlim(0,35)\n",
    "plt.title(\"Year Released Distribution, Streams over 2 Billion\")\n",
    "plt.xlabel(\"Stream Ranked Low to High\")\n",
    "plt.ylabel(\"Year Released\")\n",
    "plt.show()"
   ]

  },
  {
   "cell_type": "code",
   "execution_count": null,

   "id": "b7bd4d9d",
   "metadata": {},
   "outputs": [],
   "source": [
    "# new DF for the bins\n",
    "bins_spotify_df = sorted_short_df.copy()\n",
    "# Create the bins in which Data will be held  \n",
    "bins = [1930, 1940, 1950, 1960, 1970, 1980, 1990, 2000, 2010, 2019, 2020, 2021, 2022, 2023]\n",
    "\n",
    "# Create the names for the bins\n",
    "group_names = [\"1930s\",\"1940s\",\"1950s\",\"1960s\",\"1970s\",\"1980s\",\"1990s\",\"2000s\",\"2010s\",\"2020\",\"2021\",\"2022\",\"2023\"]"
   ]

  },
  {
   "cell_type": "code",
   "execution_count": null,

   "id": "d52b01db",
   "metadata": {},
   "outputs": [],
   "source": [
    "bins_spotify_df[\"timeframe\"] = pd.cut(bins_spotify_df[\"released_year\"], \n",
    "                                              bins, labels=group_names, \n",
    "                                              include_lowest=True)\n",
    "\n",
    "bins_spotify_df"
   ]

  },
  {
   "cell_type": "code",
   "execution_count": null,

   "id": "80f4a86e",
   "metadata": {},
   "outputs": [],
   "source": [
    "# bins_spotify_df.sort_values(by=\"timeframe\", ascending=True)\n",
    "newbins_spotify_df = bins_spotify_df[\"timeframe\"].value_counts()\n",
    "newbins_df = pd.DataFrame(newbins_spotify_df)\n",
    "\n",
    "#add back the index, sort values\n",
    "newbins_df.reset_index(inplace=True)\n",
    "newbins_df.sort_values(by='timeframe', ascending=True, inplace=True)\n",
    "newbins_df"
   ]

  },
  {
   "cell_type": "code",
   "execution_count": null,

   "id": "930c12dd",
   "metadata": {},
   "outputs": [],
   "source": [
    "# bar chart \n",
    "x_axis = np.arange(len(newbins_df))\n",
    "tick_locations = [value for value in x_axis]\n",
    "plt.bar(x_axis, newbins_df[\"count\"], color='g', alpha=0.65, align=\"center\")\n",
    "plt.xticks(tick_locations, newbins_df[\"timeframe\"], rotation=15)\n",
    "\n",
    "plt.title(\"Release Year of the Songs in the Sample\")\n",
    "plt.ylabel(\"Number of Songs\")\n",
    "plt.tight_layout()\n",
    "\n",
    "plt.show()"
   ]

  },
  {
   "cell_type": "code",
   "execution_count": null,

   "id": "8b859046",
   "metadata": {},
   "outputs": [],
   "source": [
    "# only streams over 1 billion\n",
    "bins_one_bill_df = bins_spotify_df[(bins_spotify_df[\"streams\"] >= 1000000000)]\n",
    "\n",
    "# value counts and new DF\n",
    "newbins_1bill_spotify_df = bins_one_bill_df[\"timeframe\"].value_counts()\n",
    "newbins_1bill_df = pd.DataFrame(newbins_1bill_spotify_df)\n",
    "\n",
    "#add back the index, sort values\n",
    "newbins_1bill_df.reset_index(inplace=True)\n",
    "newbins_1bill_df.sort_values(by='timeframe', ascending=True, inplace=True)\n",
    "newbins_1bill_df"
   ]

  },
  {
   "cell_type": "code",
   "execution_count": null,

   "id": "2d926909",
   "metadata": {},
   "outputs": [],
   "source": [
    "# bar chart \n",
    "x_axis = np.arange(len(newbins_1bill_df))\n",
    "tick_locations = [value for value in x_axis]\n",
    "plt.bar(x_axis, newbins_1bill_df[\"count\"], color='g', alpha=0.65, align=\"center\")\n",
    "plt.xticks(tick_locations, newbins_1bill_df[\"timeframe\"], rotation=15)\n",
    "\n",
    "plt.title(\"Release Year of the Songs with over 1 Billion Streams\")\n",
    "plt.ylabel(\"Number of Songs\")\n",
    "plt.tight_layout()\n",
    "\n",
    "plt.show()"
   ]

  },
  {
   "cell_type": "code",
   "execution_count": null,

   "id": "529fc58a",
   "metadata": {},
   "outputs": [],
   "source": [
    "bins_two_bill_df = bins_spotify_df[(bins_spotify_df[\"streams\"] >= 2000000000)]\n",
    "\n",
    "# value counts and new DF\n",
    "newbins_2bill_spotify_df = bins_two_bill_df[\"timeframe\"].value_counts()\n",
    "newbins_2bill_df = pd.DataFrame(newbins_2bill_spotify_df)\n",
    "\n",
    "#add back the index, sort values\n",
    "newbins_2bill_df.reset_index(inplace=True)\n",
    "newbins_2bill_df.sort_values(by='timeframe', ascending=True, inplace=True)\n",
    "newbins_2bill_df"
   ]

  },
  {
   "cell_type": "code",
   "execution_count": null,

   "id": "581a02b0",
   "metadata": {},
   "outputs": [],
   "source": [
    "# bar chart \n",
    "x_axis = np.arange(len(newbins_2bill_df))\n",
    "tick_locations = [value for value in x_axis]\n",
    "plt.bar(x_axis, newbins_2bill_df[\"count\"], color='g', alpha=0.65, align=\"center\")\n",
    "plt.xticks(tick_locations, newbins_2bill_df[\"timeframe\"], rotation=15)\n",
    "\n",
    "plt.title(\"Release Year of the Songs with over 2 Billion Streams\")\n",
    "plt.ylabel(\"Number of Songs\")\n",
    "plt.tight_layout()\n",
    "\n",
    "plt.show()"
   ]

  },
  {
   "cell_type": "code",
   "execution_count": null,

   "id": "c11bb927",
   "metadata": {},
   "outputs": [],
   "source": [
    "## Requirement 1: Create Plots to Showcase the Relationship Between Weather Variables and Latitude\n",
    "\n",
    "### Use the OpenWeatherMap API to retrieve weather data from the cities list generated in the started code"
   ]

  },
  {
   "cell_type": "code",
   "execution_count": null,

   "id": "4fc57b03",

   "metadata": {},
   "outputs": [],
   "source": []
  },
  {
   "cell_type": "code",
   "execution_count": null,

   "id": "f6087269",

   "metadata": {},
   "outputs": [],
   "source": []
  },
  {
   "cell_type": "code",
   "execution_count": null,

   "id": "f6bda51c",
   "metadata": {},
   "outputs": [],
   "source": [
    "#Austin!"
   ]

  },
  {
   "cell_type": "code",
   "execution_count": null,

   "id": "577f9a73",

   "metadata": {},
   "outputs": [],
   "source": []
  },
  {
   "cell_type": "code",
   "execution_count": null,

   "id": "4773b31b",

   "metadata": {},
   "outputs": [],
   "source": []
  },
  {
   "cell_type": "code",
   "execution_count": null,

   "id": "58a179b7",

   "metadata": {},
   "outputs": [],
   "source": []
  },
  {
   "cell_type": "code",
   "execution_count": null,

   "id": "29f67955",

   "metadata": {},
   "outputs": [],
   "source": []
  },
  {
   "cell_type": "code",
   "execution_count": null,

   "id": "a57857c9",

   "metadata": {},
   "outputs": [],
   "source": []
  },
  {
   "cell_type": "code",
   "execution_count": null,

   "id": "314b53c4",

   "metadata": {},
   "outputs": [],
   "source": []
  },
  {
   "cell_type": "code",
   "execution_count": null,

   "id": "a085db2a",

   "metadata": {},
   "outputs": [],
   "source": []
  },
  {
   "cell_type": "code",
   "execution_count": null,

   "id": "833cf1ad",

   "metadata": {},
   "outputs": [],
   "source": []
  },
  {
   "cell_type": "code",
   "execution_count": null,

   "id": "4e4732e5",

   "metadata": {},
   "outputs": [],
   "source": []
  },
  {
   "cell_type": "code",
   "execution_count": null,

   "id": "59749a3d",

   "metadata": {},
   "outputs": [],
   "source": []
  },
  {
   "cell_type": "code",
   "execution_count": null,

   "id": "662460bb",

   "metadata": {},
   "outputs": [],
   "source": []
  },
  {
   "cell_type": "code",
   "execution_count": null,

   "id": "cb9b6104",

   "metadata": {},
   "outputs": [],
   "source": []
  },
  {
   "cell_type": "code",
   "execution_count": null,

   "id": "98874026",

   "metadata": {},
   "outputs": [],
   "source": []
  },
  {
   "cell_type": "code",
   "execution_count": null,

   "id": "6625d183",
   "metadata": {},
   "outputs": [],
   "source": []
  },
  {
   "cell_type": "code",
   "execution_count": null,
   "id": "74f41c1c",
   "metadata": {},
   "outputs": [],
   "source": []
  },
  {
   "cell_type": "code",
   "execution_count": null,
   "id": "e9e3c03d",
   "metadata": {},
   "outputs": [],
   "source": []
  },
  {
   "cell_type": "code",
   "execution_count": null,
   "id": "2642d7aa",
   "metadata": {},
   "outputs": [],
   "source": []
  },
  {
   "cell_type": "code",
   "execution_count": null,
   "id": "7c8fbb30",
   "metadata": {},
   "outputs": [],
   "source": []
  },
  {
   "cell_type": "code",
   "execution_count": null,
   "id": "0e5d09ff",
   "metadata": {},
   "outputs": [],
   "source": []
  },
  {
   "cell_type": "code",
   "execution_count": null,
   "id": "8553236f",
   "metadata": {},
   "outputs": [],
   "source": []
  },
  {
   "cell_type": "code",
   "execution_count": null,
   "id": "8f81b017",
   "metadata": {},
   "outputs": [],
   "source": []
  },
  {
   "cell_type": "code",
   "execution_count": null,
   "id": "ea36b386",
   "metadata": {},
   "outputs": [],
   "source": []
  },
  {
   "cell_type": "code",
   "execution_count": null,
   "id": "9461d4b6",
   "metadata": {},
   "outputs": [],
   "source": []
  },
  {
   "cell_type": "code",
   "execution_count": null,
   "id": "7f64d4d5",
   "metadata": {},
   "outputs": [],
   "source": []
  },
  {
   "cell_type": "code",
   "execution_count": null,
   "id": "b6a586c1",
   "metadata": {},
   "outputs": [],
   "source": []
  },
  {
   "cell_type": "code",
   "execution_count": null,
   "id": "89b2436a",
   "metadata": {},
   "outputs": [],
   "source": []
  },
  {
   "cell_type": "code",
   "execution_count": null,
   "id": "e36fcdba",
   "metadata": {},
   "outputs": [],
   "source": []
  },
  {
   "cell_type": "code",
   "execution_count": null,
   "id": "cccf3c89",
   "metadata": {},
   "outputs": [],
   "source": []
  },
  {
   "cell_type": "code",
   "execution_count": null,
   "id": "08b2de54",
   "metadata": {},
   "outputs": [],
   "source": []
  },
  {
   "cell_type": "code",
   "execution_count": null,
   "id": "e53e6d89",
   "metadata": {},
   "outputs": [],
   "source": []
  },
  {
   "cell_type": "code",
   "execution_count": null,
   "id": "b6f09fdb",
   "metadata": {},
   "outputs": [],
   "source": []
  },
  {
   "cell_type": "code",
   "execution_count": null,
   "id": "7f1be3c5",
   "metadata": {},
   "outputs": [],
   "source": []
  },
  {
   "cell_type": "code",
   "execution_count": null,
   "id": "94e8791d",
   "metadata": {},
   "outputs": [],
   "source": []
  },
  {
   "cell_type": "code",
   "execution_count": null,
   "id": "1b1bd100",
   "metadata": {},
   "outputs": [],
   "source": []
  },
  {
   "cell_type": "code",
   "execution_count": null,
   "id": "fd0542c2",
   "metadata": {},
   "outputs": [],
   "source": []
  },
  {
   "cell_type": "code",
   "execution_count": null,
   "id": "e8e3b00b",
   "metadata": {},
   "outputs": [],
   "source": []
  },
  {
   "cell_type": "code",
   "execution_count": null,
   "id": "38ea3552",
   "metadata": {},
   "outputs": [],
   "source": []
  },
  {
   "cell_type": "code",
   "execution_count": null,
   "id": "d0050367",
   "metadata": {},
   "outputs": [],
   "source": []
  },
  {
   "cell_type": "code",
   "execution_count": null,
   "id": "3e4aa25f",
   "metadata": {},
   "outputs": [],
   "source": []
  },
  {
   "cell_type": "code",
   "execution_count": null,
   "id": "de8a5736",
   "metadata": {},
   "outputs": [],
   "source": []
  },
  {
   "cell_type": "code",
   "execution_count": null,
   "id": "575300e8",
   "metadata": {},
   "outputs": [],
   "source": []
  },
  {
   "cell_type": "code",
   "execution_count": null,
   "id": "80d698b1",
   "metadata": {},
   "outputs": [],
   "source": []
  },
  {
   "cell_type": "code",
   "execution_count": null,
   "id": "d171f975",
   "metadata": {},
   "outputs": [],
   "source": []
  },
  {
   "cell_type": "code",
   "execution_count": null,
   "id": "b7bd4d9d",
   "metadata": {},
   "outputs": [],
   "source": []
  },
  {
   "cell_type": "code",
   "execution_count": null,
   "id": "a7bdc03f",
   "metadata": {},
   "outputs": [],
   "source": []
  },
  {
   "cell_type": "code",
   "execution_count": null,
   "id": "d52b01db",
   "metadata": {},
   "outputs": [],
   "source": []
  },
  {
   "cell_type": "code",
   "execution_count": null,
   "id": "0b05e33d",
   "metadata": {},
   "outputs": [],
   "source": []
  },
  {
   "cell_type": "code",
   "execution_count": null,
   "id": "28fc7262",
   "metadata": {},
   "outputs": [],
   "source": []
  },
  {
   "cell_type": "code",
   "execution_count": null,
   "id": "75caeadc",
   "metadata": {},
   "outputs": [],
   "source": []
  },
  {
   "cell_type": "code",
   "execution_count": null,
   "id": "8b859046",
   "metadata": {},
   "outputs": [],
   "source": []
  },
  {
   "cell_type": "code",
   "execution_count": null,
   "id": "529fc58a",
   "metadata": {},
   "outputs": [],
   "source": []
  },
  {
   "cell_type": "code",
   "execution_count": null,
   "id": "581a02b0",
   "metadata": {},
   "outputs": [],
   "source": []
  },
  {
   "cell_type": "code",
   "execution_count": null,
   "id": "c11bb927",
   "metadata": {},
   "outputs": [],
   "source": []
  },
  {
   "cell_type": "code",
   "execution_count": null,
   "id": "9a761fef",
   "metadata": {},
   "outputs": [],
   "source": []
  },
  {
   "cell_type": "code",
   "execution_count": null,
   "id": "4fc57b03",
   "metadata": {},
   "outputs": [],
   "source": [
    "\n"
   ]
  },
  {
   "cell_type": "code",
   "execution_count": null,
   "id": "44cf8db9",
   "metadata": {},
   "outputs": [],
   "source": []
  },
  {
   "cell_type": "code",
   "execution_count": null,
   "id": "f12dbdf8",
   "metadata": {},
   "outputs": [],
   "source": []
  },
  {
   "cell_type": "code",
   "execution_count": null,
   "id": "d42dc5ff",
   "metadata": {},
   "outputs": [],
   "source": []
  },
  {
   "cell_type": "code",
   "execution_count": null,
   "id": "ba9db564",
   "metadata": {},
   "outputs": [],
   "source": []
  },
  {
   "cell_type": "code",
   "execution_count": null,
   "id": "6f935959",
   "metadata": {},
   "outputs": [],
   "source": []
  },
  {
   "cell_type": "code",
   "execution_count": null,
   "id": "2cfbe8cb",
   "metadata": {},
   "outputs": [],
   "source": []
  },
  {
   "cell_type": "code",
   "execution_count": null,
   "id": "f8c121a4",
   "metadata": {},
   "outputs": [],
   "source": []
  },
  {
   "cell_type": "code",
   "execution_count": null,
   "id": "c47f87c4",
   "metadata": {},
   "outputs": [],
   "source": []
  },
  {
   "cell_type": "code",
   "execution_count": null,
   "id": "4531549a",
   "metadata": {},
   "outputs": [],
   "source": []
  },
  {
   "cell_type": "code",
   "execution_count": null,
   "id": "c57defd2",
   "metadata": {},
   "outputs": [],
   "source": []
  },
  {
   "cell_type": "code",
   "execution_count": null,
   "id": "18adfa36",
   "metadata": {},
   "outputs": [],
   "source": []
  },
  {
   "cell_type": "code",
   "execution_count": null,
   "id": "07f34ec3",
   "metadata": {},
   "outputs": [],
   "source": []
  },
  {
   "cell_type": "code",
   "execution_count": null,
   "id": "de3bd6a2",
   "metadata": {},
   "outputs": [],
   "source": []
  },
  {
   "cell_type": "code",
   "execution_count": null,
   "id": "b4785ae0",
   "metadata": {},
   "outputs": [],
   "source": []
  },
  {
   "cell_type": "code",
   "execution_count": null,
   "id": "d1f7e326",
   "metadata": {},
   "outputs": [],
   "source": []
  },
  {
   "cell_type": "code",
   "execution_count": null,
   "id": "4575088e",
   "metadata": {},
   "outputs": [],
   "source": []
  },
  {
   "cell_type": "code",
   "execution_count": null,
   "id": "d4eeacf6",
   "metadata": {},
   "outputs": [],
   "source": []
  },
  {
   "cell_type": "code",
   "execution_count": null,
   "id": "941fe606",
   "metadata": {},
   "outputs": [],
   "source": []
  },
  {
   "cell_type": "code",
   "execution_count": null,
   "id": "f6087269",
   "metadata": {},
   "outputs": [],
   "source": []
  },
  {
   "cell_type": "code",
   "execution_count": null,
   "id": "8c8e5197",
   "metadata": {},
   "outputs": [],
   "source": []
  },
  {
   "cell_type": "code",
   "execution_count": null,
   "id": "bf550e0d",
   "metadata": {},
   "outputs": [],
   "source": []
  },
  {
   "cell_type": "code",
   "execution_count": null,
   "id": "f6bda51c",
   "metadata": {},
   "outputs": [],
   "source": [
    "#Austin!"
   ]
  },
  {
   "cell_type": "code",
   "execution_count": null,
   "id": "577f9a73",
   "metadata": {},
   "outputs": [],
   "source": [
    "#This Data gives us the top 100 streamed songs\n",
    "\n",
    "spotify_df= spotify_df.replace(',','', regex=True)\n",
    "spotify_df['in_deezer_playlists'] = spotify_df['in_deezer_playlists'].astype(int)\n",
    "\n",
    "playlists = spotify_df[[\"track_name\", \"streams\", \"in_spotify_playlists\", \"in_apple_playlists\", \"in_deezer_playlists\"]]\n",
    "playlists['sum'] = playlists.apply(lambda row: row['in_apple_playlists'] + row['in_spotify_playlists'] + row['in_deezer_playlists'], axis=1)\n",
    "\n",
    "playlists_final = playlists\n",
    "playlists_final.sort_values(by='streams', ascending=False)\n",
    "top_streams = playlists_final.nlargest(100, 'streams')\n",
    "top_streams"
   ]
  },
  {
   "cell_type": "code",
   "execution_count": null,
   "id": "e061a131",
   "metadata": {},
   "outputs": [],
   "source": [
    "#this gives us the correlation between top 100 songs streamed vs the amount of playlists they are in.\n",
    "\n",
    "correlation = st.pearsonr(top_streams['sum'], top_streams['streams'])\n",
    "slope, int, rvalue, p, std_err = st.linregress(top_streams['sum'], top_streams['streams'])\n",
    "print(f\"The correlation coefficient between Total Amount of Playlists and Amount of Streams is {round(correlation[0],10)}\")\n",
    "print(f\"The r-value is : {rvalue**2}\")\n",
    "\n",
    "\n",
    "regressio_values = slope * (top_streams['sum']) + int\n",
    "line_eq = \"y = \" + str(round(slope,2)) + \"x + \" + str(round(int,2))\n",
    "plt.scatter(top_streams['sum'], top_streams['streams'])\n",
    "plt.plot(top_streams['sum'],regressio_values,\"b-\")\n",
    "plt.annotate(line_eq,(40000, 3000000000),fontsize=11,color=\"red\")\n",
    "plt.ylabel(\"Streams (billions)\")\n",
    "plt.xlabel(\"Total amount of playlists\")\n",
    "plt.show()"
   ]
  },
  {
   "cell_type": "code",
   "execution_count": null,
   "id": "f7cddf26",
   "metadata": {},
   "outputs": [],
   "source": [
    "#this gives us the correlation between top 100 songs in playlist against the amount of time they are streamed.\n",
    "top_total_playlists = playlists.nlargest(100, 'sum')\n",
    "top_total_playlists.sort_values(by='sum', ascending=False)\n",
    "\n",
    "\n",
    "correlation = st.pearsonr(top_total_playlists['sum'], top_total_playlists['streams'])\n",
    "slope, int, rvalue, p, std_err = st.linregress(top_total_playlists['sum'], top_total_playlists['streams'])\n",
    "print(f\"The correlation coefficient between Total Amount of Playlists and Amount of Streams is {round(correlation[0],10)}\")\n",
    "print(f\"The r-value is : {rvalue**2}\")\n",
    "\n",
    "regressio_values = slope * (top_total_playlists['sum']) + int\n",
    "line_eq = \"y = \" + str(round(slope,2)) + \"x + \" + str(round(int,2))\n",
    "plt.scatter(top_total_playlists['sum'], top_total_playlists['streams'])\n",
    "plt.plot(top_total_playlists['sum'],regressio_values,\"b-\")\n",
    "plt.annotate(line_eq,(50000,3000000000),fontsize=11,color=\"red\")\n",
    "plt.ylabel(\"Streams (billions)\")\n",
    "plt.xlabel(\"Total amount of playlists\")\n",
    "plt.show()\n"
   ]
  },
  {
   "cell_type": "code",
   "execution_count": null,
   "id": "58a179b7",
   "metadata": {},
   "outputs": [],
   "source": [
    "# This chart shows top 100 songs by the amount of playlists the songs they are in.\n",
    "top_playlists = playlists.sort_values(by='sum',ascending= False).head(100)\n",
    "top_total = top_playlists['streams'].sum()\n",
    "print(f\"total amount of streams is: {top_total}\")\n",
    "top_playlists"
   ]
  },
  {
   "cell_type": "code",
   "execution_count": null,
   "id": "6425c523",
   "metadata": {},
   "outputs": [],
   "source": [
    "# This chart shows bottom 100 songs by the amount of playlists the songs they are in.\n",
    "\n",
    "bottom_playlists = playlists.sort_values(by='sum').head(100)\n",
    "bottom_total = bottom_playlists['streams'].sum()\n",
    "print(f\"total amount of streams is: {bottom_total}\")\n",
    "bottom_playlists"
   ]
  },
  {
   "cell_type": "code",
   "execution_count": null,
   "id": "7954a49f",
   "metadata": {},
   "outputs": [],
   "source": [
    "#shows plots of songs with the top amount of playlists vs the bottom amount of playlists\n",
    "\n",
    "plt.scatter(top_playlists['streams'], top_playlists['sum'])\n",
    "plt.scatter(bottom_playlists['streams'], bottom_playlists['sum'])\n",
    "plt.xlabel(\"Streams (billions)\")\n",
    "plt.ylabel(\"Total amount of playlists\")\n",
    "\n",
    "plt.show()"
   ]
  },
  {
   "cell_type": "code",
   "execution_count": null,
   "id": "a57857c9",
   "metadata": {},
   "outputs": [],
   "source": [
    "# This chart shows the placement of song in spotify charts\n",
    "\n",
    "charts = spotify_df[[\"track_name\", \"streams\", \"in_spotify_charts\"]]\n",
    "\n",
    "\n",
    "top_spotify_charts = charts.loc[charts[\"in_spotify_charts\"] != 0]\n",
    "top_spotify_charts.sort_values(by='in_spotify_charts')"
   ]
  },
  {
   "cell_type": "code",
   "execution_count": null,
   "id": "314b53c4",
   "metadata": {},
   "outputs": [],
   "source": [
    "#this gives us the correlation between the top 100 number of songs in charts vs the amount of streams\n",
    "\n",
    "correlation = st.pearsonr(top_spotify_charts['in_spotify_charts'], top_spotify_charts['streams'])\n",
    "print(f\"The correlation coefficient between Placement in Spotify charts and Amount of Streams is {round(correlation[0],10)}\")\n",
    "\n",
    "\n",
    "\n",
    "plt.scatter(top_spotify_charts['in_spotify_charts'], top_spotify_charts['streams'])\n",
    "plt.ylabel(\"Streams (billions)\")\n",
    "plt.xlabel(\"Placement in Spotify charts\")\n",
    "plt.show()"
   ]
  },
  {
   "cell_type": "code",
   "execution_count": null,
   "id": "a085db2a",
   "metadata": {},
   "outputs": [],
   "source": [
    "charts = spotify_df[[\"track_name\", \"streams\", \"in_apple_charts\"]]\n",
    "\n",
    "\n",
    "top_apple_charts = charts.loc[charts[\"in_apple_charts\"] != 0]\n",
    "top_apple_charts.sort_values(by='in_apple_charts')\n"
   ]
  },
  {
   "cell_type": "code",
   "execution_count": null,
   "id": "833cf1ad",
   "metadata": {},
   "outputs": [],
   "source": [
    "correlation = st.pearsonr(top_apple_charts['in_apple_charts'], top_apple_charts['streams'])\n",
    "print(f\"The correlation coefficient between Placement in Apple charts and Amount of Streams is {round(correlation[0],10)}\")\n",
    "\n",
    "plt.scatter(top_apple_charts['in_apple_charts'], top_apple_charts['streams'])\n",
    "plt.ylabel(\"Streams (billions)\")\n",
    "plt.xlabel(\"Placement in Apple charts\")\n",
    "plt.show()"
   ]
  },
  {
   "cell_type": "code",
   "execution_count": null,
   "id": "59749a3d",
   "metadata": {},
   "outputs": [],
   "source": [
    "charts = spotify_df[[\"track_name\", \"streams\", \"in_deezer_charts\"]]\n",
    "\n",
    "\n",
    "top_deezer_charts = charts.loc[charts[\"in_deezer_charts\"] != 0]\n",
    "top_deezer_charts.sort_values(by='in_deezer_charts')"
   ]
  },
  {
   "cell_type": "code",
   "execution_count": null,
   "id": "662460bb",
   "metadata": {},
   "outputs": [],
   "source": [
    "correlation = st.pearsonr(top_deezer_charts['in_deezer_charts'], top_deezer_charts['streams'])\n",
    "print(f\"The correlation coefficient between Placement in Deezer charts and Amount of Streams is {round(correlation[0],10)}\")\n",
    "\n",
    "plt.scatter(top_deezer_charts['in_deezer_charts'], top_deezer_charts['streams'])\n",
    "plt.ylabel(\"Streams (billions)\")\n",
    "plt.xlabel(\"Placement in Deezer charts\")\n",
    "plt.show()"
   ]
  },
  {
   "cell_type": "code",
   "execution_count": null,
   "id": "cb9b6104",
   "metadata": {},
   "outputs": [],
   "source": [
    "charts = spotify_df[[\"track_name\", \"streams\", \"in_shazam_charts\"]]\n",
    "cleaned_charts = charts.dropna()\n",
    "cleaned_charts['in_shazam_charts'] = cleaned_charts['in_shazam_charts'].astype(int)\n",
    "\n",
    "\n",
    "top_shazam_charts = cleaned_charts.loc[cleaned_charts[\"in_shazam_charts\"] != 0]\n",
    "top_shazam_charts.sort_values(by='in_shazam_charts')\n"
   ]
  },
  {
   "cell_type": "code",
   "execution_count": null,
   "id": "98874026",
   "metadata": {},
   "outputs": [],
   "source": [
    "correlation = st.pearsonr(top_shazam_charts['in_shazam_charts'], top_shazam_charts['streams'])\n",
    "print(f\"The correlation coefficient between Total Amount of Playlists and Amount of Streams is {round(correlation[0],10)}\")\n",
    "\n",
    "\n",
    "plt.scatter(top_shazam_charts['in_shazam_charts'], top_shazam_charts['streams'])\n",
    "plt.ylabel(\"Streams (billions)\")\n",
    "plt.xlabel(\"Placement in Shazam charts\")\n",
    "plt.show()"
   ]
  },
  {
   "cell_type": "code",
   "execution_count": null,

   "id": "55fb6f34",
   "metadata": {},
   "outputs": [],
   "source": []
  },
  {
   "cell_type": "code",
   "execution_count": null,
   "id": "f4c90590",
   "metadata": {},
   "outputs": [],
   "source": []
  },
  {
   "cell_type": "code",
   "execution_count": null,
   "id": "2018606b",
   "metadata": {},
   "outputs": [],
   "source": []
  },
  {
   "cell_type": "code",
   "execution_count": null,
   "id": "d8673e57",
   "metadata": {},
   "outputs": [],
   "source": []
  },
  {
   "cell_type": "code",
   "execution_count": null,
   "id": "e072ae21",
   "metadata": {},
   "outputs": [],
   "source": []
  },
  {
   "cell_type": "code",
   "execution_count": null,
   "id": "bf10685b",
   "metadata": {},
   "outputs": [],
   "source": []
  },
  {
   "cell_type": "code",
   "execution_count": null,
   "id": "8272af09",
   "metadata": {},
   "outputs": [],
   "source": []
  },
  {
   "cell_type": "code",
   "execution_count": null,
   "id": "ba3657d4",
   "metadata": {},
   "outputs": [],
   "source": []
  },
  {
   "cell_type": "code",
   "execution_count": null,
   "id": "d186ce6d",
   "metadata": {},
   "outputs": [],
   "source": []
  },
  {
   "cell_type": "code",
   "execution_count": null,
   "id": "c9d8593a",
   "metadata": {},
   "outputs": [],
   "source": []
  },
  {
   "cell_type": "code",
   "execution_count": null,
   "id": "a7270b53",
   "metadata": {},
   "outputs": [],
   "source": []
  },
  {
   "cell_type": "code",
   "execution_count": null,
   "id": "87ddb110",
   "metadata": {},
   "outputs": [],
   "source": []
  },
  {
   "cell_type": "code",
   "execution_count": null,
   "id": "37d27072",
   "metadata": {},
   "outputs": [],
   "source": []
  },
  {
   "cell_type": "code",
   "execution_count": null,
   "id": "ad6930f5",
   "metadata": {},
   "outputs": [],
   "source": []
  },
  {
   "cell_type": "code",
   "execution_count": null,
   "id": "0d4febfe",
   "metadata": {},
   "outputs": [],
   "source": []
  },
  {
   "cell_type": "code",
   "execution_count": null,
   "id": "8d30c543",
   "metadata": {},
   "outputs": [],
   "source": []
  },
  {
   "cell_type": "code",
   "execution_count": null,
   "id": "5b7cd704",
   "metadata": {},
   "outputs": [],
   "source": []
  },
  {
   "cell_type": "code",
   "execution_count": null,
   "id": "535d53fd",
   "metadata": {},
   "outputs": [],
   "source": []
  },
  {
   "cell_type": "code",
   "execution_count": null,
   "id": "f3775eee",
   "metadata": {},
   "outputs": [],
   "source": []
  },
  {
   "cell_type": "code",
   "execution_count": null,
   "id": "6b2ccf74",
   "metadata": {},
   "outputs": [],
   "source": []
  },
  {
   "cell_type": "code",
   "execution_count": null,
   "id": "e429dc1e",
   "metadata": {},
   "outputs": [],
   "source": []
  },
  {
   "cell_type": "code",
   "execution_count": null,
   "id": "261cb300",
   "metadata": {},
   "outputs": [],
   "source": []
  },
  {
   "cell_type": "code",
   "execution_count": null,
   "id": "6fa3ecb9",
   "metadata": {},
   "outputs": [],
   "source": []
  },
  {
   "cell_type": "code",
   "execution_count": null,
   "id": "b169a1f0",
   "metadata": {},
   "outputs": [],
   "source": []
  },
  {
   "cell_type": "code",
   "execution_count": null,
   "id": "d5d9bf5d",
   "metadata": {},
   "outputs": [],
   "source": []
  },
  {
   "cell_type": "code",
   "execution_count": null,
   "id": "12ffba08",
   "metadata": {},
   "outputs": [],
   "source": []
  },
  {
   "cell_type": "code",
   "execution_count": null,
   "id": "6056da88",
   "metadata": {},
   "outputs": [],
   "source": []
  },
  {
   "cell_type": "code",
   "execution_count": null,
   "id": "3d27f1ec",
   "metadata": {},
   "outputs": [],
   "source": []
  },
  {
   "cell_type": "code",
   "execution_count": null,
   "id": "8958ea78",
   "metadata": {},
   "outputs": [],
   "source": []
  },
  {
   "cell_type": "code",
   "execution_count": null,
   "id": "d0c1a2d9",
   "metadata": {},
   "outputs": [],
   "source": []
  },
  {
   "cell_type": "code",
   "execution_count": null,
   "id": "da78ae58",
   "metadata": {},
   "outputs": [],
   "source": []
  },
  {
   "cell_type": "code",
   "execution_count": null,
   "id": "99d34726",
   "metadata": {},
   "outputs": [],
   "source": []
  },
  {
   "cell_type": "code",
   "execution_count": null,
   "id": "e2f5e859",
   "metadata": {},
   "outputs": [],
   "source": []
  },
  {
   "cell_type": "code",
   "execution_count": null,
   "id": "24ac1504",
   "metadata": {},
   "outputs": [],
   "source": []
  },
  {
   "cell_type": "code",
   "execution_count": null,
   "id": "f99db9bb",
   "metadata": {},
   "outputs": [],
   "source": []
  },
  {
   "cell_type": "code",
   "execution_count": null,
   "id": "78a1ed3e",
   "metadata": {},
   "outputs": [],
   "source": []
  },
  {
   "cell_type": "code",
   "execution_count": null,
   "id": "b7c584f7",
   "metadata": {},
   "outputs": [],
   "source": []
  },
  {
   "cell_type": "code",
   "execution_count": null,
   "id": "8dde32cc",
   "metadata": {},
   "outputs": [],
   "source": []
  },
  {
   "cell_type": "code",
   "execution_count": null,
   "id": "6dd12c92",
   "metadata": {},
   "outputs": [],
   "source": []
  },
  {
   "cell_type": "code",
   "execution_count": null,
   "id": "c044c086",
   "metadata": {},
   "outputs": [],
   "source": []
  },
  {
   "cell_type": "code",
   "execution_count": null,
   "id": "a4a64852",
   "metadata": {},
   "outputs": [],
   "source": []
  },
  {
   "cell_type": "code",
   "execution_count": null,
   "id": "b8f9cfb6",
   "metadata": {},
   "outputs": [],
   "source": []
  },
  {
   "cell_type": "code",
   "execution_count": null,
   "id": "5445c50e",
   "metadata": {},
   "outputs": [],
   "source": []
  },
  {
   "cell_type": "code",
   "execution_count": null,
   "id": "ab3d2563",
   "metadata": {},
   "outputs": [],
   "source": []
  },
  {
   "cell_type": "code",
   "execution_count": null,
   "id": "6a42270c",
   "metadata": {},
   "outputs": [],
   "source": []
  },
  {
   "cell_type": "code",
   "execution_count": null,
   "id": "dd10b59d",
   "metadata": {},
   "outputs": [],
   "source": []
  },
  {
   "cell_type": "code",
   "execution_count": null,
   "id": "bc9fefa0",
   "metadata": {},
   "outputs": [],
   "source": []
  },
  {
   "cell_type": "code",
   "execution_count": null,
   "id": "dc82ac7a",
   "metadata": {},
   "outputs": [],
   "source": []
  },
  {
   "cell_type": "code",
   "execution_count": null,
   "id": "96847b97",
   "metadata": {},
   "outputs": [],
   "source": []
  },
  {
   "cell_type": "code",
   "execution_count": null,
   "id": "b05485b7",
   "metadata": {},
   "outputs": [],
   "source": []
  },
  {
   "cell_type": "code",
   "execution_count": null,
   "id": "19c3828f",
   "metadata": {},
   "outputs": [],
   "source": []
  },
  {
   "cell_type": "code",
   "execution_count": null,
   "id": "6591e72e",
   "metadata": {},
   "outputs": [],
   "source": []
  },
  {
   "cell_type": "code",
   "execution_count": null,
   "id": "33c758c9",
   "metadata": {},
   "outputs": [],
   "source": []
  },
  {
   "cell_type": "code",
   "execution_count": null,
   "id": "857aee68",
   "metadata": {},
   "outputs": [],
   "source": []
  },
  {
   "cell_type": "code",
   "execution_count": null,
   "id": "dbe86f06",
   "metadata": {},
   "outputs": [],
   "source": []
  },
  {
   "cell_type": "code",
   "execution_count": null,
   "id": "e1671afa",
   "metadata": {},
   "outputs": [],
   "source": []
  },
  {
   "cell_type": "code",
   "execution_count": null,
   "id": "9302a49e",
   "metadata": {},
   "outputs": [],
   "source": [
    "#Dan"
   ]
  },
  {
   "cell_type": "code",
   "execution_count": null,
   "id": "27a930ed",
   "metadata": {},
   "outputs": [],
   "source": []
  },
  {
   "cell_type": "code",
   "execution_count": null,
   "id": "896600a6",
   "metadata": {},
   "outputs": [],
   "source": []
  }
 ],
 "metadata": {
  "kernelspec": {
   "display_name": "Python 3 (ipykernel)",
   "language": "python",
   "name": "python3"
  },
  "language_info": {
   "codemirror_mode": {
    "name": "ipython",
    "version": 3
   },
   "file_extension": ".py",
   "mimetype": "text/x-python",
   "name": "python",
   "nbconvert_exporter": "python",
   "pygments_lexer": "ipython3",
   "version": "0.0.0"
  }
 },
 "nbformat": 4,
 "nbformat_minor": 5
}
