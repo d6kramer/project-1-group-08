{
 "cells": [
  {
   "cell_type": "markdown",
   "id": "6ff14472-d9d4-4bdb-804a-3d9be009dbf3",
   "metadata": {},
   "source": [
    "Starter file for Project 1 - need to load in Spotify CSV!\n"
   ]
  },
  {
   "cell_type": "code",
   "execution_count": null,
   "id": "1b862541",
   "metadata": {},
   "outputs": [],
   "source": [
    "# Import Dependencies\n",
    "import pandas as pd\n",
    "from pathlib import Path\n",
    "from matplotlib import pyplot as plt\n",
    "import numpy as np\n",
    "import scipy.stats as st"
   ]
  },
  {
   "cell_type": "code",
   "execution_count": null,
   "id": "0df8a118",
   "metadata": {},
   "outputs": [],
   "source": [
    "csv_path = Path(\"Resources/spotify-2023.csv\")\n",
    "\n",
    "spotify_df = pd.read_csv(csv_path, encoding='iso-8859-1')\n",
    "\n",
    "#Basic Dataframe with all information\n",
    "spotify_df.head()"
   ]
  },
  {
   "cell_type": "code",
   "execution_count": null,
   "id": "e57f5424",
   "metadata": {},
   "outputs": [],
   "source": [
    "# David!"
   ]
  },
  {
   "cell_type": "code",
   "execution_count": null,
   "id": "efe84798",
   "metadata": {},
   "outputs": [],
   "source": []
  },
  {
   "cell_type": "code",
   "execution_count": null,
   "id": "067bbc1d",
   "metadata": {},
   "outputs": [],
   "source": []
  },
  {
   "cell_type": "code",
   "execution_count": null,
   "id": "d2a8464d",
   "metadata": {},
   "outputs": [],
   "source": []
  },
  {
   "cell_type": "code",
   "execution_count": null,
   "id": "d5dc5ef2",
   "metadata": {},
   "outputs": [],
   "source": []
  },
  {
   "cell_type": "code",
   "execution_count": null,
   "id": "60baff69",
   "metadata": {},
   "outputs": [],
   "source": []
  },
  {
   "cell_type": "code",
   "execution_count": null,
   "id": "5c98ae3d",
   "metadata": {},
   "outputs": [],
   "source": []
  },
  {
   "cell_type": "code",
   "execution_count": null,
   "id": "8553236f",
   "metadata": {},
   "outputs": [],
   "source": []
  },
  {
   "cell_type": "code",
   "execution_count": null,
   "id": "8f81b017",
   "metadata": {},
   "outputs": [],
   "source": []
  },
  {
   "cell_type": "code",
   "execution_count": null,
   "id": "ea36b386",
   "metadata": {},
   "outputs": [],
   "source": []
  },
  {
   "cell_type": "code",
   "execution_count": null,
   "id": "9461d4b6",
   "metadata": {},
   "outputs": [],
   "source": []
  },
  {
   "cell_type": "code",
   "execution_count": null,
   "id": "7f64d4d5",
   "metadata": {},
   "outputs": [],
   "source": []
  },
  {
   "cell_type": "code",
   "execution_count": null,
   "id": "b6a586c1",
   "metadata": {},
   "outputs": [],
   "source": []
  },
  {
   "cell_type": "code",
   "execution_count": null,
   "id": "89b2436a",
   "metadata": {},
   "outputs": [],
   "source": []
  },
  {
   "cell_type": "code",
   "execution_count": null,
   "id": "e36fcdba",
   "metadata": {},
   "outputs": [],
   "source": []
  },
  {
   "cell_type": "code",
   "execution_count": null,
   "id": "cccf3c89",
   "metadata": {},
   "outputs": [],
   "source": []
  },
  {
   "cell_type": "code",
   "execution_count": null,
   "id": "08b2de54",
   "metadata": {},
   "outputs": [],
   "source": []
  },
  {
   "cell_type": "code",
   "execution_count": null,
   "id": "e53e6d89",
   "metadata": {},
   "outputs": [],
   "source": []
  },
  {
   "cell_type": "code",
   "execution_count": null,
   "id": "b6f09fdb",
   "metadata": {},
   "outputs": [],
   "source": []
  },
  {
   "cell_type": "code",
   "execution_count": null,
   "id": "7f1be3c5",
   "metadata": {},
   "outputs": [],
   "source": []
  },
  {
   "cell_type": "code",
   "execution_count": null,
   "id": "94e8791d",
   "metadata": {},
   "outputs": [],
   "source": []
  },
  {
   "cell_type": "code",
   "execution_count": null,
   "id": "1b1bd100",
   "metadata": {},
   "outputs": [],
   "source": []
  },
  {
   "cell_type": "code",
   "execution_count": null,
   "id": "fd0542c2",
   "metadata": {},
   "outputs": [],
   "source": []
  },
  {
   "cell_type": "code",
   "execution_count": null,
   "id": "e8e3b00b",
   "metadata": {},
   "outputs": [],
   "source": []
  },
  {
   "cell_type": "code",
   "execution_count": null,
   "id": "38ea3552",
   "metadata": {},
   "outputs": [],
   "source": []
  },
  {
   "cell_type": "code",
   "execution_count": null,
   "id": "d0050367",
   "metadata": {},
   "outputs": [],
   "source": []
  },
  {
   "cell_type": "code",
   "execution_count": null,
   "id": "3e4aa25f",
   "metadata": {},
   "outputs": [],
   "source": []
  },
  {
   "cell_type": "code",
   "execution_count": null,
   "id": "de8a5736",
   "metadata": {},
   "outputs": [],
   "source": []
  },
  {
   "cell_type": "code",
   "execution_count": null,
   "id": "575300e8",
   "metadata": {},
   "outputs": [],
   "source": []
  },
  {
   "cell_type": "code",
   "execution_count": null,
   "id": "80d698b1",
   "metadata": {},
   "outputs": [],
   "source": []
  },
  {
   "cell_type": "code",
   "execution_count": null,
   "id": "d171f975",
   "metadata": {},
   "outputs": [],
   "source": []
  },
  {
   "cell_type": "code",
   "execution_count": null,
   "id": "b7bd4d9d",
   "metadata": {},
   "outputs": [],
   "source": []
  },
  {
   "cell_type": "code",
   "execution_count": null,
   "id": "a7bdc03f",
   "metadata": {},
   "outputs": [],
   "source": []
  },
  {
   "cell_type": "code",
   "execution_count": null,
   "id": "d52b01db",
   "metadata": {},
   "outputs": [],
   "source": []
  },
  {
   "cell_type": "code",
   "execution_count": null,
   "id": "0b05e33d",
   "metadata": {},
   "outputs": [],
   "source": []
  },
  {
   "cell_type": "code",
   "execution_count": null,
   "id": "28fc7262",
   "metadata": {},
   "outputs": [],
   "source": []
  },
  {
   "cell_type": "code",
   "execution_count": null,
   "id": "75caeadc",
   "metadata": {},
   "outputs": [],
   "source": []
  },
  {
   "cell_type": "code",
   "execution_count": null,
   "id": "8b859046",
   "metadata": {},
   "outputs": [],
   "source": []
  },
  {
   "cell_type": "code",
   "execution_count": null,
   "id": "529fc58a",
   "metadata": {},
   "outputs": [],
   "source": []
  },
  {
   "cell_type": "code",
   "execution_count": null,
   "id": "581a02b0",
   "metadata": {},
   "outputs": [],
   "source": []
  },
  {
   "cell_type": "code",
   "execution_count": null,
   "id": "c11bb927",
   "metadata": {},
   "outputs": [],
   "source": []
  },
  {
   "cell_type": "code",
   "execution_count": null,
   "id": "9a761fef",
   "metadata": {},
   "outputs": [],
   "source": []
  },
  {
   "cell_type": "code",
   "execution_count": null,
   "id": "4fc57b03",
   "metadata": {},
   "outputs": [],
   "source": []
  },
  {
   "cell_type": "code",
   "execution_count": null,
   "id": "f6087269",
   "metadata": {},
   "outputs": [],
   "source": []
  },
  {
   "cell_type": "code",
   "execution_count": null,
   "id": "f6bda51c",
   "metadata": {},
   "outputs": [],
   "source": [
    "#Austin!"
   ]
  },
  {
   "cell_type": "code",
   "execution_count": null,
   "id": "577f9a73",
   "metadata": {},
   "outputs": [],
   "source": []
  },
  {
   "cell_type": "code",
   "execution_count": null,
   "id": "4773b31b",
   "metadata": {},
   "outputs": [],
   "source": []
  },
  {
   "cell_type": "code",
   "execution_count": null,
   "id": "58a179b7",
   "metadata": {},
   "outputs": [],
   "source": []
  },
  {
   "cell_type": "code",
   "execution_count": null,
   "id": "29f67955",
   "metadata": {},
   "outputs": [],
   "source": []
  },
  {
   "cell_type": "code",
   "execution_count": null,
   "id": "a57857c9",
   "metadata": {},
   "outputs": [],
   "source": []
  },
  {
   "cell_type": "code",
   "execution_count": null,
   "id": "314b53c4",
   "metadata": {},
   "outputs": [],
   "source": []
  },
  {
   "cell_type": "code",
   "execution_count": null,
   "id": "a085db2a",
   "metadata": {},
   "outputs": [],
   "source": []
  },
  {
   "cell_type": "code",
   "execution_count": null,
   "id": "833cf1ad",
   "metadata": {},
   "outputs": [],
   "source": []
  },
  {
   "cell_type": "code",
   "execution_count": null,
   "id": "4e4732e5",
   "metadata": {},
   "outputs": [],
   "source": []
  },
  {
   "cell_type": "code",
   "execution_count": null,
   "id": "59749a3d",
   "metadata": {},
   "outputs": [],
   "source": []
  },
  {
   "cell_type": "code",
   "execution_count": null,
   "id": "662460bb",
   "metadata": {},
   "outputs": [],
   "source": []
  },
  {
   "cell_type": "code",
   "execution_count": null,
   "id": "cb9b6104",
   "metadata": {},
   "outputs": [],
   "source": []
  },
  {
   "cell_type": "code",
   "execution_count": null,
   "id": "98874026",
   "metadata": {},
   "outputs": [],
   "source": []
  },
  {
   "cell_type": "code",
   "execution_count": null,
   "id": "55fb6f34",
   "metadata": {},
   "outputs": [],
   "source": []
  },
  {
   "cell_type": "code",
   "execution_count": null,
   "id": "f4c90590",
   "metadata": {},
   "outputs": [],
   "source": []
  },
  {
   "cell_type": "code",
   "execution_count": null,
   "id": "2018606b",
   "metadata": {},
   "outputs": [],
   "source": []
  },
  {
   "cell_type": "code",
   "execution_count": null,
   "id": "d8673e57",
   "metadata": {},
   "outputs": [],
   "source": []
  },
  {
   "cell_type": "code",
   "execution_count": null,
   "id": "e072ae21",
   "metadata": {},
   "outputs": [],
   "source": []
  },
  {
   "cell_type": "code",
   "execution_count": null,
   "id": "bf10685b",
   "metadata": {},
   "outputs": [],
   "source": []
  },
  {
   "cell_type": "code",
   "execution_count": null,
   "id": "8272af09",
   "metadata": {},
   "outputs": [],
   "source": []
  },
  {
   "cell_type": "code",
   "execution_count": null,
   "id": "ba3657d4",
   "metadata": {},
   "outputs": [],
   "source": []
  },
  {
   "cell_type": "code",
   "execution_count": null,
   "id": "d186ce6d",
   "metadata": {},
   "outputs": [],
   "source": []
  },
  {
   "cell_type": "code",
   "execution_count": null,
   "id": "c9d8593a",
   "metadata": {},
   "outputs": [],
   "source": []
  },
  {
   "cell_type": "code",
   "execution_count": null,
   "id": "a7270b53",
   "metadata": {},
   "outputs": [],
   "source": []
  },
  {
   "cell_type": "code",
   "execution_count": null,
   "id": "87ddb110",
   "metadata": {},
   "outputs": [],
   "source": []
  },
  {
   "cell_type": "code",
   "execution_count": null,
   "id": "37d27072",
   "metadata": {},
   "outputs": [],
   "source": []
  },
  {
   "cell_type": "code",
   "execution_count": null,
   "id": "ad6930f5",
   "metadata": {},
   "outputs": [],
   "source": []
  },
  {
   "cell_type": "code",
   "execution_count": null,
   "id": "0d4febfe",
   "metadata": {},
   "outputs": [],
   "source": []
  },
  {
   "cell_type": "code",
   "execution_count": null,
   "id": "8d30c543",
   "metadata": {},
   "outputs": [],
   "source": []
  },
  {
   "cell_type": "code",
   "execution_count": null,
   "id": "5b7cd704",
   "metadata": {},
   "outputs": [],
   "source": []
  },
  {
   "cell_type": "code",
   "execution_count": null,
   "id": "535d53fd",
   "metadata": {},
   "outputs": [],
   "source": []
  },
  {
   "cell_type": "code",
   "execution_count": null,
   "id": "f3775eee",
   "metadata": {},
   "outputs": [],
   "source": []
  },
  {
   "cell_type": "code",
   "execution_count": null,
   "id": "6b2ccf74",
   "metadata": {},
   "outputs": [],
   "source": []
  },
  {
   "cell_type": "code",
   "execution_count": null,
   "id": "e429dc1e",
   "metadata": {},
   "outputs": [],
   "source": []
  },
  {
   "cell_type": "code",
   "execution_count": null,
   "id": "261cb300",
   "metadata": {},
   "outputs": [],
   "source": []
  },
  {
   "cell_type": "code",
   "execution_count": null,
   "id": "6fa3ecb9",
   "metadata": {},
   "outputs": [],
   "source": []
  },
  {
   "cell_type": "code",
   "execution_count": null,
   "id": "b169a1f0",
   "metadata": {},
   "outputs": [],
   "source": []
  },
  {
   "cell_type": "code",
   "execution_count": null,
   "id": "d5d9bf5d",
   "metadata": {},
   "outputs": [],
   "source": []
  },
  {
   "cell_type": "code",
   "execution_count": null,
   "id": "12ffba08",
   "metadata": {},
   "outputs": [],
   "source": []
  },
  {
   "cell_type": "code",
   "execution_count": null,
   "id": "6056da88",
   "metadata": {},
   "outputs": [],
   "source": []
  },
  {
   "cell_type": "code",
   "execution_count": null,
   "id": "3d27f1ec",
   "metadata": {},
   "outputs": [],
   "source": []
  },
  {
   "cell_type": "code",
   "execution_count": null,
   "id": "8958ea78",
   "metadata": {},
   "outputs": [],
   "source": []
  },
  {
   "cell_type": "code",
   "execution_count": null,
   "id": "d0c1a2d9",
   "metadata": {},
   "outputs": [],
   "source": []
  },
  {
   "cell_type": "code",
   "execution_count": null,
   "id": "da78ae58",
   "metadata": {},
   "outputs": [],
   "source": []
  },
  {
   "cell_type": "code",
   "execution_count": null,
   "id": "99d34726",
   "metadata": {},
   "outputs": [],
   "source": []
  },
  {
   "cell_type": "code",
   "execution_count": null,
   "id": "e2f5e859",
   "metadata": {},
   "outputs": [],
   "source": []
  },
  {
   "cell_type": "code",
   "execution_count": null,
   "id": "24ac1504",
   "metadata": {},
   "outputs": [],
   "source": []
  },
  {
   "cell_type": "code",
   "execution_count": null,
   "id": "f99db9bb",
   "metadata": {},
   "outputs": [],
   "source": []
  },
  {
   "cell_type": "code",
   "execution_count": null,
   "id": "78a1ed3e",
   "metadata": {},
   "outputs": [],
   "source": []
  },
  {
   "cell_type": "code",
   "execution_count": null,
   "id": "b7c584f7",
   "metadata": {},
   "outputs": [],
   "source": []
  },
  {
   "cell_type": "code",
   "execution_count": null,
   "id": "8dde32cc",
   "metadata": {},
   "outputs": [],
   "source": []
  },
  {
   "cell_type": "code",
   "execution_count": null,
   "id": "6dd12c92",
   "metadata": {},
   "outputs": [],
   "source": []
  },
  {
   "cell_type": "code",
   "execution_count": null,
   "id": "c044c086",
   "metadata": {},
   "outputs": [],
   "source": []
  },
  {
   "cell_type": "code",
   "execution_count": null,
   "id": "a4a64852",
   "metadata": {},
   "outputs": [],
   "source": []
  },
  {
   "cell_type": "code",
   "execution_count": null,
   "id": "b8f9cfb6",
   "metadata": {},
   "outputs": [],
   "source": []
  },
  {
   "cell_type": "code",
   "execution_count": null,
   "id": "5445c50e",
   "metadata": {},
   "outputs": [],
   "source": []
  },
  {
   "cell_type": "code",
   "execution_count": null,
   "id": "ab3d2563",
   "metadata": {},
   "outputs": [],
   "source": []
  },
  {
   "cell_type": "code",
   "execution_count": null,
   "id": "6a42270c",
   "metadata": {},
   "outputs": [],
   "source": []
  },
  {
   "cell_type": "code",
   "execution_count": null,
   "id": "dd10b59d",
   "metadata": {},
   "outputs": [],
   "source": []
  },
  {
   "cell_type": "code",
   "execution_count": null,
   "id": "bc9fefa0",
   "metadata": {},
   "outputs": [],
   "source": []
  },
  {
   "cell_type": "code",
   "execution_count": null,
   "id": "dc82ac7a",
   "metadata": {},
   "outputs": [],
   "source": []
  },
  {
   "cell_type": "code",
   "execution_count": null,
   "id": "96847b97",
   "metadata": {},
   "outputs": [],
   "source": []
  },
  {
   "cell_type": "code",
   "execution_count": null,
   "id": "b05485b7",
   "metadata": {},
   "outputs": [],
   "source": []
  },
  {
   "cell_type": "code",
   "execution_count": null,
   "id": "19c3828f",
   "metadata": {},
   "outputs": [],
   "source": []
  },
  {
   "cell_type": "code",
   "execution_count": null,
   "id": "6591e72e",
   "metadata": {},
   "outputs": [],
   "source": []
  },
  {
   "cell_type": "code",
   "execution_count": null,
   "id": "33c758c9",
   "metadata": {},
   "outputs": [],
   "source": []
  },
  {
   "cell_type": "code",
   "execution_count": null,
   "id": "857aee68",
   "metadata": {},
   "outputs": [],
   "source": []
  },
  {
   "cell_type": "code",
   "execution_count": null,
   "id": "dbe86f06",
   "metadata": {},
   "outputs": [],
   "source": []
  },
  {
   "cell_type": "code",
   "execution_count": null,
   "id": "e1671afa",
   "metadata": {},
   "outputs": [],
   "source": []
  },
  {
   "cell_type": "code",
   "execution_count": null,
   "id": "9302a49e",
   "metadata": {},
   "outputs": [],
   "source": [
    "# Dan"
   ]
  },
  {
   "cell_type": "code",
   "execution_count": null,
   "id": "27a930ed",
   "metadata": {},
   "outputs": [],
   "source": [
    "# Pull out specific columns into a dataframe for analyzing just the music qualities:\n",
    "\n",
    "qualities_df = spotify_df[[\"track_name\", \"Artist Name 1\", \"streams\", \"bpm\", \"key\", \"mode\", \"danceability_%\", \"valence_%\",\t\"energy_%\",\t\"acousticness_%\",\t\"instrumentalness_%\",\t\"liveness_%\",\t\"speechiness_%\"]]\n",
    "\n",
    "qualities_df"
   ]
  },
  {
   "cell_type": "code",
   "execution_count": null,
   "id": "896600a6",
   "metadata": {},
   "outputs": [],
   "source": [
    "# General overview of values per column.\n",
    "\n",
    "qualities_df.nunique()"
   ]
  },
  {
   "cell_type": "code",
   "execution_count": null,
   "id": "97bca803",
   "metadata": {},
   "outputs": [],
   "source": [
    "# In order to graph a scatter plot of all the tracks' tempos, I created a counter loop in order to assign a \n",
    "# number to each track listing in the dataframe. This makes the scatter plot easier to read. The x-axis numbers \n",
    "# are independent of the y-axis value - they simply mark individual tracks from the data set.\n",
    "\n",
    "# This first graph is messy and hard to read, and ultimately feels not particularly useful. I decided to \n",
    "# instead look for normal distribution via song tempos, and number of songs with that tempo.\n",
    "\n",
    "x_values = []\n",
    "counter = 0\n",
    "\n",
    "for row in qualities_df[\"track_name\"]:\n",
    "\n",
    "   counter = counter + 1\n",
    "\n",
    "   x_values.append(counter)\n",
    "  \n",
    "y_values = qualities_df[\"bpm\"]\n",
    "plt.scatter(x_values, y_values)\n",
    "plt.xlabel(\"Songs\")\n",
    "plt.ylabel(\"Beats Per Minute\")\n",
    "plt.title(\"BPM of Top Songs on Spotify in 2023\")\n",
    "\n",
    "plt.show()"
   ]
  },
  {
   "cell_type": "code",
   "execution_count": null,
   "id": "8bfe0a46",
   "metadata": {},
   "outputs": [],
   "source": [
    "# First I created a list of tempos used by the songs in the dataset.\n",
    "\n",
    "song_speed = qualities_df[\"bpm\"].value_counts()\n",
    "\n",
    "tempos = song_speed.index.tolist()\n",
    "\n",
    "print(tempos)"
   ]
  },
  {
   "cell_type": "code",
   "execution_count": null,
   "id": "f92f899d",
   "metadata": {},
   "outputs": [],
   "source": [
    "# I then created a list to show the number of times each of the above tempos was selected for a track.\n",
    "\n",
    "total_songs = []\n",
    "for song in song_speed:\n",
    "    total_songs.append(song)\n",
    "\n",
    "total_songs"
   ]
  },
  {
   "cell_type": "code",
   "execution_count": null,
   "id": "640df7bf",
   "metadata": {},
   "outputs": [],
   "source": [
    "# This scatter plot shows the distribution of tempo selections for all songs in the dataset.\n",
    "# Based on the p-value, it appears there is a normal distribution to the tempos!\n",
    "\n",
    "plt.scatter(tempos, total_songs)\n",
    "plt.xlabel(\"Tempo in BPM\")\n",
    "plt.ylabel(\"Number of Songs\")\n",
    "plt.title(\"Distribution of Chosen Tempos for Most Popular Songs on Spotify in 2023\")\n",
    "\n",
    "std_dev = np.std(tempos)\n",
    "print(f'Standard Deviation of tempos: {std_dev}.')\n",
    "print(st.normaltest(tempos))\n",
    "plt.show()\n",
    "\n",
    "\n"
   ]
  },
  {
   "cell_type": "code",
   "execution_count": null,
   "id": "efdb5b05",
   "metadata": {},
   "outputs": [],
   "source": [
    "# This code was an attempt to further categorize tempos using bins, in order to\n",
    "# utilize a histogram with the standard deviation calculations. Unfortunately, I had\n",
    "# issues with the plot alignment and had to abandon this for presentation. I would\n",
    "# consider this a worthy pursuit for \"next steps\" if we had more time.\n",
    " \n",
    "#bins = [0, 59, 69, 79, 89, 99, 109, 119, 129, 139, 149, 159, 169, 179, 189, 199, 250]\n",
    "#group_names = [\"Below 60\", \"60-69bpm\", \"70-79bpm\", \"80-89bpm\", \"90-99bpm\", \"100-109bpm\", \"110-119bpm\",\n",
    "                #\"120-129bpm\", \"130-139bpm\", \"140-149bpm\", \"150-159bpm\", \"160-169bpm\", \"170-179bpm\", \n",
    "                #\"180-189bpm\", \"190-199bpm\", \"200+bpm\"]\n",
    "\n",
    "#qualities_df[\"BPM Range\"] = pd.cut(qualities_df[\"bpm\"],\n",
    "                         #bins, labels=group_names,\n",
    "                         #include_lowest=True)\n",
    "\n",
    "#tempo_range = qualities_df[\"BPM Range\"].sort_values()"
   ]
  },
  {
   "cell_type": "code",
   "execution_count": null,
   "id": "6089f3a0",
   "metadata": {},
   "outputs": [],
   "source": [
    "# I was interested in comparing the most streamed artists in the dataset to the dataset as a whole, so\n",
    "# the next few blocks create a secondary dataframe that focuses on the to 20 artists from the dataset\n",
    "# with the most overall number of streams. I first looked at total number of songs...\n",
    "\n",
    "popular_artists = qualities_df[\"Artist Name 1\"].value_counts()\n",
    "\n",
    "popular_artists.sort_values(ascending=False)\n",
    "\n",
    "popular_artists.head(20)"
   ]
  },
  {
   "cell_type": "code",
   "execution_count": null,
   "id": "d8a10490",
   "metadata": {},
   "outputs": [],
   "source": [
    "# ...And then tried a sum of streams. There were some different artists that appeared!\n",
    "\n",
    "streams_df = qualities_df.groupby(\"Artist Name 1\")[\"streams\"].sum()\n",
    "\n",
    "streams_df.sort_values(ascending=False).head(20)"
   ]
  },
  {
   "cell_type": "code",
   "execution_count": null,
   "id": "027634db",
   "metadata": {},
   "outputs": [],
   "source": [
    "# I focused on the 20 artists with the most total streams for my sample population.\n",
    "\n",
    "top_artists = qualities_df.loc[(qualities_df[\"Artist Name 1\"] == \"Bad Bunny\") |\n",
    "                          (qualities_df[\"Artist Name 1\"] == \"The Weeknd\") |\n",
    "                          (qualities_df[\"Artist Name 1\"] == \"Ed Sheeran\") |\n",
    "                          (qualities_df[\"Artist Name 1\"] == \"Taylor Swift\") |\n",
    "                          (qualities_df[\"Artist Name 1\"] == \"Harry Styles\") |\n",
    "                          (qualities_df[\"Artist Name 1\"] == \"Eminem\") |\n",
    "                          (qualities_df[\"Artist Name 1\"] == \"Justin Bieber\") |\n",
    "                          (qualities_df[\"Artist Name 1\"] == \"Drake\") |\n",
    "                          (qualities_df[\"Artist Name 1\"] == \"Imagine Dragons\") |\n",
    "                          (qualities_df[\"Artist Name 1\"] == \"Olivia Rodrigo\") |\n",
    "                          (qualities_df[\"Artist Name 1\"] == \"Bruno Mars\") |\n",
    "                          (qualities_df[\"Artist Name 1\"] == \"Dua Lipa\") |\n",
    "                          (qualities_df[\"Artist Name 1\"] == \"SZA\") |\n",
    "                          (qualities_df[\"Artist Name 1\"] == \"Post Malone\") |\n",
    "                          (qualities_df[\"Artist Name 1\"] == \"Arctic Monkeys\") |\n",
    "                          (qualities_df[\"Artist Name 1\"] == \"Kendrick Lamar\") |\n",
    "                          (qualities_df[\"Artist Name 1\"] == \"Doja Cat\") |\n",
    "                          (qualities_df[\"Artist Name 1\"] == \"Billie Eilish\") |\n",
    "                          (qualities_df[\"Artist Name 1\"] == \"Coldplay\") |\n",
    "                          (qualities_df[\"Artist Name 1\"] == \"The Chainsmokers\")]\n",
    "                          \n",
    "top_artists.sort_values([\"Artist Name 1\"])\n",
    "                       "
   ]
  },
  {
   "cell_type": "code",
   "execution_count": null,
   "id": "8757b89d",
   "metadata": {},
   "outputs": [],
   "source": [
    "# I then repeated my process of creating x and y axes to create a scatter plot, \n",
    "# but only focused on the top 20 artists.\n",
    "top_tempos = top_artists[\"bpm\"].value_counts()\n",
    "\n",
    "popular_tempos = top_tempos.index.tolist()\n",
    "\n",
    "print(popular_tempos)"
   ]
  },
  {
   "cell_type": "code",
   "execution_count": null,
   "id": "c136eb53",
   "metadata": {},
   "outputs": [],
   "source": [
    "most_streamed_songs = []\n",
    "for song in top_tempos:\n",
    "    most_streamed_songs.append(song)\n",
    "\n",
    "most_streamed_songs"
   ]
  },
  {
   "cell_type": "code",
   "execution_count": null,
   "id": "25cdeb1b",
   "metadata": {},
   "outputs": [],
   "source": [
    "# The most streamed artists also appear normally distributed, though the p-value is larger for \n",
    "# the sample. The Standard deviation is also about 4 beats per minute lower for the most \n",
    "# streamed artists.\n",
    "plt.scatter(popular_tempos, most_streamed_songs)\n",
    "plt.xlabel(\"Tempo in BPM\")\n",
    "plt.ylabel(\"Number of Songs\")\n",
    "plt.title(\"Distribution of Chosen Tempos for 20 Most Streamed Artists on Spotify in 2023\")\n",
    "\n",
    "std_dev = np.std(popular_tempos)\n",
    "print(f'Standard Deviation of tempos: {std_dev}.')\n",
    "print(st.normaltest(popular_tempos))\n",
    "plt.show()"
   ]
  },
  {
   "cell_type": "code",
   "execution_count": null,
   "id": "097ba694",
   "metadata": {},
   "outputs": [],
   "source": [
    "# The following set of calculations was to determine what share of songs \n",
    "# the most streamed artists accounted for, as well as what share of \n",
    "# total streams they captured. Interestingly, it seems that while \n",
    "# the most streamed artists comprised about 27% of the tracks in the \n",
    "# data, they accounted for 36% of the streams for 2023!\n",
    "top_artists[\"streams\"].sum()"
   ]
  },
  {
   "cell_type": "code",
   "execution_count": null,
   "id": "fdc06047",
   "metadata": {},
   "outputs": [],
   "source": [
    "qualities_df[\"streams\"].sum()"
   ]
  },
  {
   "cell_type": "code",
   "execution_count": null,
   "id": "9b04595a",
   "metadata": {},
   "outputs": [],
   "source": [
    "((top_artists[\"streams\"].sum()) / (qualities_df[\"streams\"].sum())) *100"
   ]
  },
  {
   "cell_type": "code",
   "execution_count": null,
   "id": "91a21d33",
   "metadata": {},
   "outputs": [],
   "source": [
    "len(top_artists[\"track_name\"])"
   ]
  },
  {
   "cell_type": "code",
   "execution_count": null,
   "id": "3ee67d21",
   "metadata": {},
   "outputs": [],
   "source": [
    "len(qualities_df[\"track_name\"])"
   ]
  },
  {
   "cell_type": "code",
   "execution_count": null,
   "id": "ca35899e",
   "metadata": {},
   "outputs": [],
   "source": [
    "(len(top_artists[\"track_name\"]) / len(qualities_df[\"track_name\"])) * 100"
   ]
  },
  {
   "cell_type": "code",
   "execution_count": null,
   "id": "5bfa0e34",
   "metadata": {},
   "outputs": [],
   "source": [
    "# This was an attempt before calculating the tempo distribution, involving my orioginal idea.\n",
    "# The scatter plot of songs at each tempo is also messy and not helpful.\n",
    "\n",
    "pop_x = []\n",
    "counter = 0\n",
    "\n",
    "for row in top_artists[\"track_name\"]:\n",
    "\n",
    "   counter = counter + 1\n",
    "\n",
    "   pop_x.append(counter)\n",
    "\n",
    "\n",
    "pop_y = top_artists[\"bpm\"]\n",
    "plt.scatter(pop_x, pop_y)\n",
    "plt.xlabel(\"Songs\")\n",
    "plt.ylabel(\"Beats Per Minute\")\n",
    "plt.title(\"BPM of the 20 Most Streamed Artists on Spotify in 2023\")\n",
    "\n",
    "plt.show()"
   ]
  },
  {
   "cell_type": "code",
   "execution_count": null,
   "id": "113c2a87",
   "metadata": {},
   "outputs": [],
   "source": [
    "# Again, before analyzing the distribution of tempo selection, I attempted to compare\n",
    "# tempos of all songs in the dataset vs. songs by the 20 most streamed artists. Both graphs\n",
    "# have a similar distribution, but are generally difficult to analyze further.\n",
    "\n",
    "fig, ax = plt.subplots(figsize=(12, 8))\n",
    "ax.scatter(x_values, y_values, c='b', marker='o', label=\"All Artists\")\n",
    "ax.scatter(pop_x, pop_y, c='m', marker=\"s\", label=\"20 Most Streamed Artists\")\n",
    "ax.set_xlabel(\"Songs\")\n",
    "ax.set_ylabel(\"Beats Per Minute\")\n",
    "ax.set_title(\"BPM Comparison of Most Streamed Songs vs 20 Most Streamed Artists in 2023\")\n",
    "ax.legend(loc='upper right')\n",
    "\n",
    "plt.savefig(\"Outputs/bpm_comparison.png\")\n",
    "plt.show()\n"
   ]
  },
  {
   "cell_type": "code",
   "execution_count": null,
   "id": "9b5ebfc7",
   "metadata": {},
   "outputs": [],
   "source": [
    "# Next, I printed the mean, median, and mode of BPMs for both dataframes.\n",
    "\n",
    "print(f'The average BPM of all top songs from 2023 is {qualities_df[\"bpm\"].mean()}.')\n",
    "print(f'The average BPM of songs by the 20 most streamed artists in 2023 is {top_artists[\"bpm\"].mean()}.')\n",
    "print(f'--------------------------')\n",
    "print(f'The median BPM of all top songs from 2023 is {qualities_df[\"bpm\"].median()}.')\n",
    "print(f'The median BPM of songs by the 20 most streamed artists in 2023 is {top_artists[\"bpm\"].median()}.')\n",
    "print(f'--------------------------')\n",
    "print(f'The mode BPM of all top songs from 2023 is {qualities_df[\"bpm\"].mode()}.')\n",
    "print(f'The mode BPM of songs by the 20 most streamed artists in 2023 is {top_artists[\"bpm\"].mode()}.')"
   ]
  },
  {
   "cell_type": "code",
   "execution_count": null,
   "id": "b732e7fe",
   "metadata": {},
   "outputs": [],
   "source": [
    "\n",
    "top_artists.loc[top_artists[\"bpm\"] == 90].value_counts()\n"
   ]
  },
  {
   "cell_type": "code",
   "execution_count": null,
   "id": "dde6fbd1",
   "metadata": {},
   "outputs": [],
   "source": [
    "qualities_df.loc[qualities_df[\"bpm\"] == 120].value_counts()"
   ]
  },
  {
   "cell_type": "code",
   "execution_count": null,
   "id": "c2034931",
   "metadata": {},
   "outputs": [],
   "source": [
    "\n",
    "all_mode = qualities_df.groupby([\"Artist Name 1\"])[\"mode\"].value_counts()\n",
    "\n",
    "all_modes = pd.DataFrame(all_mode.sort_values(ascending=False))\n",
    "\n",
    "all_modes"
   ]
  },
  {
   "cell_type": "code",
   "execution_count": null,
   "id": "2a25c79b",
   "metadata": {},
   "outputs": [],
   "source": [
    "top_mode = top_artists.groupby([\"Artist Name 1\"])[\"mode\"].value_counts()\n",
    "\n",
    "top_modes = pd.DataFrame(top_mode.sort_values(ascending=False))\n",
    "\n",
    "top_modes"
   ]
  },
  {
   "cell_type": "code",
   "execution_count": null,
   "id": "128796a7",
   "metadata": {},
   "outputs": [],
   "source": [
    "total_major = []\n",
    "total_minor = []\n",
    "major = 0\n",
    "minor = 0\n",
    "\n",
    "for row in qualities_df[\"mode\"]:\n",
    "    if row == \"Major\":\n",
    "        major = major + 1\n",
    "       \n",
    "    elif row == \"Minor\":\n",
    "        minor = minor + 1\n",
    "\n",
    "total_major.append(major)\n",
    "total_minor.append(minor)\n",
    "print(total_major)\n",
    "print(total_minor)"
   ]
  },
  {
   "cell_type": "code",
   "execution_count": null,
   "id": "b14e8aae",
   "metadata": {},
   "outputs": [],
   "source": [
    "top_major = []\n",
    "top_minor = []\n",
    "t_major = 0\n",
    "t_minor = 0\n",
    "\n",
    "for row in top_artists[\"mode\"]:\n",
    "    if row == \"Major\":\n",
    "        t_major = t_major + 1\n",
    "       \n",
    "    elif row == \"Minor\":\n",
    "        t_minor = t_minor + 1\n",
    "\n",
    "top_major.append(t_major)\n",
    "top_minor.append(t_minor)\n",
    "print(top_major)\n",
    "print(top_minor)"
   ]
  },
  {
   "cell_type": "code",
   "execution_count": null,
   "id": "832b82e9",
   "metadata": {},
   "outputs": [],
   "source": [
    "modes = [\"Major\", \"Minor\"]\n",
    "total_modes = [549, 403]\n",
    "explode = (0.1, 0)\n",
    "colors = [\"yellowgreen\", \"blue\"]\n",
    "\n",
    "plt.pie(total_modes, explode=explode, labels=modes, colors=colors,\n",
    "        autopct=\"%1.1f%%\", shadow=True, startangle=120)\n",
    "plt.title(\"Mode Breakdown for Top Songs in Spotify for 2023\")\n",
    "\n",
    "plt.savefig(\"Outputs/all_songs_modes.png\")\n",
    "\n",
    "plt.show()\n"
   ]
  },
  {
   "cell_type": "code",
   "execution_count": null,
   "id": "ffcd1072",
   "metadata": {},
   "outputs": [],
   "source": [
    "modes = [\"Major\", \"Minor\"]\n",
    "top_modes = [161, 98]\n",
    "explode = (0.1, 0)\n",
    "colors = [\"lightskyblue\", \"purple\"]\n",
    "\n",
    "plt.pie(top_modes, explode=explode, labels=modes, colors=colors,\n",
    "        autopct=\"%1.1f%%\", shadow=True, startangle=120)\n",
    "plt.title(\"Mode Breakdown for 20 Most Streamed Artists in Spotify for 2023\")\n",
    "\n",
    "plt.savefig(\"Outputs/top20_artists_modes.png\")\n",
    "\n",
    "plt.show()\n"
   ]
  },
  {
   "cell_type": "code",
   "execution_count": null,
   "id": "72d8b739",
   "metadata": {},
   "outputs": [],
   "source": [
    "print(f'The mean danceability % is {round(qualities_df[\"danceability_%\"].mean(), 2)}.')\n",
    "print(f'The median danceability % is {round(qualities_df[\"danceability_%\"].median(), 2)}.')\n",
    "print(f'The mode danceability % is {round(qualities_df[\"danceability_%\"].mode(), 2)}.')\n",
    "print(\"--------------------------\")\n",
    "print(f'The mean valence % is {round(qualities_df[\"valence_%\"].mean(), 2)}.')\n",
    "print(f'The median valence % is {round(qualities_df[\"valence_%\"].median(), 2)}.')\n",
    "print(f'The mode valence % is {round(qualities_df[\"valence_%\"].mode(), 2)}.')\n",
    "print(\"--------------------------\")\n",
    "print(f'The mean energy % is {round(qualities_df[\"energy_%\"].mean(), 2)}.')\n",
    "print(f'The median energy % is {round(qualities_df[\"energy_%\"].median(), 2)}.')\n",
    "print(f'The mode energy % is {round(qualities_df[\"energy_%\"].mode(), 2)}.')\n",
    "print(\"--------------------------\")\n",
    "print(f'The mean acousticness % is {round(qualities_df[\"acousticness_%\"].mean(), 2)}.')\n",
    "print(f'The median acousticness % is {round(qualities_df[\"acousticness_%\"].median(), 2)}.')\n",
    "print(f'The mode acousticness % is {round(qualities_df[\"acousticness_%\"].mode(), 2)}.')\n",
    "print(\"--------------------------\")\n",
    "print(f'The mean instrumentalness % is {round(qualities_df[\"instrumentalness_%\"].mean(), 2)}.')\n",
    "print(f'The median instrumentalness % is {round(qualities_df[\"instrumentalness_%\"].median(), 2)}.')\n",
    "print(f'The mode instrumentalness % is {round(qualities_df[\"instrumentalness_%\"].mode(), 2)}.')\n",
    "print(\"--------------------------\")\n",
    "print(f'The mean liveness % is {round(qualities_df[\"liveness_%\"].mean(), 2)}.')\n",
    "print(f'The median liveness % is {round(qualities_df[\"liveness_%\"].median(), 2)}.')\n",
    "print(f'The mode liveness % is {round(qualities_df[\"liveness_%\"].mode(), 2)}.')\n",
    "print(\"--------------------------\")\n",
    "print(f'The mean speechiness % is {round(qualities_df[\"speechiness_%\"].mean(), 2)}.')\n",
    "print(f'The median speechiness % is {round(qualities_df[\"speechiness_%\"].median(), 2)}.')\n",
    "print(f'The mode speechiness % is {round(qualities_df[\"speechiness_%\"].mode(), 2)}.')\n",
    "print(\"--------------------------\")\n",
    "print(f'The mean bpm is {round(qualities_df[\"bpm\"].mean(), 2)}.')\n",
    "print(f'The median bpm is {round(qualities_df[\"bpm\"].median(), 2)}.')\n",
    "print(f'The mode bpm is {round(qualities_df[\"bpm\"].mode(), 2)}.')"
   ]
  },
  {
   "cell_type": "code",
   "execution_count": null,
   "id": "450df2ce",
   "metadata": {},
   "outputs": [],
   "source": [
    "print(f'The mean danceability % of songs by the 20 most streamed artists is {round(top_artists[\"danceability_%\"].mean(), 2)}.')\n",
    "print(f'The median danceability % of songs by the 20 most streamed artists is {round(top_artists[\"danceability_%\"].median(), 2)}.')\n",
    "print(f'The mode danceability % of songs by the 20 most streamed artists is {round(top_artists[\"danceability_%\"].mode(), 2)}.')\n",
    "print(\"--------------------------\")\n",
    "print(f'The mean valence % of songs by the 20 most streamed artists is {round(top_artists[\"valence_%\"].mean(), 2)}.')\n",
    "print(f'The median valence % of songs by the 20 most streamed artists is {round(top_artists[\"valence_%\"].median(), 2)}.')\n",
    "print(f'The mode valence % of songs by the 20 most streamed artists is {round(top_artists[\"valence_%\"].mode(), 2)}.')\n",
    "print(\"--------------------------\")\n",
    "print(f'The mean energy % of songs by the 20 most streamed artists is {round(top_artists[\"energy_%\"].mean(), 2)}.')\n",
    "print(f'The median energy % of songs by the 20 most streamed artists is {round(top_artists[\"energy_%\"].median(), 2)}.')\n",
    "print(f'The mode energy % of songs by the 20 most streamed artists is {round(top_artists[\"energy_%\"].mode(), 2)}.')\n",
    "print(\"--------------------------\")\n",
    "print(f'The mean acousticness % of songs by the 20 most streamed artists is {round(top_artists[\"acousticness_%\"].mean(), 2)}.')\n",
    "print(f'The median acousticness % of songs by the 20 most streamed artists is {round(top_artists[\"acousticness_%\"].median(), 2)}.')\n",
    "print(f'The mode acousticness % of songs by the 20 most streamed artists is {round(top_artists[\"acousticness_%\"].mode(), 2)}.')\n",
    "print(\"--------------------------\")\n",
    "print(f'The mean instrumentalness % of songs by the 20 most streamed artists is {round(top_artists[\"instrumentalness_%\"].mean(), 2)}.')\n",
    "print(f'The median instrumentalness % of songs by the 20 most streamed artists is {round(top_artists[\"instrumentalness_%\"].median(), 2)}.')\n",
    "print(f'The mode instrumentalness % of songs by the 20 most streamed artists is {round(top_artists[\"instrumentalness_%\"].mode(), 2)}.')\n",
    "print(\"--------------------------\")\n",
    "print(f'The mean liveness % of songs by the 20 most streamed artists is {round(top_artists[\"liveness_%\"].mean(), 2)}.')\n",
    "print(f'The median liveness % of songs by the 20 most streamed artists is {round(top_artists[\"liveness_%\"].median(), 2)}.')\n",
    "print(f'The mode liveness % of songs by the 20 most streamed artists is {round(top_artists[\"liveness_%\"].mode(), 2)}.')\n",
    "print(\"--------------------------\")\n",
    "print(f'The mean speechiness % of songs by the 20 most streamed artists is {round(top_artists[\"speechiness_%\"].mean(), 2)}.')\n",
    "print(f'The median speechiness % of songs by the 20 most streamed artists is {round(top_artists[\"speechiness_%\"].median(), 2)}.')\n",
    "print(f'The mode speechiness % of songs by the 20 most streamed artists is {round(top_artists[\"speechiness_%\"].mode(), 2)}.')\n",
    "print(\"--------------------------\")\n",
    "print(f'The mean bpm of songs by the 20 most streamed artists is {round(top_artists[\"bpm\"].mean(), 2)}.')\n",
    "print(f'The median bpm of songs by the 20 most streamed artists is {round(top_artists[\"bpm\"].median(), 2)}.')\n",
    "print(f'The mode bpm of songs by the 20 most streamed artists is {round(top_artists[\"bpm\"].mode(), 2)}.')"
   ]
  },
  {
   "cell_type": "code",
   "execution_count": null,
   "id": "fdb9b3d1",
   "metadata": {},
   "outputs": [],
   "source": [
    "all_chars = []\n",
    "all_chars.append(round(qualities_df[\"danceability_%\"].median(), 2))\n",
    "all_chars.append(round(qualities_df[\"valence_%\"].median(), 2))\n",
    "all_chars.append(round(qualities_df[\"energy_%\"].median(), 2))\n",
    "all_chars.append(round(qualities_df[\"acousticness_%\"].median(), 2))\n",
    "all_chars.append(round(qualities_df[\"instrumentalness_%\"].median(), 2))\n",
    "all_chars.append(round(qualities_df[\"liveness_%\"].median(), 2))\n",
    "all_chars.append(round(qualities_df[\"speechiness_%\"].median(), 2))\n",
    "\n",
    "\n",
    "all_chars"
   ]
  },
  {
   "cell_type": "code",
   "execution_count": null,
   "id": "baaef2cb",
   "metadata": {},
   "outputs": [],
   "source": [
    "top20_chars = []\n",
    "top20_chars.append(round(top_artists[\"danceability_%\"].median(), 2))\n",
    "top20_chars.append(round(top_artists[\"valence_%\"].median(), 2))\n",
    "top20_chars.append(round(top_artists[\"energy_%\"].median(), 2))\n",
    "top20_chars.append(round(top_artists[\"acousticness_%\"].median(), 2))\n",
    "top20_chars.append(round(top_artists[\"instrumentalness_%\"].median(), 2))\n",
    "top20_chars.append(round(top_artists[\"liveness_%\"].median(), 2))\n",
    "top20_chars.append(round(top_artists[\"speechiness_%\"].median(), 2))\n",
    "\n",
    "top20_chars"
   ]
  },
  {
   "cell_type": "code",
   "execution_count": null,
   "id": "ac636b7a",
   "metadata": {},
   "outputs": [],
   "source": [
    "characteristics = [\"Danceability\", \"Valence (Positive Vibes)\",\"Energy\",\"Acousticness\",\n",
    "                   \"Instrumentalness\",\"Liveness\",\"Speechiness\"]\n",
    "bar_width = 0.35\n",
    "fig, ax = plt.subplots(figsize=(8, 12))\n",
    "bar1 = ax.bar(characteristics, all_chars, bar_width, label=\"All Songs\", color='b')\n",
    "bar2 = ax.bar([i + bar_width for i in range(len(characteristics))], top20_chars, \n",
    "              bar_width, label=\"Top 20 Artists\", color='purple')\n",
    "ax.set_title(\"Median Presence of Characteristics in Top Streamed Songs in Spotify for 2023\")\n",
    "ax.legend()\n",
    "ax.set_xlabel(\"Song Characteristic\")\n",
    "ax.set_ylabel(\"Percentage of Characteristic\")\n",
    "ax.set_xticklabels(characteristics, rotation=45)\n",
    "fig.savefig(\"Outputs/characteristics_medians_barchart.png\")\n",
    "fig.show()"
   ]
  },
  {
   "cell_type": "code",
   "execution_count": null,
   "id": "b16156a6",
   "metadata": {},
   "outputs": [],
   "source": [
    "all_modes = []\n",
    "all_modes.append(qualities_df[\"danceability_%\"].mode().iloc[0])\n",
    "all_modes.append(qualities_df[\"valence_%\"].mode().iloc[0])\n",
    "all_modes.append(qualities_df[\"energy_%\"].mode().iloc[0])\n",
    "all_modes.append(qualities_df[\"acousticness_%\"].mode().iloc[0])\n",
    "all_modes.append(qualities_df[\"instrumentalness_%\"].mode().iloc[0])\n",
    "all_modes.append(qualities_df[\"liveness_%\"].mode().iloc[0])\n",
    "all_modes.append(qualities_df[\"speechiness_%\"].mode().iloc[0])\n",
    "\n",
    "\n",
    "all_modes"
   ]
  },
  {
   "cell_type": "code",
   "execution_count": null,
   "id": "4bb6eab0",
   "metadata": {},
   "outputs": [],
   "source": [
    "top20_modes = []\n",
    "top20_modes.append(top_artists[\"danceability_%\"].mode().iloc[0])\n",
    "top20_modes.append(top_artists[\"valence_%\"].mode().iloc[0])\n",
    "top20_modes.append(top_artists[\"energy_%\"].mode().iloc[0])\n",
    "top20_modes.append(top_artists[\"acousticness_%\"].mode().iloc[0])\n",
    "top20_modes.append(top_artists[\"instrumentalness_%\"].mode().iloc[0])\n",
    "top20_modes.append(top_artists[\"liveness_%\"].mode().iloc[0])\n",
    "top20_modes.append(top_artists[\"speechiness_%\"].mode().iloc[0])\n",
    "\n",
    "top20_modes"
   ]
  },
  {
   "cell_type": "code",
   "execution_count": null,
   "id": "c2e58983",
   "metadata": {},
   "outputs": [],
   "source": [
    "characteristics = [\"Danceability\", \"Valence (Positive Vibes)\",\"Energy\",\"Acousticness\",\n",
    "                   \"Instrumentalness\",\"Liveness\",\"Speechiness\"]\n",
    "bar_width = 0.35\n",
    "fig, ax = plt.subplots(figsize=(8, 12))\n",
    "bar1 = ax.bar(characteristics, all_modes, bar_width, label=\"All Songs\", color='b')\n",
    "bar2 = ax.bar([i + bar_width for i in range(len(characteristics))], top20_modes, \n",
    "              bar_width, label=\"Top 20 Artists\", color='purple')\n",
    "ax.set_title(\"Mode Presence of Characteristics in Top Streamed Songs in Spotify for 2023\")\n",
    "ax.legend()\n",
    "ax.set_xlabel(\"Song Characteristic\")\n",
    "ax.set_ylabel(\"Percentage of Characteristic\")\n",
    "ax.set_xticklabels(characteristics, rotation=45)\n",
    "fig.savefig(\"Outputs/characteristics_modes_barchart.png\")\n",
    "fig.show()"
   ]
  },
  {
   "cell_type": "code",
   "execution_count": null,
   "id": "ac58e784",
   "metadata": {},
   "outputs": [],
   "source": []
  }
 ],
 "metadata": {
  "kernelspec": {
   "display_name": "Python 3 (ipykernel)",
   "language": "python",
   "name": "python3"
  },
  "language_info": {
   "codemirror_mode": {
    "name": "ipython",
    "version": 3
   },
   "file_extension": ".py",
   "mimetype": "text/x-python",
   "name": "python",
   "nbconvert_exporter": "python",
   "pygments_lexer": "ipython3",
   "version": "3.10.13"
  }
 },
 "nbformat": 4,
 "nbformat_minor": 5
}
