{
 "cells": [
  {
   "cell_type": "markdown",
   "id": "6ff14472-d9d4-4bdb-804a-3d9be009dbf3",
   "metadata": {},
   "source": [
    "Starter file for Project 1 - need to load in Spotify CSV!\n"
   ]
  },
  {
   "cell_type": "code",
   "execution_count": null,
   "id": "1b862541",
   "metadata": {},
   "outputs": [],
   "source": [
    "# Import Dependencies\n",
    "import pandas as pd\n",
    "import numpy as np\n",
    "from pathlib import Path\n",
    "import matplotlib.pyplot as plt"
   ]
  },
  {
   "cell_type": "code",
   "execution_count": null,
   "id": "0df8a118",
   "metadata": {},
   "outputs": [],
   "source": [
    "csv_path = Path(\"Resources/spotify-2023.csv\")\n",
    "\n",
    "spotify_df = pd.read_csv(csv_path, encoding='iso-8859-1')\n",
    "\n",
    "#Basic Dataframe with all information\n",
    "spotify_df.head()"
   ]
  },
  {
   "cell_type": "code",
   "execution_count": null,
   "id": "e57f5424",
   "metadata": {},
   "outputs": [],
   "source": [
    "# David!"
   ]
  },
  {
   "cell_type": "code",
   "execution_count": null,
   "id": "067bbc1d",
   "metadata": {},
   "outputs": [],
   "source": [
    "#bucket to store the artists names as a list\n",
    "artist_list = []\n",
    "\n",
    "#columns into lists and drop the NA values\n",
    "artist1_list = spotify_df[\"Artist Name 1\"].dropna().tolist()\n",
    "artist2_list = spotify_df[\"Artist Name 2\"].dropna().tolist()\n",
    "artist3_list = spotify_df[\"Artist Name 3\"].dropna().tolist()\n",
    "artist4_list = spotify_df[\"Artist Name 4\"].dropna().tolist()\n",
    "artist5_list = spotify_df[\"Artist Name 5\"].dropna().tolist()\n",
    "artist6_list = spotify_df[\"Artist Name 6\"].dropna().tolist()\n",
    "artist7_list = spotify_df[\"Artist Name 7\"].dropna().tolist()\n",
    "artist8_list = spotify_df[\"Artist Name 8\"].dropna().tolist()\n",
    "\n",
    "#compile the lists\n",
    "artist_list.extend(artist1_list)\n",
    "artist_list.extend(artist2_list)\n",
    "artist_list.extend(artist3_list)\n",
    "artist_list.extend(artist4_list)\n",
    "artist_list.extend(artist5_list)\n",
    "artist_list.extend(artist6_list)\n",
    "artist_list.extend(artist7_list)\n",
    "artist_list.extend(artist8_list)\n",
    "\n",
    "artist_list"
   ]
  },
  {
   "cell_type": "code",
   "execution_count": null,
   "id": "0d16a1fa",
   "metadata": {},
   "outputs": [],
   "source": [
    "# Number of artists in the sample\n",
    "print(len(artist_list))"
   ]
  },
  {
   "cell_type": "code",
   "execution_count": null,
   "id": "94ca9b13",
   "metadata": {},
   "outputs": [],
   "source": [
    "# Number of songs in the sample\n",
    "counter = 0\n",
    "for row in spotify_df[\"track_name\"]:\n",
    "   counter = counter + 1\n",
    "counter   "
   ]
  },
  {
   "cell_type": "code",
   "execution_count": null,
   "id": "f049e316",
   "metadata": {},
   "outputs": [],
   "source": [
    "# DF of the full artist list\n",
    "all_artists_df = pd.DataFrame(artist_list)\n",
    "\n",
    "# Clean up data / DF\n",
    "all_artists_df.columns = [\"Artist\"]\n",
    "all_artists_df[\"Artist\"].replace({\" Bad Bunny\": \"Bad Bunny\"}, inplace=True)\n",
    "\n",
    "all_artists_df.head(10)"
   ]
  },
  {
   "cell_type": "code",
   "execution_count": null,
   "id": "21bf2529",
   "metadata": {},
   "outputs": [],
   "source": [
    "# Unique artists in the sample\n",
    "print(len(all_artists_df.value_counts()))"
   ]
  },
  {
   "cell_type": "code",
   "execution_count": null,
   "id": "04dc6dd3",
   "metadata": {},
   "outputs": [],
   "source": [
    "# Sorted by most common and update DF\n",
    "sorted_df = all_artists_df.value_counts().sort_values(ascending=False)\n",
    "count_sorted_df = pd.DataFrame(sorted_df)\n",
    "\n",
    "count_sorted_df.head(10)"
   ]
  },
  {
   "cell_type": "code",
   "execution_count": null,
   "id": "24aadafc",
   "metadata": {},
   "outputs": [],
   "source": [
    "#limit the list to only the top 5\n",
    "topfive_df = count_sorted_df.loc[(count_sorted_df[\"count\"] >= 20)]\n",
    "\n",
    "#add back the index\n",
    "topfive_df.reset_index(inplace=True)\n",
    "\n",
    "topfive_df"
   ]
  },
  {
   "cell_type": "code",
   "execution_count": null,
   "id": "d5dc5ef2",
   "metadata": {},
   "outputs": [],
   "source": [
    "# bar chart \n",
    "x_axis = np.arange(len(topfive_df))\n",
    "tick_locations = [value for value in x_axis]\n",
    "plt.bar(x_axis, topfive_df[\"count\"], color='g', alpha=0.65, align=\"center\")\n",
    "plt.xticks(tick_locations, topfive_df[\"Artist\"], rotation=\"horizontal\")\n",
    "\n",
    "plt.title(\"Top 5 Artists\")\n",
    "plt.ylabel(\"Number of Songs in Sample\")\n",
    "plt.tight_layout()\n",
    "\n",
    "plt.show()"
   ]
  },
  {
   "cell_type": "code",
   "execution_count": null,
   "id": "5c98ae3d",
   "metadata": {},
   "outputs": [],
   "source": [
    "# list out the columns\n",
    "spotify_df.columns\n"
   ]
  },
  {
   "cell_type": "code",
   "execution_count": null,
   "id": "8553236f",
   "metadata": {},
   "outputs": [],
   "source": [
    "# tighten up the df columns that I need\n",
    "short_spotify_df = spotify_df[[\"track_name\",\"Artist Name 1\",\"Artist Name 2\",\"Artist Name 3\",\n",
    "                              \"Artist Name 4\",\"Artist Name 5\",\"Artist Name 6\",\"Artist Name 7\"\n",
    "                              ,\"Artist Name 8\", \"released_year\", \"streams\"]].copy()\n",
    "short_spotify_df.head()"
   ]
  },
  {
   "cell_type": "code",
   "execution_count": null,
   "id": "8f81b017",
   "metadata": {},
   "outputs": [],
   "source": [
    "#sorted by streams\n",
    "sorted_short_df = short_spotify_df.sort_values(\"streams\", ascending=False)\n",
    "sorted_short_df"
   ]
  },
  {
   "cell_type": "code",
   "execution_count": null,
   "id": "ea36b386",
   "metadata": {},
   "outputs": [],
   "source": [
    "#DF for streams over 1 billion\n",
    "one_bill_df = short_spotify_df[(short_spotify_df[\"streams\"] >= 1000000000)]\n",
    "\n",
    "one_bill_df.count()"
   ]
  },
  {
   "cell_type": "code",
   "execution_count": null,
   "id": "9461d4b6",
   "metadata": {},
   "outputs": [],
   "source": [
    "#bucket to store the artists names with 1 billion streams as a list\n",
    "onebill_artist_list = []\n",
    "\n",
    "#columns into lists and drop the NA values\n",
    "onebill_artist1_list = one_bill_df[\"Artist Name 1\"].dropna().tolist()\n",
    "onebill_artist2_list = one_bill_df[\"Artist Name 2\"].dropna().tolist()\n",
    "onebill_artist3_list = one_bill_df[\"Artist Name 3\"].dropna().tolist()\n",
    "onebill_artist4_list = one_bill_df[\"Artist Name 4\"].dropna().tolist()\n",
    "\n",
    "#compile the lists\n",
    "onebill_artist_list.extend(onebill_artist1_list)\n",
    "onebill_artist_list.extend(onebill_artist2_list)\n",
    "onebill_artist_list.extend(onebill_artist3_list)\n",
    "onebill_artist_list.extend(onebill_artist4_list)\n",
    "\n",
    "onebill_artist_list"
   ]
  },
  {
   "cell_type": "code",
   "execution_count": null,
   "id": "52ad2375",
   "metadata": {},
   "outputs": [],
   "source": [
    "# DF of the full artist list\n",
    "onebill_artists_df = pd.DataFrame(onebill_artist_list)\n",
    "\n",
    "# Clean up data / DF\n",
    "onebill_artists_df.columns = [\"Artist\"]\n",
    "onebill_artists_df[\"Artist\"].replace({\" Bad Bunny\": \"Bad Bunny\"}, inplace=True)\n",
    "\n",
    "onebill_artists_df"
   ]
  },
  {
   "cell_type": "code",
   "execution_count": null,
   "id": "c7257476",
   "metadata": {},
   "outputs": [],
   "source": [
    "# Unique artists in the sample\n",
    "print(len(onebill_artists_df.value_counts()))"
   ]
  },
  {
   "cell_type": "code",
   "execution_count": null,
   "id": "7f64d4d5",
   "metadata": {},
   "outputs": [],
   "source": [
    "onebill_sorted_df = onebill_artists_df.value_counts().sort_values(ascending=False)\n",
    "onebill_count_sorted_df = pd.DataFrame(onebill_sorted_df)\n",
    "\n",
    "onebill_count_sorted_df.head(10)"
   ]
  },
  {
   "cell_type": "code",
   "execution_count": null,
   "id": "b6a586c1",
   "metadata": {},
   "outputs": [],
   "source": [
    "#limit the list to only the top 5\n",
    "onebill_topfive_df = onebill_count_sorted_df.loc[(onebill_count_sorted_df[\"count\"] >= 5)]\n",
    "\n",
    "#add back the index\n",
    "onebill_topfive_df.reset_index(inplace=True)\n",
    "\n",
    "onebill_topfive_df"
   ]
  },
  {
   "cell_type": "code",
   "execution_count": null,
   "id": "89b2436a",
   "metadata": {},
   "outputs": [],
   "source": [
    "# bar chart \n",
    "x_axis = np.arange(len(onebill_topfive_df))\n",
    "tick_locations = [value for value in x_axis]\n",
    "plt.bar(x_axis, onebill_topfive_df[\"count\"], color='g', alpha=0.65, align=\"center\")\n",
    "plt.xticks(tick_locations, onebill_topfive_df[\"Artist\"], rotation=\"horizontal\")\n",
    "\n",
    "plt.title(\"Top Artists with over 1 Billion Streams\")\n",
    "plt.ylabel(\"Number of Songs\")\n",
    "plt.tight_layout()\n",
    "\n",
    "plt.show()"
   ]
  },
  {
   "cell_type": "code",
   "execution_count": null,
   "id": "e36fcdba",
   "metadata": {},
   "outputs": [],
   "source": [
    "two_bill_df = short_spotify_df[(short_spotify_df[\"streams\"] >= 2000000000)]\n",
    "two_bill_df.count()"
   ]
  },
  {
   "cell_type": "code",
   "execution_count": null,
   "id": "cccf3c89",
   "metadata": {},
   "outputs": [],
   "source": [
    "#bucket to store the artists names with 2 billion streams as a list\n",
    "twobill_artist_list = []\n",
    "\n",
    "#columns into lists and drop the NA values\n",
    "twobill_artist1_list = two_bill_df[\"Artist Name 1\"].dropna().tolist()\n",
    "twobill_artist2_list = two_bill_df[\"Artist Name 2\"].dropna().tolist()\n",
    "twobill_artist3_list = two_bill_df[\"Artist Name 3\"].dropna().tolist()\n",
    "\n",
    "#compile the lists\n",
    "twobill_artist_list.extend(twobill_artist1_list)\n",
    "twobill_artist_list.extend(twobill_artist2_list)\n",
    "twobill_artist_list.extend(twobill_artist3_list)\n",
    "\n",
    "twobill_artist_list"
   ]
  },
  {
   "cell_type": "code",
   "execution_count": null,
   "id": "08b2de54",
   "metadata": {},
   "outputs": [],
   "source": [
    "# DF of the full artist list\n",
    "twobill_artists_df = pd.DataFrame(twobill_artist_list)\n",
    "\n",
    "# Clean up data / DF\n",
    "twobill_artists_df.columns = [\"Artist\"]\n",
    "twobill_artists_df[\"Artist\"].replace({\" Bad Bunny\": \"Bad Bunny\"}, inplace=True)\n",
    "\n",
    "twobill_artists_df.head()"
   ]
  },
  {
   "cell_type": "code",
   "execution_count": null,
   "id": "e53e6d89",
   "metadata": {},
   "outputs": [],
   "source": [
    "# Unique artists in the sample\n",
    "print(len(twobill_artists_df.value_counts()))"
   ]
  },
  {
   "cell_type": "code",
   "execution_count": null,
   "id": "b6f09fdb",
   "metadata": {},
   "outputs": [],
   "source": [
    "twobill_sorted_df = twobill_artists_df.value_counts().sort_values(ascending=False)\n",
    "twobill_count_sorted_df = pd.DataFrame(twobill_sorted_df)\n",
    "\n",
    "twobill_count_sorted_df.head(10)"
   ]
  },
  {
   "cell_type": "code",
   "execution_count": null,
   "id": "7f1be3c5",
   "metadata": {},
   "outputs": [],
   "source": [
    "#limit the list to only the top 6\n",
    "twobill_topfive_df = twobill_count_sorted_df.loc[(twobill_count_sorted_df[\"count\"] >= 2)]\n",
    "\n",
    "#add back the index\n",
    "twobill_topfive_df.reset_index(inplace=True)\n",
    "\n",
    "twobill_topfive_df"
   ]
  },
  {
   "cell_type": "code",
   "execution_count": null,
   "id": "94e8791d",
   "metadata": {},
   "outputs": [],
   "source": [
    "# bar chart \n",
    "x_axis = np.arange(len(twobill_topfive_df))\n",
    "tick_locations = [value for value in x_axis]\n",
    "plt.bar(x_axis, twobill_topfive_df[\"count\"], color='g', alpha=0.65, align=\"center\")\n",
    "plt.xticks(tick_locations, twobill_topfive_df[\"Artist\"], rotation=15)\n",
    "\n",
    "plt.title(\"Top Artists with over 2 Billion Streams\")\n",
    "plt.ylabel(\"Number of Songs\")\n",
    "plt.tight_layout()\n",
    "\n",
    "plt.show()"
   ]
  },
  {
   "cell_type": "code",
   "execution_count": null,
   "id": "d0050367",
   "metadata": {},
   "outputs": [],
   "source": [
    "# new copy for scatters\n",
    "scatter1_df = sorted_short_df.copy()\n",
    "# sort lowest to highest streams\n",
    "scatter2_df = scatter1_df.sort_values(\"streams\", ascending=True)\n",
    "# add a list of numbers\n",
    "scatter2_df.insert(0, \"New_Count\", range(1, 1 + len(scatter1_df)))\n",
    "scatter2_df.head()\n"
   ]
  },
  {
   "cell_type": "code",
   "execution_count": null,
   "id": "3e4aa25f",
   "metadata": {},
   "outputs": [],
   "source": [
    "#Scatter for year\n",
    "plt.scatter(scatter2_df[\"New_Count\"], scatter2_df[\"released_year\"], marker=\"o\", \n",
    "            facecolors=\"green\", edgecolors=\"black\")\n",
    "\n",
    "plt.ylim(1920,2030)\n",
    "plt.xlim(0,1000)\n",
    "plt.title(\"Year Released Distribution\")\n",
    "plt.xlabel(\"Stream Ranked Low to High\")\n",
    "plt.ylabel(\"Year Released\")\n",
    "plt.show()"
   ]
  },
  {
   "cell_type": "code",
   "execution_count": null,
   "id": "490960f4",
   "metadata": {},
   "outputs": [],
   "source": [
    "# repeat process for the 1 billion DF\n",
    "one_bill_scatter_df = one_bill_df.copy()\n",
    "one_bill_scatter_df = one_bill_scatter_df.sort_values(\"streams\", ascending=True)\n",
    "one_bill_scatter_df.insert(0, \"New_Count\", range(1, 1 + len(one_bill_scatter_df)))\n",
    "one_bill_scatter_df.head()"
   ]
  },
  {
   "cell_type": "code",
   "execution_count": null,
   "id": "d33d7e1d",
   "metadata": {},
   "outputs": [],
   "source": [
    "# one_bill_df.head()\n",
    "#Scatter for year\n",
    "plt.scatter(one_bill_scatter_df[\"New_Count\"], one_bill_scatter_df[\"released_year\"], marker=\"o\", \n",
    "            facecolors=\"green\", edgecolors=\"black\")\n",
    "\n",
    "plt.ylim(1920,2030)\n",
    "plt.xlim(0,160)\n",
    "plt.title(\"Year Released Distribution, Streams over 1 Billion\")\n",
    "plt.xlabel(\"Streams Ranked Low to High\")\n",
    "plt.ylabel(\"Year Released\")\n",
    "plt.show()"
   ]
  },
  {
   "cell_type": "code",
   "execution_count": null,
   "id": "6ecd524a",
   "metadata": {},
   "outputs": [],
   "source": [
    "# repeat process for the 2 billion DF\n",
    "two_bill_scatter_df = two_bill_df.copy()\n",
    "two_bill_scatter_df = two_bill_scatter_df.sort_values(\"streams\", ascending=True)\n",
    "two_bill_scatter_df.insert(0, \"New_Count\", range(1, 1 + len(two_bill_scatter_df)))\n",
    "two_bill_scatter_df.head()"
   ]
  },
  {
   "cell_type": "code",
   "execution_count": null,
   "id": "15835534",
   "metadata": {},
   "outputs": [],
   "source": [
    "#Scatter for year of 2 billion streams\n",
    "plt.scatter(two_bill_scatter_df[\"New_Count\"], two_bill_scatter_df[\"released_year\"], marker=\"o\", \n",
    "            facecolors=\"green\", edgecolors=\"black\")\n",
    "\n",
    "plt.ylim(1920,2030)\n",
    "plt.xlim(0,35)\n",
    "plt.title(\"Year Released Distribution, Streams over 2 Billion\")\n",
    "plt.xlabel(\"Stream Ranked Low to High\")\n",
    "plt.ylabel(\"Year Released\")\n",
    "plt.show()"
   ]
  },
  {
   "cell_type": "code",
   "execution_count": null,
   "id": "b7bd4d9d",
   "metadata": {},
   "outputs": [],
   "source": [
    "# new DF for the bins\n",
    "bins_spotify_df = sorted_short_df.copy()\n",
    "# Create the bins in which Data will be held  \n",
    "bins = [1930, 1940, 1950, 1960, 1970, 1980, 1990, 2000, 2010, 2020, 2021, 2022, 2023]\n",
    "\n",
    "# Create the names for the bins\n",
    "group_names = [\"1940s\",\"1950s\",\"1960s\",\"1970s\",\"1980s\",\"1990s\",\"2000s\",\"2010s\",\"2020\",\"2021\",\"2022\",\"2023\"]"
   ]
  },
  {
   "cell_type": "code",
   "execution_count": null,
   "id": "d52b01db",
   "metadata": {},
   "outputs": [],
   "source": [
    "bins_spotify_df[\"timeframe\"] = pd.cut(bins_spotify_df[\"released_year\"], \n",
    "                                              bins, labels=group_names, \n",
    "                                              include_lowest=True)\n",
    "\n",
    "bins_spotify_df"
   ]
  },
  {
   "cell_type": "code",
   "execution_count": null,
   "id": "80f4a86e",
   "metadata": {},
   "outputs": [],
   "source": [
    "# bins_spotify_df.sort_values(by=\"timeframe\", ascending=True)\n",
    "newbins_spotify_df = bins_spotify_df[\"timeframe\"].value_counts()\n",
    "newbins_df = pd.DataFrame(newbins_spotify_df)\n",
    "\n",
    "#add back the index, sort values\n",
    "newbins_df.reset_index(inplace=True)\n",
    "newbins_df.sort_values(by='timeframe', ascending=True, inplace=True)\n",
    "newbins_df"
   ]
  },
  {
   "cell_type": "code",
   "execution_count": null,
   "id": "930c12dd",
   "metadata": {},
   "outputs": [],
   "source": [
    "# bar chart \n",
    "x_axis = np.arange(len(newbins_df))\n",
    "tick_locations = [value for value in x_axis]\n",
    "plt.bar(x_axis, newbins_df[\"count\"], color='g', alpha=0.65, align=\"center\")\n",
    "plt.xticks(tick_locations, newbins_df[\"timeframe\"], rotation=15)\n",
    "\n",
    "plt.title(\"Release Year of the Songs in the Sample\")\n",
    "plt.ylabel(\"Number of Songs\")\n",
    "plt.tight_layout()\n",
    "\n",
    "plt.show()"
   ]
  },
  {
   "cell_type": "code",
   "execution_count": null,
   "id": "8b859046",
   "metadata": {},
   "outputs": [],
   "source": [
    "# only streams over 1 billion\n",
    "bins_one_bill_df = bins_spotify_df[(bins_spotify_df[\"streams\"] >= 1000000000)]\n",
    "\n",
    "# value counts and new DF\n",
    "newbins_1bill_spotify_df = bins_one_bill_df[\"timeframe\"].value_counts()\n",
    "newbins_1bill_df = pd.DataFrame(newbins_1bill_spotify_df)\n",
    "\n",
    "#add back the index, sort values\n",
    "newbins_1bill_df.reset_index(inplace=True)\n",
    "newbins_1bill_df.sort_values(by='timeframe', ascending=True, inplace=True)\n",
    "newbins_1bill_df"
   ]
  },
  {
   "cell_type": "code",
   "execution_count": null,
   "id": "2d926909",
   "metadata": {},
   "outputs": [],
   "source": [
    "# bar chart \n",
    "x_axis = np.arange(len(newbins_1bill_df))\n",
    "tick_locations = [value for value in x_axis]\n",
    "plt.bar(x_axis, newbins_1bill_df[\"count\"], color='g', alpha=0.65, align=\"center\")\n",
    "plt.xticks(tick_locations, newbins_1bill_df[\"timeframe\"], rotation=15)\n",
    "\n",
    "plt.title(\"Release Year of the Songs with over 1 Billion Streams\")\n",
    "plt.ylabel(\"Number of Songs\")\n",
    "plt.tight_layout()\n",
    "\n",
    "plt.show()"
   ]
  },
  {
   "cell_type": "code",
   "execution_count": null,
   "id": "529fc58a",
   "metadata": {},
   "outputs": [],
   "source": [
    "bins_two_bill_df = bins_spotify_df[(bins_spotify_df[\"streams\"] >= 2000000000)]\n",
    "\n",
    "# value counts and new DF\n",
    "newbins_2bill_spotify_df = bins_two_bill_df[\"timeframe\"].value_counts()\n",
    "newbins_2bill_df = pd.DataFrame(newbins_2bill_spotify_df)\n",
    "\n",
    "#add back the index, sort values\n",
    "newbins_2bill_df.reset_index(inplace=True)\n",
    "newbins_2bill_df.sort_values(by='timeframe', ascending=True, inplace=True)\n",
    "newbins_2bill_df"
   ]
  },
  {
   "cell_type": "code",
   "execution_count": null,
   "id": "581a02b0",
   "metadata": {},
   "outputs": [],
   "source": [
    "# bar chart \n",
    "x_axis = np.arange(len(newbins_2bill_df))\n",
    "tick_locations = [value for value in x_axis]\n",
    "plt.bar(x_axis, newbins_2bill_df[\"count\"], color='g', alpha=0.65, align=\"center\")\n",
    "plt.xticks(tick_locations, newbins_2bill_df[\"timeframe\"], rotation=15)\n",
    "\n",
    "plt.title(\"Release Year of the Songs with over 2 Billion Streams\")\n",
    "plt.ylabel(\"Number of Songs\")\n",
    "plt.tight_layout()\n",
    "\n",
    "plt.show()"
   ]
  },
  {
   "cell_type": "code",
   "execution_count": null,
   "id": "c11bb927",
   "metadata": {},
   "outputs": [],
   "source": []
  },
  {
   "cell_type": "code",
   "execution_count": null,
   "id": "9a761fef",
   "metadata": {},
   "outputs": [],
   "source": []
  },
  {
   "cell_type": "code",
   "execution_count": null,
   "id": "4fc57b03",
   "metadata": {},
   "outputs": [],
   "source": []
  },
  {
   "cell_type": "code",
   "execution_count": null,
   "id": "f6087269",
   "metadata": {},
   "outputs": [],
   "source": []
  },
  {
   "cell_type": "code",
   "execution_count": null,
   "id": "f6bda51c",
   "metadata": {},
   "outputs": [],
   "source": [
    "#Austin!"
   ]
  },
  {
   "cell_type": "code",
   "execution_count": null,
   "id": "577f9a73",
   "metadata": {},
   "outputs": [],
   "source": []
  },
  {
   "cell_type": "code",
   "execution_count": null,
   "id": "4773b31b",
   "metadata": {},
   "outputs": [],
   "source": []
  },
  {
   "cell_type": "code",
   "execution_count": null,
   "id": "58a179b7",
   "metadata": {},
   "outputs": [],
   "source": []
  },
  {
   "cell_type": "code",
   "execution_count": null,
   "id": "29f67955",
   "metadata": {},
   "outputs": [],
   "source": []
  },
  {
   "cell_type": "code",
   "execution_count": null,
   "id": "a57857c9",
   "metadata": {},
   "outputs": [],
   "source": []
  },
  {
   "cell_type": "code",
   "execution_count": null,
   "id": "314b53c4",
   "metadata": {},
   "outputs": [],
   "source": []
  },
  {
   "cell_type": "code",
   "execution_count": null,
   "id": "a085db2a",
   "metadata": {},
   "outputs": [],
   "source": []
  },
  {
   "cell_type": "code",
   "execution_count": null,
   "id": "833cf1ad",
   "metadata": {},
   "outputs": [],
   "source": []
  },
  {
   "cell_type": "code",
   "execution_count": null,
   "id": "4e4732e5",
   "metadata": {},
   "outputs": [],
   "source": []
  },
  {
   "cell_type": "code",
   "execution_count": null,
   "id": "59749a3d",
   "metadata": {},
   "outputs": [],
   "source": []
  },
  {
   "cell_type": "code",
   "execution_count": null,
   "id": "662460bb",
   "metadata": {},
   "outputs": [],
   "source": []
  },
  {
   "cell_type": "code",
   "execution_count": null,
   "id": "cb9b6104",
   "metadata": {},
   "outputs": [],
   "source": []
  },
  {
   "cell_type": "code",
   "execution_count": null,
   "id": "98874026",
   "metadata": {},
   "outputs": [],
   "source": []
  },
  {
   "cell_type": "code",
   "execution_count": null,
   "id": "55fb6f34",
   "metadata": {},
   "outputs": [],
   "source": []
  },
  {
   "cell_type": "code",
   "execution_count": null,
   "id": "f4c90590",
   "metadata": {},
   "outputs": [],
   "source": []
  },
  {
   "cell_type": "code",
   "execution_count": null,
   "id": "2018606b",
   "metadata": {},
   "outputs": [],
   "source": []
  },
  {
   "cell_type": "code",
   "execution_count": null,
   "id": "d8673e57",
   "metadata": {},
   "outputs": [],
   "source": []
  },
  {
   "cell_type": "code",
   "execution_count": null,
   "id": "e072ae21",
   "metadata": {},
   "outputs": [],
   "source": []
  },
  {
   "cell_type": "code",
   "execution_count": null,
   "id": "bf10685b",
   "metadata": {},
   "outputs": [],
   "source": []
  },
  {
   "cell_type": "code",
   "execution_count": null,
   "id": "8272af09",
   "metadata": {},
   "outputs": [],
   "source": []
  },
  {
   "cell_type": "code",
   "execution_count": null,
   "id": "ba3657d4",
   "metadata": {},
   "outputs": [],
   "source": []
  },
  {
   "cell_type": "code",
   "execution_count": null,
   "id": "d186ce6d",
   "metadata": {},
   "outputs": [],
   "source": []
  },
  {
   "cell_type": "code",
   "execution_count": null,
   "id": "c9d8593a",
   "metadata": {},
   "outputs": [],
   "source": []
  },
  {
   "cell_type": "code",
   "execution_count": null,
   "id": "a7270b53",
   "metadata": {},
   "outputs": [],
   "source": []
  },
  {
   "cell_type": "code",
   "execution_count": null,
   "id": "87ddb110",
   "metadata": {},
   "outputs": [],
   "source": []
  },
  {
   "cell_type": "code",
   "execution_count": null,
   "id": "37d27072",
   "metadata": {},
   "outputs": [],
   "source": []
  },
  {
   "cell_type": "code",
   "execution_count": null,
   "id": "ad6930f5",
   "metadata": {},
   "outputs": [],
   "source": []
  },
  {
   "cell_type": "code",
   "execution_count": null,
   "id": "0d4febfe",
   "metadata": {},
   "outputs": [],
   "source": []
  },
  {
   "cell_type": "code",
   "execution_count": null,
   "id": "8d30c543",
   "metadata": {},
   "outputs": [],
   "source": []
  },
  {
   "cell_type": "code",
   "execution_count": null,
   "id": "5b7cd704",
   "metadata": {},
   "outputs": [],
   "source": []
  },
  {
   "cell_type": "code",
   "execution_count": null,
   "id": "535d53fd",
   "metadata": {},
   "outputs": [],
   "source": []
  },
  {
   "cell_type": "code",
   "execution_count": null,
   "id": "f3775eee",
   "metadata": {},
   "outputs": [],
   "source": []
  },
  {
   "cell_type": "code",
   "execution_count": null,
   "id": "6b2ccf74",
   "metadata": {},
   "outputs": [],
   "source": []
  },
  {
   "cell_type": "code",
   "execution_count": null,
   "id": "e429dc1e",
   "metadata": {},
   "outputs": [],
   "source": []
  },
  {
   "cell_type": "code",
   "execution_count": null,
   "id": "261cb300",
   "metadata": {},
   "outputs": [],
   "source": []
  },
  {
   "cell_type": "code",
   "execution_count": null,
   "id": "6fa3ecb9",
   "metadata": {},
   "outputs": [],
   "source": []
  },
  {
   "cell_type": "code",
   "execution_count": null,
   "id": "b169a1f0",
   "metadata": {},
   "outputs": [],
   "source": []
  },
  {
   "cell_type": "code",
   "execution_count": null,
   "id": "d5d9bf5d",
   "metadata": {},
   "outputs": [],
   "source": []
  },
  {
   "cell_type": "code",
   "execution_count": null,
   "id": "12ffba08",
   "metadata": {},
   "outputs": [],
   "source": []
  },
  {
   "cell_type": "code",
   "execution_count": null,
   "id": "6056da88",
   "metadata": {},
   "outputs": [],
   "source": []
  },
  {
   "cell_type": "code",
   "execution_count": null,
   "id": "3d27f1ec",
   "metadata": {},
   "outputs": [],
   "source": []
  },
  {
   "cell_type": "code",
   "execution_count": null,
   "id": "8958ea78",
   "metadata": {},
   "outputs": [],
   "source": []
  },
  {
   "cell_type": "code",
   "execution_count": null,
   "id": "d0c1a2d9",
   "metadata": {},
   "outputs": [],
   "source": []
  },
  {
   "cell_type": "code",
   "execution_count": null,
   "id": "da78ae58",
   "metadata": {},
   "outputs": [],
   "source": []
  },
  {
   "cell_type": "code",
   "execution_count": null,
   "id": "99d34726",
   "metadata": {},
   "outputs": [],
   "source": []
  },
  {
   "cell_type": "code",
   "execution_count": null,
   "id": "e2f5e859",
   "metadata": {},
   "outputs": [],
   "source": []
  },
  {
   "cell_type": "code",
   "execution_count": null,
   "id": "24ac1504",
   "metadata": {},
   "outputs": [],
   "source": []
  },
  {
   "cell_type": "code",
   "execution_count": null,
   "id": "f99db9bb",
   "metadata": {},
   "outputs": [],
   "source": []
  },
  {
   "cell_type": "code",
   "execution_count": null,
   "id": "78a1ed3e",
   "metadata": {},
   "outputs": [],
   "source": []
  },
  {
   "cell_type": "code",
   "execution_count": null,
   "id": "b7c584f7",
   "metadata": {},
   "outputs": [],
   "source": []
  },
  {
   "cell_type": "code",
   "execution_count": null,
   "id": "8dde32cc",
   "metadata": {},
   "outputs": [],
   "source": []
  },
  {
   "cell_type": "code",
   "execution_count": null,
   "id": "6dd12c92",
   "metadata": {},
   "outputs": [],
   "source": []
  },
  {
   "cell_type": "code",
   "execution_count": null,
   "id": "c044c086",
   "metadata": {},
   "outputs": [],
   "source": []
  },
  {
   "cell_type": "code",
   "execution_count": null,
   "id": "a4a64852",
   "metadata": {},
   "outputs": [],
   "source": []
  },
  {
   "cell_type": "code",
   "execution_count": null,
   "id": "b8f9cfb6",
   "metadata": {},
   "outputs": [],
   "source": []
  },
  {
   "cell_type": "code",
   "execution_count": null,
   "id": "5445c50e",
   "metadata": {},
   "outputs": [],
   "source": []
  },
  {
   "cell_type": "code",
   "execution_count": null,
   "id": "ab3d2563",
   "metadata": {},
   "outputs": [],
   "source": []
  },
  {
   "cell_type": "code",
   "execution_count": null,
   "id": "6a42270c",
   "metadata": {},
   "outputs": [],
   "source": []
  },
  {
   "cell_type": "code",
   "execution_count": null,
   "id": "dd10b59d",
   "metadata": {},
   "outputs": [],
   "source": []
  },
  {
   "cell_type": "code",
   "execution_count": null,
   "id": "bc9fefa0",
   "metadata": {},
   "outputs": [],
   "source": []
  },
  {
   "cell_type": "code",
   "execution_count": null,
   "id": "dc82ac7a",
   "metadata": {},
   "outputs": [],
   "source": []
  },
  {
   "cell_type": "code",
   "execution_count": null,
   "id": "96847b97",
   "metadata": {},
   "outputs": [],
   "source": []
  },
  {
   "cell_type": "code",
   "execution_count": null,
   "id": "b05485b7",
   "metadata": {},
   "outputs": [],
   "source": []
  },
  {
   "cell_type": "code",
   "execution_count": null,
   "id": "19c3828f",
   "metadata": {},
   "outputs": [],
   "source": []
  },
  {
   "cell_type": "code",
   "execution_count": null,
   "id": "6591e72e",
   "metadata": {},
   "outputs": [],
   "source": []
  },
  {
   "cell_type": "code",
   "execution_count": null,
   "id": "33c758c9",
   "metadata": {},
   "outputs": [],
   "source": []
  },
  {
   "cell_type": "code",
   "execution_count": null,
   "id": "857aee68",
   "metadata": {},
   "outputs": [],
   "source": []
  },
  {
   "cell_type": "code",
   "execution_count": null,
   "id": "dbe86f06",
   "metadata": {},
   "outputs": [],
   "source": []
  },
  {
   "cell_type": "code",
   "execution_count": null,
   "id": "e1671afa",
   "metadata": {},
   "outputs": [],
   "source": []
  },
  {
   "cell_type": "code",
   "execution_count": null,
   "id": "9302a49e",
   "metadata": {},
   "outputs": [],
   "source": [
    "#Dan"
   ]
  },
  {
   "cell_type": "code",
   "execution_count": null,
   "id": "27a930ed",
   "metadata": {},
   "outputs": [],
   "source": []
  },
  {
   "cell_type": "code",
   "execution_count": null,
   "id": "896600a6",
   "metadata": {},
   "outputs": [],
   "source": []
  }
 ],
 "metadata": {
  "kernelspec": {
   "display_name": "Python 3 (ipykernel)",
   "language": "python",
   "name": "python3"
  },
  "language_info": {
   "codemirror_mode": {
    "name": "ipython",
    "version": 3
   },
   "file_extension": ".py",
   "mimetype": "text/x-python",
   "name": "python",
   "nbconvert_exporter": "python",
   "pygments_lexer": "ipython3",
   "version": "3.10.13"
  }
 },
 "nbformat": 4,
 "nbformat_minor": 5
}
