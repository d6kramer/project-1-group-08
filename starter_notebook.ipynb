{
 "cells": [
  {
   "cell_type": "markdown",
   "id": "6ff14472-d9d4-4bdb-804a-3d9be009dbf3",
   "metadata": {},
   "source": [
    "Starter file for Project 1 - need to load in Spotify CSV!\n"
   ]
  },
  {
   "cell_type": "code",
   "execution_count": null,
   "id": "1b862541",
   "metadata": {},
   "outputs": [],
   "source": [
    "# Import Dependencies\n",
    "import pandas as pd\n",
    "from pathlib import Path\n",
    "import matplotlib.pyplot as plt\n",
    "import scipy.stats as st\n",
    "import numpy as np"
   ]
  },
  {
   "cell_type": "code",
   "execution_count": null,
   "id": "0df8a118",
   "metadata": {},
   "outputs": [],
   "source": [
    "csv_path = Path(\"Resources/spotify-2023.csv\")\n",
    "\n",
    "spotify_df = pd.read_csv(csv_path, encoding='iso-8859-1')\n",
    "\n",
    "#Basic Dataframe with all information\n",
    "spotify_df.head()"
   ]
  },
  {
   "cell_type": "code",
   "execution_count": null,
   "id": "e57f5424",
   "metadata": {},
   "outputs": [],
   "source": [
    "# David!\n"
   ]
  },
  {
   "cell_type": "code",
   "execution_count": null,
   "id": "efe84798",
   "metadata": {},
   "outputs": [],
   "source": []
  },
  {
   "cell_type": "code",
   "execution_count": null,
   "id": "067bbc1d",
   "metadata": {},
   "outputs": [],
   "source": []
  },
  {
   "cell_type": "code",
   "execution_count": null,
   "id": "d2a8464d",
   "metadata": {},
   "outputs": [],
   "source": []
  },
  {
   "cell_type": "code",
   "execution_count": null,
   "id": "d5dc5ef2",
   "metadata": {},
   "outputs": [],
   "source": []
  },
  {
   "cell_type": "code",
   "execution_count": null,
   "id": "60baff69",
   "metadata": {},
   "outputs": [],
   "source": []
  },
  {
   "cell_type": "code",
   "execution_count": null,
   "id": "5c98ae3d",
   "metadata": {},
   "outputs": [],
   "source": []
  },
  {
   "cell_type": "code",
   "execution_count": null,
   "id": "8553236f",
   "metadata": {},
   "outputs": [],
   "source": []
  },
  {
   "cell_type": "code",
   "execution_count": null,
   "id": "8f81b017",
   "metadata": {},
   "outputs": [],
   "source": []
  },
  {
   "cell_type": "code",
   "execution_count": null,
   "id": "ea36b386",
   "metadata": {},
   "outputs": [],
   "source": []
  },
  {
   "cell_type": "code",
   "execution_count": null,
   "id": "9461d4b6",
   "metadata": {},
   "outputs": [],
   "source": []
  },
  {
   "cell_type": "code",
   "execution_count": null,
   "id": "7f64d4d5",
   "metadata": {},
   "outputs": [],
   "source": []
  },
  {
   "cell_type": "code",
   "execution_count": null,
   "id": "b6a586c1",
   "metadata": {},
   "outputs": [],
   "source": []
  },
  {
   "cell_type": "code",
   "execution_count": null,
   "id": "89b2436a",
   "metadata": {},
   "outputs": [],
   "source": []
  },
  {
   "cell_type": "code",
   "execution_count": null,
   "id": "e36fcdba",
   "metadata": {},
   "outputs": [],
   "source": []
  },
  {
   "cell_type": "code",
   "execution_count": null,
   "id": "cccf3c89",
   "metadata": {},
   "outputs": [],
   "source": []
  },
  {
   "cell_type": "code",
   "execution_count": null,
   "id": "08b2de54",
   "metadata": {},
   "outputs": [],
   "source": []
  },
  {
   "cell_type": "code",
   "execution_count": null,
   "id": "e53e6d89",
   "metadata": {},
   "outputs": [],
   "source": []
  },
  {
   "cell_type": "code",
   "execution_count": null,
   "id": "b6f09fdb",
   "metadata": {},
   "outputs": [],
   "source": []
  },
  {
   "cell_type": "code",
   "execution_count": null,
   "id": "7f1be3c5",
   "metadata": {},
   "outputs": [],
   "source": []
  },
  {
   "cell_type": "code",
   "execution_count": null,
   "id": "94e8791d",
   "metadata": {},
   "outputs": [],
   "source": []
  },
  {
   "cell_type": "code",
   "execution_count": null,
   "id": "1b1bd100",
   "metadata": {},
   "outputs": [],
   "source": []
  },
  {
   "cell_type": "code",
   "execution_count": null,
   "id": "fd0542c2",
   "metadata": {},
   "outputs": [],
   "source": []
  },
  {
   "cell_type": "code",
   "execution_count": null,
   "id": "e8e3b00b",
   "metadata": {},
   "outputs": [],
   "source": []
  },
  {
   "cell_type": "code",
   "execution_count": null,
   "id": "38ea3552",
   "metadata": {},
   "outputs": [],
   "source": []
  },
  {
   "cell_type": "code",
   "execution_count": null,
   "id": "d0050367",
   "metadata": {},
   "outputs": [],
   "source": []
  },
  {
   "cell_type": "code",
   "execution_count": null,
   "id": "3e4aa25f",
   "metadata": {},
   "outputs": [],
   "source": []
  },
  {
   "cell_type": "code",
   "execution_count": null,
   "id": "de8a5736",
   "metadata": {},
   "outputs": [],
   "source": []
  },
  {
   "cell_type": "code",
   "execution_count": null,
   "id": "575300e8",
   "metadata": {},
   "outputs": [],
   "source": []
  },
  {
   "cell_type": "code",
   "execution_count": null,
   "id": "80d698b1",
   "metadata": {},
   "outputs": [],
   "source": []
  },
  {
   "cell_type": "code",
   "execution_count": null,
   "id": "d171f975",
   "metadata": {},
   "outputs": [],
   "source": []
  },
  {
   "cell_type": "code",
   "execution_count": null,
   "id": "b7bd4d9d",
   "metadata": {},
   "outputs": [],
   "source": []
  },
  {
   "cell_type": "code",
   "execution_count": null,
   "id": "a7bdc03f",
   "metadata": {},
   "outputs": [],
   "source": []
  },
  {
   "cell_type": "code",
   "execution_count": null,
   "id": "d52b01db",
   "metadata": {},
   "outputs": [],
   "source": []
  },
  {
   "cell_type": "code",
   "execution_count": null,
   "id": "0b05e33d",
   "metadata": {},
   "outputs": [],
   "source": []
  },
  {
   "cell_type": "code",
   "execution_count": null,
   "id": "28fc7262",
   "metadata": {},
   "outputs": [],
   "source": []
  },
  {
   "cell_type": "code",
   "execution_count": null,
   "id": "75caeadc",
   "metadata": {},
   "outputs": [],
   "source": []
  },
  {
   "cell_type": "code",
   "execution_count": null,
   "id": "8b859046",
   "metadata": {},
   "outputs": [],
   "source": []
  },
  {
   "cell_type": "code",
   "execution_count": null,
   "id": "529fc58a",
   "metadata": {},
   "outputs": [],
   "source": []
  },
  {
   "cell_type": "code",
   "execution_count": null,
   "id": "581a02b0",
   "metadata": {},
   "outputs": [],
   "source": []
  },
  {
   "cell_type": "code",
   "execution_count": null,
   "id": "c11bb927",
   "metadata": {},
   "outputs": [],
   "source": []
  },
  {
   "cell_type": "code",
   "execution_count": null,
   "id": "9a761fef",
   "metadata": {},
   "outputs": [],
   "source": []
  },
  {
   "cell_type": "code",
   "execution_count": null,
   "id": "4fc57b03",
   "metadata": {},
   "outputs": [],
   "source": []
  },
  {
   "cell_type": "code",
   "execution_count": null,
   "id": "f6087269",
   "metadata": {},
   "outputs": [],
   "source": []
  },
  {
   "cell_type": "code",
   "execution_count": null,
   "id": "f6bda51c",
   "metadata": {},
   "outputs": [],
   "source": [
    "#Austin!"
   ]
  },
  {
   "cell_type": "code",
   "execution_count": null,
   "id": "577f9a73",
   "metadata": {},
   "outputs": [],
   "source": [
    "#This Data gives us the top 100 streamed songs\n",
    "\n",
    "spotify_df= spotify_df.replace(',','', regex=True)\n",
    "spotify_df['in_deezer_playlists'] = spotify_df['in_deezer_playlists'].astype(int)\n",
    "\n",
    "playlists = spotify_df[[\"track_name\", \"streams\", \"in_spotify_playlists\", \"in_apple_playlists\", \"in_deezer_playlists\"]]\n",
    "playlists['sum'] = playlists.apply(lambda row: row['in_apple_playlists'] + row['in_spotify_playlists'] + row['in_deezer_playlists'], axis=1)\n",
    "\n",
    "playlists_final = playlists\n",
    "playlists_final.sort_values(by='streams', ascending=False)\n",
    "top_streams = playlists_final.nlargest(100, 'streams')\n",
    "top_streams"
   ]
  },
  {
   "cell_type": "code",
   "execution_count": null,
   "id": "e061a131",
   "metadata": {},
   "outputs": [],
   "source": [
    "#this gives us the correlation between top 100 songs streamed vs the amount of playlists they are in.\n",
    "\n",
    "correlation = st.pearsonr(top_streams['sum'], top_streams['streams'])\n",
    "slope, int, rvalue, p, std_err = st.linregress(top_streams['sum'], top_streams['streams'])\n",
    "print(f\"The correlation coefficient between Total Amount of Playlists and Amount of Streams is {round(correlation[0],10)}\")\n",
    "print(f\"The r-value is : {rvalue**2}\")\n",
    "\n",
    "\n",
    "regressio_values = slope * (top_streams['sum']) + int\n",
    "line_eq = \"y = \" + str(round(slope,2)) + \"x + \" + str(round(int,2))\n",
    "plt.scatter(top_streams['sum'], top_streams['streams'])\n",
    "plt.plot(top_streams['sum'],regressio_values,\"b-\")\n",
    "plt.annotate(line_eq,(40000, 3000000000),fontsize=11,color=\"red\")\n",
    "plt.ylabel(\"Streams (billions)\")\n",
    "plt.xlabel(\"Total amount of playlists\")\n",
    "plt.show()"
   ]
  },
  {
   "cell_type": "code",
   "execution_count": null,
   "id": "f7cddf26",
   "metadata": {},
   "outputs": [],
   "source": [
    "#this gives us the correlation between top 100 songs in playlist against the amount of time they are streamed.\n",
    "top_total_playlists = playlists.nlargest(100, 'sum')\n",
    "top_total_playlists.sort_values(by='sum', ascending=False)\n",
    "\n",
    "\n",
    "correlation = st.pearsonr(top_total_playlists['sum'], top_total_playlists['streams'])\n",
    "slope, int, rvalue, p, std_err = st.linregress(top_total_playlists['sum'], top_total_playlists['streams'])\n",
    "print(f\"The correlation coefficient between Total Amount of Playlists and Amount of Streams is {round(correlation[0],10)}\")\n",
    "print(f\"The r-value is : {rvalue**2}\")\n",
    "\n",
    "regressio_values = slope * (top_total_playlists['sum']) + int\n",
    "line_eq = \"y = \" + str(round(slope,2)) + \"x + \" + str(round(int,2))\n",
    "plt.scatter(top_total_playlists['sum'], top_total_playlists['streams'])\n",
    "plt.plot(top_total_playlists['sum'],regressio_values,\"b-\")\n",
    "plt.annotate(line_eq,(50000,3000000000),fontsize=11,color=\"red\")\n",
    "plt.ylabel(\"Streams (billions)\")\n",
    "plt.xlabel(\"Total amount of playlists\")\n",
    "plt.show()\n"
   ]
  },
  {
   "cell_type": "code",
   "execution_count": null,
   "id": "58a179b7",
   "metadata": {},
   "outputs": [],
   "source": [
    "# This chart shows top 100 songs by the amount of playlists the songs they are in.\n",
    "top_playlists = playlists.sort_values(by='sum',ascending= False).head(100)\n",
    "top_total = top_playlists['streams'].sum()\n",
    "print(f\"total amount of streams is: {top_total}\")\n",
    "top_playlists"
   ]
  },
  {
   "cell_type": "code",
   "execution_count": null,
   "id": "6425c523",
   "metadata": {},
   "outputs": [],
   "source": [
    "# This chart shows bottom 100 songs by the amount of playlists the songs they are in.\n",
    "\n",
    "bottom_playlists = playlists.sort_values(by='sum').head(100)\n",
    "bottom_total = bottom_playlists['streams'].sum()\n",
    "print(f\"total amount of streams is: {bottom_total}\")\n",
    "bottom_playlists"
   ]
  },
  {
   "cell_type": "code",
   "execution_count": null,
   "id": "7954a49f",
   "metadata": {},
   "outputs": [],
   "source": [
    "#shows plots of songs with the top amount of playlists vs the bottom amount of playlists\n",
    "\n",
    "plt.scatter(top_playlists['streams'], top_playlists['sum'])\n",
    "plt.scatter(bottom_playlists['streams'], bottom_playlists['sum'])\n",
    "plt.xlabel(\"Streams (billions)\")\n",
    "plt.ylabel(\"Total amount of playlists\")\n",
    "\n",
    "plt.show()"
   ]
  },
  {
   "cell_type": "code",
   "execution_count": null,
   "id": "a57857c9",
   "metadata": {},
   "outputs": [],
   "source": [
    "# This chart shows the placement of song in spotify charts\n",
    "\n",
    "charts = spotify_df[[\"track_name\", \"streams\", \"in_spotify_charts\"]]\n",
    "\n",
    "\n",
    "top_spotify_charts = charts.loc[charts[\"in_spotify_charts\"] != 0]\n",
    "top_spotify_charts.sort_values(by='in_spotify_charts')"
   ]
  },
  {
   "cell_type": "code",
   "execution_count": null,
   "id": "314b53c4",
   "metadata": {},
   "outputs": [],
   "source": [
    "#this gives us the correlation between the top 100 number of songs in charts vs the amount of streams\n",
    "\n",
    "correlation = st.pearsonr(top_spotify_charts['in_spotify_charts'], top_spotify_charts['streams'])\n",
    "print(f\"The correlation coefficient between Placement in Spotify charts and Amount of Streams is {round(correlation[0],10)}\")\n",
    "\n",
    "\n",
    "\n",
    "plt.scatter(top_spotify_charts['in_spotify_charts'], top_spotify_charts['streams'])\n",
    "plt.ylabel(\"Streams (billions)\")\n",
    "plt.xlabel(\"Placement in Spotify charts\")\n",
    "plt.show()"
   ]
  },
  {
   "cell_type": "code",
   "execution_count": null,
   "id": "a085db2a",
   "metadata": {},
   "outputs": [],
   "source": [
    "charts = spotify_df[[\"track_name\", \"streams\", \"in_apple_charts\"]]\n",
    "\n",
    "\n",
    "top_apple_charts = charts.loc[charts[\"in_apple_charts\"] != 0]\n",
    "top_apple_charts.sort_values(by='in_apple_charts')\n"
   ]
  },
  {
   "cell_type": "code",
   "execution_count": null,
   "id": "833cf1ad",
   "metadata": {},
   "outputs": [],
   "source": [
    "correlation = st.pearsonr(top_apple_charts['in_apple_charts'], top_apple_charts['streams'])\n",
    "print(f\"The correlation coefficient between Placement in Apple charts and Amount of Streams is {round(correlation[0],10)}\")\n",
    "\n",
    "plt.scatter(top_apple_charts['in_apple_charts'], top_apple_charts['streams'])\n",
    "plt.ylabel(\"Streams (billions)\")\n",
    "plt.xlabel(\"Placement in Apple charts\")\n",
    "plt.show()"
   ]
  },
  {
   "cell_type": "code",
   "execution_count": null,
   "id": "59749a3d",
   "metadata": {},
   "outputs": [],
   "source": [
    "charts = spotify_df[[\"track_name\", \"streams\", \"in_deezer_charts\"]]\n",
    "\n",
    "\n",
    "top_deezer_charts = charts.loc[charts[\"in_deezer_charts\"] != 0]\n",
    "top_deezer_charts.sort_values(by='in_deezer_charts')"
   ]
  },
  {
   "cell_type": "code",
   "execution_count": null,
   "id": "662460bb",
   "metadata": {},
   "outputs": [],
   "source": [
    "correlation = st.pearsonr(top_deezer_charts['in_deezer_charts'], top_deezer_charts['streams'])\n",
    "print(f\"The correlation coefficient between Placement in Deezer charts and Amount of Streams is {round(correlation[0],10)}\")\n",
    "\n",
    "plt.scatter(top_deezer_charts['in_deezer_charts'], top_deezer_charts['streams'])\n",
    "plt.ylabel(\"Streams (billions)\")\n",
    "plt.xlabel(\"Placement in Deezer charts\")\n",
    "plt.show()"
   ]
  },
  {
   "cell_type": "code",
   "execution_count": null,
   "id": "cb9b6104",
   "metadata": {},
   "outputs": [],
   "source": [
    "charts = spotify_df[[\"track_name\", \"streams\", \"in_shazam_charts\"]]\n",
    "cleaned_charts = charts.dropna()\n",
    "cleaned_charts['in_shazam_charts'] = cleaned_charts['in_shazam_charts'].astype(int)\n",
    "\n",
    "\n",
    "top_shazam_charts = cleaned_charts.loc[cleaned_charts[\"in_shazam_charts\"] != 0]\n",
    "top_shazam_charts.sort_values(by='in_shazam_charts')\n"
   ]
  },
  {
   "cell_type": "code",
   "execution_count": null,
   "id": "98874026",
   "metadata": {},
   "outputs": [],
   "source": [
    "correlation = st.pearsonr(top_shazam_charts['in_shazam_charts'], top_shazam_charts['streams'])\n",
    "print(f\"The correlation coefficient between Total Amount of Playlists and Amount of Streams is {round(correlation[0],10)}\")\n",
    "\n",
    "\n",
    "plt.scatter(top_shazam_charts['in_shazam_charts'], top_shazam_charts['streams'])\n",
    "plt.ylabel(\"Streams (billions)\")\n",
    "plt.xlabel(\"Placement in Shazam charts\")\n",
    "plt.show()"
   ]
  },
  {
   "cell_type": "code",
   "execution_count": null,
   "id": "55fb6f34",
   "metadata": {},
   "outputs": [],
   "source": []
  },
  {
   "cell_type": "code",
   "execution_count": null,
   "id": "f4c90590",
   "metadata": {},
   "outputs": [],
   "source": []
  },
  {
   "cell_type": "code",
   "execution_count": null,
   "id": "2018606b",
   "metadata": {},
   "outputs": [],
   "source": []
  },
  {
   "cell_type": "code",
   "execution_count": null,
   "id": "d8673e57",
   "metadata": {},
   "outputs": [],
   "source": []
  },
  {
   "cell_type": "code",
   "execution_count": null,
   "id": "e072ae21",
   "metadata": {},
   "outputs": [],
   "source": []
  },
  {
   "cell_type": "code",
   "execution_count": null,
   "id": "bf10685b",
   "metadata": {},
   "outputs": [],
   "source": []
  },
  {
   "cell_type": "code",
   "execution_count": null,
   "id": "8272af09",
   "metadata": {},
   "outputs": [],
   "source": []
  },
  {
   "cell_type": "code",
   "execution_count": null,
   "id": "ba3657d4",
   "metadata": {},
   "outputs": [],
   "source": []
  },
  {
   "cell_type": "code",
   "execution_count": null,
   "id": "d186ce6d",
   "metadata": {},
   "outputs": [],
   "source": []
  },
  {
   "cell_type": "code",
   "execution_count": null,
   "id": "c9d8593a",
   "metadata": {},
   "outputs": [],
   "source": []
  },
  {
   "cell_type": "code",
   "execution_count": null,
   "id": "a7270b53",
   "metadata": {},
   "outputs": [],
   "source": []
  },
  {
   "cell_type": "code",
   "execution_count": null,
   "id": "87ddb110",
   "metadata": {},
   "outputs": [],
   "source": []
  },
  {
   "cell_type": "code",
   "execution_count": null,
   "id": "37d27072",
   "metadata": {},
   "outputs": [],
   "source": []
  },
  {
   "cell_type": "code",
   "execution_count": null,
   "id": "ad6930f5",
   "metadata": {},
   "outputs": [],
   "source": []
  },
  {
   "cell_type": "code",
   "execution_count": null,
   "id": "0d4febfe",
   "metadata": {},
   "outputs": [],
   "source": []
  },
  {
   "cell_type": "code",
   "execution_count": null,
   "id": "8d30c543",
   "metadata": {},
   "outputs": [],
   "source": []
  },
  {
   "cell_type": "code",
   "execution_count": null,
   "id": "5b7cd704",
   "metadata": {},
   "outputs": [],
   "source": []
  },
  {
   "cell_type": "code",
   "execution_count": null,
   "id": "535d53fd",
   "metadata": {},
   "outputs": [],
   "source": []
  },
  {
   "cell_type": "code",
   "execution_count": null,
   "id": "f3775eee",
   "metadata": {},
   "outputs": [],
   "source": []
  },
  {
   "cell_type": "code",
   "execution_count": null,
   "id": "6b2ccf74",
   "metadata": {},
   "outputs": [],
   "source": []
  },
  {
   "cell_type": "code",
   "execution_count": null,
   "id": "e429dc1e",
   "metadata": {},
   "outputs": [],
   "source": []
  },
  {
   "cell_type": "code",
   "execution_count": null,
   "id": "261cb300",
   "metadata": {},
   "outputs": [],
   "source": []
  },
  {
   "cell_type": "code",
   "execution_count": null,
   "id": "6fa3ecb9",
   "metadata": {},
   "outputs": [],
   "source": []
  },
  {
   "cell_type": "code",
   "execution_count": null,
   "id": "b169a1f0",
   "metadata": {},
   "outputs": [],
   "source": []
  },
  {
   "cell_type": "code",
   "execution_count": null,
   "id": "d5d9bf5d",
   "metadata": {},
   "outputs": [],
   "source": []
  },
  {
   "cell_type": "code",
   "execution_count": null,
   "id": "12ffba08",
   "metadata": {},
   "outputs": [],
   "source": []
  },
  {
   "cell_type": "code",
   "execution_count": null,
   "id": "6056da88",
   "metadata": {},
   "outputs": [],
   "source": []
  },
  {
   "cell_type": "code",
   "execution_count": null,
   "id": "3d27f1ec",
   "metadata": {},
   "outputs": [],
   "source": []
  },
  {
   "cell_type": "code",
   "execution_count": null,
   "id": "8958ea78",
   "metadata": {},
   "outputs": [],
   "source": []
  },
  {
   "cell_type": "code",
   "execution_count": null,
   "id": "d0c1a2d9",
   "metadata": {},
   "outputs": [],
   "source": []
  },
  {
   "cell_type": "code",
   "execution_count": null,
   "id": "da78ae58",
   "metadata": {},
   "outputs": [],
   "source": []
  },
  {
   "cell_type": "code",
   "execution_count": null,
   "id": "99d34726",
   "metadata": {},
   "outputs": [],
   "source": []
  },
  {
   "cell_type": "code",
   "execution_count": null,
   "id": "e2f5e859",
   "metadata": {},
   "outputs": [],
   "source": []
  },
  {
   "cell_type": "code",
   "execution_count": null,
   "id": "24ac1504",
   "metadata": {},
   "outputs": [],
   "source": []
  },
  {
   "cell_type": "code",
   "execution_count": null,
   "id": "f99db9bb",
   "metadata": {},
   "outputs": [],
   "source": []
  },
  {
   "cell_type": "code",
   "execution_count": null,
   "id": "78a1ed3e",
   "metadata": {},
   "outputs": [],
   "source": []
  },
  {
   "cell_type": "code",
   "execution_count": null,
   "id": "b7c584f7",
   "metadata": {},
   "outputs": [],
   "source": []
  },
  {
   "cell_type": "code",
   "execution_count": null,
   "id": "8dde32cc",
   "metadata": {},
   "outputs": [],
   "source": []
  },
  {
   "cell_type": "code",
   "execution_count": null,
   "id": "6dd12c92",
   "metadata": {},
   "outputs": [],
   "source": []
  },
  {
   "cell_type": "code",
   "execution_count": null,
   "id": "c044c086",
   "metadata": {},
   "outputs": [],
   "source": []
  },
  {
   "cell_type": "code",
   "execution_count": null,
   "id": "a4a64852",
   "metadata": {},
   "outputs": [],
   "source": []
  },
  {
   "cell_type": "code",
   "execution_count": null,
   "id": "b8f9cfb6",
   "metadata": {},
   "outputs": [],
   "source": []
  },
  {
   "cell_type": "code",
   "execution_count": null,
   "id": "5445c50e",
   "metadata": {},
   "outputs": [],
   "source": []
  },
  {
   "cell_type": "code",
   "execution_count": null,
   "id": "ab3d2563",
   "metadata": {},
   "outputs": [],
   "source": []
  },
  {
   "cell_type": "code",
   "execution_count": null,
   "id": "6a42270c",
   "metadata": {},
   "outputs": [],
   "source": []
  },
  {
   "cell_type": "code",
   "execution_count": null,
   "id": "dd10b59d",
   "metadata": {},
   "outputs": [],
   "source": []
  },
  {
   "cell_type": "code",
   "execution_count": null,
   "id": "bc9fefa0",
   "metadata": {},
   "outputs": [],
   "source": []
  },
  {
   "cell_type": "code",
   "execution_count": null,
   "id": "dc82ac7a",
   "metadata": {},
   "outputs": [],
   "source": []
  },
  {
   "cell_type": "code",
   "execution_count": null,
   "id": "96847b97",
   "metadata": {},
   "outputs": [],
   "source": []
  },
  {
   "cell_type": "code",
   "execution_count": null,
   "id": "b05485b7",
   "metadata": {},
   "outputs": [],
   "source": []
  },
  {
   "cell_type": "code",
   "execution_count": null,
   "id": "19c3828f",
   "metadata": {},
   "outputs": [],
   "source": []
  },
  {
   "cell_type": "code",
   "execution_count": null,
   "id": "6591e72e",
   "metadata": {},
   "outputs": [],
   "source": []
  },
  {
   "cell_type": "code",
   "execution_count": null,
   "id": "33c758c9",
   "metadata": {},
   "outputs": [],
   "source": []
  },
  {
   "cell_type": "code",
   "execution_count": null,
   "id": "857aee68",
   "metadata": {},
   "outputs": [],
   "source": []
  },
  {
   "cell_type": "code",
   "execution_count": null,
   "id": "dbe86f06",
   "metadata": {},
   "outputs": [],
   "source": []
  },
  {
   "cell_type": "code",
   "execution_count": null,
   "id": "e1671afa",
   "metadata": {},
   "outputs": [],
   "source": []
  },
  {
   "cell_type": "code",
   "execution_count": null,
   "id": "9302a49e",
   "metadata": {},
   "outputs": [],
   "source": [
    "#Dan"
   ]
  },
  {
   "cell_type": "code",
   "execution_count": null,
   "id": "27a930ed",
   "metadata": {},
   "outputs": [],
   "source": []
  },
  {
   "cell_type": "code",
   "execution_count": null,
   "id": "896600a6",
   "metadata": {},
   "outputs": [],
   "source": []
  }
 ],
 "metadata": {
  "kernelspec": {
   "display_name": "Python 3 (ipykernel)",
   "language": "python",
   "name": "python3"
  },
  "language_info": {
   "codemirror_mode": {
    "name": "ipython",
    "version": 3
   },
   "file_extension": ".py",
   "mimetype": "text/x-python",
   "name": "python",
   "nbconvert_exporter": "python",
   "pygments_lexer": "ipython3",
   "version": "3.10.13"
  }
 },
 "nbformat": 4,
 "nbformat_minor": 5
}
