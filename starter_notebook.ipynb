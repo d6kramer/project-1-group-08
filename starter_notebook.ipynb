{
 "cells": [
  {
   "cell_type": "markdown",
   "id": "6ff14472-d9d4-4bdb-804a-3d9be009dbf3",
   "metadata": {},
   "source": [
    "Starter file for Project 1 - need to load in Spotify CSV!\n"
   ]
  },
  {
   "cell_type": "code",
   "execution_count": null,
   "id": "1b862541",
   "metadata": {},
   "outputs": [],
   "source": [
    "# Import Dependencies\n",
    "import pandas as pd\n",
    "from pathlib import Path\n",
    "import matplotlib.pyplot as plt\n",
    "import scipy.stats as st\n",
    "import numpy as np"
   ]
  },
  {
   "cell_type": "code",
   "execution_count": null,
   "id": "0df8a118",
   "metadata": {},
   "outputs": [],
   "source": [
    "csv_path = Path(\"Resources/spotify-2023.csv\")\n",
    "\n",
    "spotify_df = pd.read_csv(csv_path, encoding='iso-8859-1')\n",
    "\n",
    "#Basic Dataframe with all information\n",
    "spotify_df.head()"
   ]
  },
  {
   "cell_type": "code",
   "execution_count": null,
   "id": "e57f5424",
   "metadata": {},
   "outputs": [],
   "source": [
    "# David!\n"
   ]
  },
  {
   "cell_type": "code",
   "execution_count": null,
   "id": "067bbc1d",
   "metadata": {},
   "outputs": [],
   "source": [
    "#bucket to store the artists names as a list\n",
    "artist_list = []\n",
    "\n",
    "#columns into lists and drop the NA values\n",
    "artist1_list = spotify_df[\"Artist Name 1\"].dropna().tolist()\n",
    "artist2_list = spotify_df[\"Artist Name 2\"].dropna().tolist()\n",
    "artist3_list = spotify_df[\"Artist Name 3\"].dropna().tolist()\n",
    "artist4_list = spotify_df[\"Artist Name 4\"].dropna().tolist()\n",
    "artist5_list = spotify_df[\"Artist Name 5\"].dropna().tolist()\n",
    "artist6_list = spotify_df[\"Artist Name 6\"].dropna().tolist()\n",
    "artist7_list = spotify_df[\"Artist Name 7\"].dropna().tolist()\n",
    "artist8_list = spotify_df[\"Artist Name 8\"].dropna().tolist()\n",
    "\n",
    "#compile the lists\n",
    "artist_list.extend(artist1_list)\n",
    "artist_list.extend(artist2_list)\n",
    "artist_list.extend(artist3_list)\n",
    "artist_list.extend(artist4_list)\n",
    "artist_list.extend(artist5_list)\n",
    "artist_list.extend(artist6_list)\n",
    "artist_list.extend(artist7_list)\n",
    "artist_list.extend(artist8_list)\n",
    "\n",
    "artist_list"
   ]
  },
  {
   "cell_type": "code",
   "execution_count": null,
   "id": "0d16a1fa",
   "metadata": {},
   "outputs": [],
   "source": [
    "# Number of artists in the sample\n",
    "print(len(artist_list))"
   ]
  },
  {
   "cell_type": "code",
   "execution_count": null,
   "id": "94ca9b13",
   "metadata": {},
   "outputs": [],
   "source": [
    "# Number of songs in the sample\n",
    "counter = 0\n",
    "for row in spotify_df[\"track_name\"]:\n",
    "   counter = counter + 1\n",
    "counter   "
   ]
  },
  {
   "cell_type": "code",
   "execution_count": null,
   "id": "f049e316",
   "metadata": {},
   "outputs": [],
   "source": [
    "# DF of the full artist list\n",
    "all_artists_df = pd.DataFrame(artist_list)\n",
    "\n",
    "# Clean up data / DF\n",
    "all_artists_df.columns = [\"Artist\"]\n",
    "all_artists_df[\"Artist\"].replace({\" Bad Bunny\": \"Bad Bunny\"}, inplace=True)\n",
    "\n",
    "all_artists_df.head(10)"
   ]
  },
  {
   "cell_type": "code",
   "execution_count": null,
   "id": "21bf2529",
   "metadata": {},
   "outputs": [],
   "source": [
    "# Unique artists in the sample\n",
    "print(len(all_artists_df.value_counts()))"
   ]
  },
  {
   "cell_type": "code",
   "execution_count": null,
   "id": "04dc6dd3",
   "metadata": {},
   "outputs": [],
   "source": [
    "# Sorted by most common and update DF\n",
    "sorted_df = all_artists_df.value_counts().sort_values(ascending=False)\n",
    "count_sorted_df = pd.DataFrame(sorted_df)\n",
    "\n",
    "count_sorted_df.head(10)"
   ]
  },
  {
   "cell_type": "code",
   "execution_count": null,
   "id": "24aadafc",
   "metadata": {},
   "outputs": [],
   "source": [
    "#limit the list to only the top 5\n",
    "topfive_df = count_sorted_df.loc[(count_sorted_df[\"count\"] >= 20)]\n",
    "\n",
    "#add back the index\n",
    "topfive_df.reset_index(inplace=True)\n",
    "\n",
    "topfive_df"
   ]
  },
  {
   "cell_type": "code",
   "execution_count": null,
   "id": "d5dc5ef2",
   "metadata": {},
   "outputs": [],
   "source": [
    "# bar chart \n",
    "x_axis = np.arange(len(topfive_df))\n",
    "tick_locations = [value for value in x_axis]\n",
    "plt.bar(x_axis, topfive_df[\"count\"], color='g', alpha=0.65, align=\"center\")\n",
    "plt.xticks(tick_locations, topfive_df[\"Artist\"], rotation=\"horizontal\")\n",
    "\n",
    "plt.title(\"Top 5 Artists Represented in the Sample\")\n",
    "plt.ylabel(\"Number of Songs in Sample\")\n",
    "plt.tight_layout()\n",
    "\n",
    "plt.show()"
   ]
  },
  {
   "cell_type": "code",
   "execution_count": null,
   "id": "5c98ae3d",
   "metadata": {},
   "outputs": [],
   "source": [
    "# list out the columns\n",
    "spotify_df.columns\n"
   ]
  },
  {
   "cell_type": "code",
   "execution_count": null,
   "id": "8553236f",
   "metadata": {},
   "outputs": [],
   "source": [
    "# tighten up the df columns that I need\n",
    "short_spotify_df = spotify_df[[\"track_name\",\"Artist Name 1\",\"Artist Name 2\",\"Artist Name 3\",\n",
    "                              \"Artist Name 4\",\"Artist Name 5\",\"Artist Name 6\",\"Artist Name 7\"\n",
    "                              ,\"Artist Name 8\", \"released_year\", \"streams\"]].copy()\n",
    "short_spotify_df.head()"
   ]
  },
  {
   "cell_type": "code",
   "execution_count": null,
   "id": "8f81b017",
   "metadata": {},
   "outputs": [],
   "source": [
    "#sorted by streams\n",
    "sorted_short_df = short_spotify_df.sort_values(\"streams\", ascending=False)\n",
    "sorted_short_df"
   ]
  },
  {
   "cell_type": "code",
   "execution_count": null,
   "id": "ea36b386",
   "metadata": {},
   "outputs": [],
   "source": [
    "#DF for streams over 1 billion\n",
    "one_bill_df = short_spotify_df[(short_spotify_df[\"streams\"] >= 1000000000)]\n",
    "\n",
    "one_bill_df.count()"
   ]
  },
  {
   "cell_type": "code",
   "execution_count": null,
   "id": "9461d4b6",
   "metadata": {},
   "outputs": [],
   "source": [
    "#bucket to store the artists names with 1 billion streams as a list\n",
    "onebill_artist_list = []\n",
    "\n",
    "#columns into lists and drop the NA values\n",
    "onebill_artist1_list = one_bill_df[\"Artist Name 1\"].dropna().tolist()\n",
    "onebill_artist2_list = one_bill_df[\"Artist Name 2\"].dropna().tolist()\n",
    "onebill_artist3_list = one_bill_df[\"Artist Name 3\"].dropna().tolist()\n",
    "onebill_artist4_list = one_bill_df[\"Artist Name 4\"].dropna().tolist()\n",
    "\n",
    "#compile the lists\n",
    "onebill_artist_list.extend(onebill_artist1_list)\n",
    "onebill_artist_list.extend(onebill_artist2_list)\n",
    "onebill_artist_list.extend(onebill_artist3_list)\n",
    "onebill_artist_list.extend(onebill_artist4_list)\n",
    "\n",
    "onebill_artist_list"
   ]
  },
  {
   "cell_type": "code",
   "execution_count": null,
   "id": "52ad2375",
   "metadata": {},
   "outputs": [],
   "source": [
    "# DF of the full artist list\n",
    "onebill_artists_df = pd.DataFrame(onebill_artist_list)\n",
    "\n",
    "# Clean up data / DF\n",
    "onebill_artists_df.columns = [\"Artist\"]\n",
    "onebill_artists_df[\"Artist\"].replace({\" Bad Bunny\": \"Bad Bunny\"}, inplace=True)\n",
    "\n",
    "onebill_artists_df"
   ]
  },
  {
   "cell_type": "code",
   "execution_count": null,
   "id": "c7257476",
   "metadata": {},
   "outputs": [],
   "source": [
    "# Unique artists in the sample\n",
    "print(len(onebill_artists_df.value_counts()))"
   ]
  },
  {
   "cell_type": "code",
   "execution_count": null,
   "id": "7f64d4d5",
   "metadata": {},
   "outputs": [],
   "source": [
    "onebill_sorted_df = onebill_artists_df.value_counts().sort_values(ascending=False)\n",
    "onebill_count_sorted_df = pd.DataFrame(onebill_sorted_df)\n",
    "\n",
    "onebill_count_sorted_df.head(10)"
   ]
  },
  {
   "cell_type": "code",
   "execution_count": null,
   "id": "b6a586c1",
   "metadata": {},
   "outputs": [],
   "source": [
    "#limit the list to only the top 5\n",
    "onebill_topfive_df = onebill_count_sorted_df.loc[(onebill_count_sorted_df[\"count\"] >= 5)]\n",
    "\n",
    "#add back the index\n",
    "onebill_topfive_df.reset_index(inplace=True)\n",
    "\n",
    "onebill_topfive_df"
   ]
  },
  {
   "cell_type": "code",
   "execution_count": null,
   "id": "89b2436a",
   "metadata": {},
   "outputs": [],
   "source": [
    "# bar chart \n",
    "x_axis = np.arange(len(onebill_topfive_df))\n",
    "tick_locations = [value for value in x_axis]\n",
    "plt.bar(x_axis, onebill_topfive_df[\"count\"], color='g', alpha=0.65, align=\"center\")\n",
    "plt.xticks(tick_locations, onebill_topfive_df[\"Artist\"], rotation=\"horizontal\")\n",
    "\n",
    "plt.title(\"Top Artists with over 1 Billion Streams\")\n",
    "plt.ylabel(\"Number of Songs\")\n",
    "plt.tight_layout()\n",
    "\n",
    "plt.show()"
   ]
  },
  {
   "cell_type": "code",
   "execution_count": null,
   "id": "e36fcdba",
   "metadata": {},
   "outputs": [],
   "source": [
    "two_bill_df = short_spotify_df[(short_spotify_df[\"streams\"] >= 2000000000)]\n",
    "two_bill_df.count()"
   ]
  },
  {
   "cell_type": "code",
   "execution_count": null,
   "id": "cccf3c89",
   "metadata": {},
   "outputs": [],
   "source": [
    "#bucket to store the artists names with 2 billion streams as a list\n",
    "twobill_artist_list = []\n",
    "\n",
    "#columns into lists and drop the NA values\n",
    "twobill_artist1_list = two_bill_df[\"Artist Name 1\"].dropna().tolist()\n",
    "twobill_artist2_list = two_bill_df[\"Artist Name 2\"].dropna().tolist()\n",
    "twobill_artist3_list = two_bill_df[\"Artist Name 3\"].dropna().tolist()\n",
    "\n",
    "#compile the lists\n",
    "twobill_artist_list.extend(twobill_artist1_list)\n",
    "twobill_artist_list.extend(twobill_artist2_list)\n",
    "twobill_artist_list.extend(twobill_artist3_list)\n",
    "\n",
    "twobill_artist_list"
   ]
  },
  {
   "cell_type": "code",
   "execution_count": null,
   "id": "08b2de54",
   "metadata": {},
   "outputs": [],
   "source": [
    "# DF of the full artist list\n",
    "twobill_artists_df = pd.DataFrame(twobill_artist_list)\n",
    "\n",
    "# Clean up data / DF\n",
    "twobill_artists_df.columns = [\"Artist\"]\n",
    "twobill_artists_df[\"Artist\"].replace({\" Bad Bunny\": \"Bad Bunny\"}, inplace=True)\n",
    "\n",
    "twobill_artists_df.head()"
   ]
  },
  {
   "cell_type": "code",
   "execution_count": null,
   "id": "e53e6d89",
   "metadata": {},
   "outputs": [],
   "source": [
    "# Unique artists in the sample\n",
    "print(len(twobill_artists_df.value_counts()))"
   ]
  },
  {
   "cell_type": "code",
   "execution_count": null,
   "id": "b6f09fdb",
   "metadata": {},
   "outputs": [],
   "source": [
    "twobill_sorted_df = twobill_artists_df.value_counts().sort_values(ascending=False)\n",
    "twobill_count_sorted_df = pd.DataFrame(twobill_sorted_df)\n",
    "\n",
    "twobill_count_sorted_df.head(10)"
   ]
  },
  {
   "cell_type": "code",
   "execution_count": null,
   "id": "7f1be3c5",
   "metadata": {},
   "outputs": [],
   "source": [
    "#limit the list to only the top 6\n",
    "twobill_topfive_df = twobill_count_sorted_df.loc[(twobill_count_sorted_df[\"count\"] >= 2)]\n",
    "\n",
    "#add back the index\n",
    "twobill_topfive_df.reset_index(inplace=True)\n",
    "\n",
    "twobill_topfive_df"
   ]
  },
  {
   "cell_type": "code",
   "execution_count": null,
   "id": "94e8791d",
   "metadata": {},
   "outputs": [],
   "source": [
    "# bar chart \n",
    "x_axis = np.arange(len(twobill_topfive_df))\n",
    "tick_locations = [value for value in x_axis]\n",
    "plt.bar(x_axis, twobill_topfive_df[\"count\"], color='g', alpha=0.65, align=\"center\")\n",
    "plt.xticks(tick_locations, twobill_topfive_df[\"Artist\"], rotation=15)\n",
    "\n",
    "plt.title(\"Top Artists with over 2 Billion Streams\")\n",
    "plt.ylabel(\"Number of Songs\")\n",
    "plt.tight_layout()\n",
    "\n",
    "plt.show()"
   ]
  },
  {
   "cell_type": "markdown",
   "id": "0efeddb8",
   "metadata": {},
   "source": [
    "#### Question: Who were the most popular artists in 2023 by number of streams?\n",
    "\n",
    "##### The sample consisted of 952 songs with 802 unique artists.  An analysis of all the artists in the sample was completed and the most prolific artist was Bad Bunny with 41 songs.  An analysis of streams over 1 billion included 152 songs with 137 unique artists. The top artist with over 1 billion streams was also Bad Bunny with 8 songs. An analysis of streams over 2 billion was also completed that included 31 songs with 33 unique artists. For this sample Ed Sheeran was the top artist with 4 songs surpasing 2 billion streams.\n",
    "\n",
    "##### The artists represented in each of the samples were different with only the Weeknd making all three groups.  There was very little overlap between the different samples.  Interesting next questions could focus on individual artists to see how the prolific artists songs performed overall.  Also for the top artists in the over 2 billion sample how their other songs performed, did they just have a few extremely popular songs?  "
   ]
  },
  {
   "cell_type": "code",
   "execution_count": null,
   "id": "d0050367",
   "metadata": {},
   "outputs": [],
   "source": [
    "# new copy for scatters\n",
    "scatter1_df = sorted_short_df.copy()\n",
    "# sort lowest to highest streams\n",
    "scatter2_df = scatter1_df.sort_values(\"streams\", ascending=True)\n",
    "# add a list of numbers\n",
    "scatter2_df.insert(0, \"New_Count\", range(1, 1 + len(scatter1_df)))\n",
    "scatter2_df.head()\n"
   ]
  },
  {
   "cell_type": "code",
   "execution_count": null,
   "id": "3e4aa25f",
   "metadata": {},
   "outputs": [],
   "source": [
    "#Scatter for year\n",
    "plt.scatter(scatter2_df[\"New_Count\"], scatter2_df[\"released_year\"], marker=\"o\", \n",
    "            facecolors=\"green\", edgecolors=\"black\")\n",
    "\n",
    "plt.ylim(1920,2030)\n",
    "plt.xlim(0,1000)\n",
    "plt.title(\"Year Released Distribution\")\n",
    "plt.xlabel(\"Number of Streams Ranked Low to High\")\n",
    "plt.ylabel(\"Year Released\")\n",
    "plt.show()"
   ]
  },
  {
   "cell_type": "code",
   "execution_count": null,
   "id": "490960f4",
   "metadata": {},
   "outputs": [],
   "source": [
    "# repeat process for the 1 billion DF\n",
    "one_bill_scatter_df = one_bill_df.copy()\n",
    "one_bill_scatter_df = one_bill_scatter_df.sort_values(\"streams\", ascending=True)\n",
    "one_bill_scatter_df.insert(0, \"New_Count\", range(1, 1 + len(one_bill_scatter_df)))\n",
    "one_bill_scatter_df.head()"
   ]
  },
  {
   "cell_type": "code",
   "execution_count": null,
   "id": "d33d7e1d",
   "metadata": {},
   "outputs": [],
   "source": [
    "# one_bill_df.head()\n",
    "#Scatter for year\n",
    "plt.scatter(one_bill_scatter_df[\"New_Count\"], one_bill_scatter_df[\"released_year\"], marker=\"o\", \n",
    "            facecolors=\"green\", edgecolors=\"black\")\n",
    "\n",
    "plt.ylim(1920,2030)\n",
    "plt.xlim(0,160)\n",
    "plt.title(\"Year Released Distribution, Streams over 1 Billion\")\n",
    "plt.xlabel(\"Number of Streams Ranked Low to High\")\n",
    "plt.ylabel(\"Year Released\")\n",
    "plt.show()"
   ]
  },
  {
   "cell_type": "code",
   "execution_count": null,
   "id": "6ecd524a",
   "metadata": {},
   "outputs": [],
   "source": [
    "# repeat process for the 2 billion DF\n",
    "two_bill_scatter_df = two_bill_df.copy()\n",
    "two_bill_scatter_df = two_bill_scatter_df.sort_values(\"streams\", ascending=True)\n",
    "two_bill_scatter_df.insert(0, \"New_Count\", range(1, 1 + len(two_bill_scatter_df)))\n",
    "two_bill_scatter_df.head()"
   ]
  },
  {
   "cell_type": "code",
   "execution_count": null,
   "id": "15835534",
   "metadata": {},
   "outputs": [],
   "source": [
    "#Scatter for year of 2 billion streams\n",
    "plt.scatter(two_bill_scatter_df[\"New_Count\"], two_bill_scatter_df[\"released_year\"], marker=\"o\", \n",
    "            facecolors=\"green\", edgecolors=\"black\")\n",
    "\n",
    "plt.ylim(1920,2030)\n",
    "plt.xlim(0,35)\n",
    "plt.title(\"Year Released Distribution, Streams over 2 Billion\")\n",
    "plt.xlabel(\"Stream Ranked Low to High\")\n",
    "plt.ylabel(\"Year Released\")\n",
    "plt.show()"
   ]
  },
  {
   "cell_type": "code",
   "execution_count": null,
   "id": "b7bd4d9d",
   "metadata": {},
   "outputs": [],
   "source": [
    "# new DF for the bins\n",
    "bins_spotify_df = sorted_short_df.copy()\n",
    "# Create the bins in which Data will be held  \n",
    "bins = [1930, 1940, 1950, 1960, 1970, 1980, 1990, 2000, 2010, 2019, 2020, 2021, 2022, 2023]\n",
    "\n",
    "# Create the names for the bins\n",
    "group_names = [\"1930s\",\"1940s\",\"1950s\",\"1960s\",\"1970s\",\"1980s\",\"1990s\",\"2000s\",\"2010s\",\"2020\",\"2021\",\"2022\",\"2023\"]"
   ]
  },
  {
   "cell_type": "code",
   "execution_count": null,
   "id": "d52b01db",
   "metadata": {},
   "outputs": [],
   "source": [
    "bins_spotify_df[\"timeframe\"] = pd.cut(bins_spotify_df[\"released_year\"], \n",
    "                                              bins, labels=group_names, \n",
    "                                              include_lowest=True)\n",
    "\n",
    "bins_spotify_df"
   ]
  },
  {
   "cell_type": "code",
   "execution_count": null,
   "id": "80f4a86e",
   "metadata": {},
   "outputs": [],
   "source": [
    "# bins_spotify_df.sort_values(by=\"timeframe\", ascending=True)\n",
    "newbins_spotify_df = bins_spotify_df[\"timeframe\"].value_counts()\n",
    "newbins_df = pd.DataFrame(newbins_spotify_df)\n",
    "\n",
    "#add back the index, sort values\n",
    "newbins_df.reset_index(inplace=True)\n",
    "newbins_df.sort_values(by='timeframe', ascending=True, inplace=True)\n",
    "newbins_df"
   ]
  },
  {
   "cell_type": "code",
   "execution_count": null,
   "id": "930c12dd",
   "metadata": {},
   "outputs": [],
   "source": [
    "# bar chart \n",
    "x_axis = np.arange(len(newbins_df))\n",
    "tick_locations = [value for value in x_axis]\n",
    "plt.bar(x_axis, newbins_df[\"count\"], color='g', alpha=0.65, align=\"center\")\n",
    "plt.xticks(tick_locations, newbins_df[\"timeframe\"], rotation=15)\n",
    "\n",
    "plt.title(\"Release Year of the Songs in the Sample\")\n",
    "plt.ylabel(\"Number of Songs\")\n",
    "plt.tight_layout()\n",
    "\n",
    "plt.show()"
   ]
  },
  {
   "cell_type": "code",
   "execution_count": null,
   "id": "8b859046",
   "metadata": {},
   "outputs": [],
   "source": [
    "# only streams over 1 billion\n",
    "bins_one_bill_df = bins_spotify_df[(bins_spotify_df[\"streams\"] >= 1000000000)]\n",
    "\n",
    "# value counts and new DF\n",
    "newbins_1bill_spotify_df = bins_one_bill_df[\"timeframe\"].value_counts()\n",
    "newbins_1bill_df = pd.DataFrame(newbins_1bill_spotify_df)\n",
    "\n",
    "#add back the index, sort values\n",
    "newbins_1bill_df.reset_index(inplace=True)\n",
    "newbins_1bill_df.sort_values(by='timeframe', ascending=True, inplace=True)\n",
    "newbins_1bill_df"
   ]
  },
  {
   "cell_type": "code",
   "execution_count": null,
   "id": "2d926909",
   "metadata": {},
   "outputs": [],
   "source": [
    "# bar chart \n",
    "x_axis = np.arange(len(newbins_1bill_df))\n",
    "tick_locations = [value for value in x_axis]\n",
    "plt.bar(x_axis, newbins_1bill_df[\"count\"], color='g', alpha=0.65, align=\"center\")\n",
    "plt.xticks(tick_locations, newbins_1bill_df[\"timeframe\"], rotation=15)\n",
    "\n",
    "plt.title(\"Release Year of the Songs with over 1 Billion Streams\")\n",
    "plt.ylabel(\"Number of Songs\")\n",
    "plt.tight_layout()\n",
    "\n",
    "plt.show()"
   ]
  },
  {
   "cell_type": "code",
   "execution_count": null,
   "id": "529fc58a",
   "metadata": {},
   "outputs": [],
   "source": [
    "bins_two_bill_df = bins_spotify_df[(bins_spotify_df[\"streams\"] >= 2000000000)]\n",
    "\n",
    "# value counts and new DF\n",
    "newbins_2bill_spotify_df = bins_two_bill_df[\"timeframe\"].value_counts()\n",
    "newbins_2bill_df = pd.DataFrame(newbins_2bill_spotify_df)\n",
    "\n",
    "#add back the index, sort values\n",
    "newbins_2bill_df.reset_index(inplace=True)\n",
    "newbins_2bill_df.sort_values(by='timeframe', ascending=True, inplace=True)\n",
    "newbins_2bill_df"
   ]
  },
  {
   "cell_type": "code",
   "execution_count": null,
   "id": "581a02b0",
   "metadata": {},
   "outputs": [],
   "source": [
    "# bar chart \n",
    "x_axis = np.arange(len(newbins_2bill_df))\n",
    "tick_locations = [value for value in x_axis]\n",
    "plt.bar(x_axis, newbins_2bill_df[\"count\"], color='g', alpha=0.65, align=\"center\")\n",
    "plt.xticks(tick_locations, newbins_2bill_df[\"timeframe\"], rotation=15)\n",
    "\n",
    "plt.title(\"Release Year of the Songs with over 2 Billion Streams\")\n",
    "plt.ylabel(\"Number of Songs\")\n",
    "plt.tight_layout()\n",
    "\n",
    "plt.show()"
   ]
  },
  {
   "cell_type": "code",
   "execution_count": null,
   "id": "c11bb927",
   "metadata": {},
   "outputs": [],
   "source": [
    "## Requirement 1: Create Plots to Showcase the Relationship Between Weather Variables and Latitude\n",
    "\n",
    "### Use the OpenWeatherMap API to retrieve weather data from the cities list generated in the started code"
   ]
  },
  {
   "cell_type": "code",
   "execution_count": null,
   "id": "4fc57b03",
   "metadata": {},
   "outputs": [],
   "source": []
  },
  {
   "cell_type": "code",
   "execution_count": null,
   "id": "f6087269",
   "metadata": {},
   "outputs": [],
   "source": []
  },
  {
   "cell_type": "code",
   "execution_count": null,
   "id": "f6bda51c",
   "metadata": {},
   "outputs": [],
   "source": [
    "#Austin!"
   ]
  },
  {
   "cell_type": "code",
   "execution_count": null,
   "id": "577f9a73",
   "metadata": {},
   "outputs": [],
   "source": [
    "#This Data gives us the top 100 streamed songs\n",
    "\n",
    "spotify_df= spotify_df.replace(',','', regex=True)\n",
    "spotify_df['in_deezer_playlists'] = spotify_df['in_deezer_playlists'].astype(int)\n",
    "\n",
    "playlists = spotify_df[[\"track_name\", \"streams\", \"in_spotify_playlists\", \"in_apple_playlists\", \"in_deezer_playlists\"]]\n",
    "playlists['sum'] = playlists.apply(lambda row: row['in_apple_playlists'] + row['in_spotify_playlists'] + row['in_deezer_playlists'], axis=1)\n",
    "\n",
    "playlists_final = playlists\n",
    "playlists_final.sort_values(by='streams', ascending=False)\n",
    "top_streams = playlists_final.nlargest(100, 'streams')\n",
    "top_streams"
   ]
  },
  {
   "cell_type": "code",
   "execution_count": null,
   "id": "e061a131",
   "metadata": {},
   "outputs": [],
   "source": [
    "#this gives us the correlation between top 100 songs streamed vs the amount of playlists they are in.\n",
    "\n",
    "correlation = st.pearsonr(top_streams['sum'], top_streams['streams'])\n",
    "slope, int, rvalue, p, std_err = st.linregress(top_streams['sum'], top_streams['streams'])\n",
    "print(f\"The correlation coefficient between Total Amount of Playlists and Amount of Streams is {round(correlation[0],10)}\")\n",
    "print(f\"The r-value is : {rvalue**2}\")\n",
    "\n",
    "\n",
    "regressio_values = slope * (top_streams['sum']) + int\n",
    "line_eq = \"y = \" + str(round(slope,2)) + \"x + \" + str(round(int,2))\n",
    "plt.scatter(top_streams['sum'], top_streams['streams'])\n",
    "plt.plot(top_streams['sum'],regressio_values,\"b-\")\n",
    "plt.annotate(line_eq,(40000, 3000000000),fontsize=11,color=\"red\")\n",
    "plt.ylabel(\"Streams (billions)\")\n",
    "plt.xlabel(\"Total amount of playlists\")\n",
    "plt.show()"
   ]
  },
  {
   "cell_type": "code",
   "execution_count": null,
   "id": "f7cddf26",
   "metadata": {},
   "outputs": [],
   "source": [
    "#this gives us the correlation between top 100 songs in playlist against the amount of time they are streamed.\n",
    "top_total_playlists = playlists.nlargest(100, 'sum')\n",
    "top_total_playlists.sort_values(by='sum', ascending=False)\n",
    "\n",
    "\n",
    "correlation = st.pearsonr(top_total_playlists['sum'], top_total_playlists['streams'])\n",
    "slope, int, rvalue, p, std_err = st.linregress(top_total_playlists['sum'], top_total_playlists['streams'])\n",
    "print(f\"The correlation coefficient between Total Amount of Playlists and Amount of Streams is {round(correlation[0],10)}\")\n",
    "print(f\"The r-value is : {rvalue**2}\")\n",
    "\n",
    "regressio_values = slope * (top_total_playlists['sum']) + int\n",
    "line_eq = \"y = \" + str(round(slope,2)) + \"x + \" + str(round(int,2))\n",
    "plt.scatter(top_total_playlists['sum'], top_total_playlists['streams'])\n",
    "plt.plot(top_total_playlists['sum'],regressio_values,\"b-\")\n",
    "plt.annotate(line_eq,(50000,3000000000),fontsize=11,color=\"red\")\n",
    "plt.ylabel(\"Streams (billions)\")\n",
    "plt.xlabel(\"Total amount of playlists\")\n",
    "plt.show()\n"
   ]
  },
  {
   "cell_type": "code",
   "execution_count": null,
   "id": "58a179b7",
   "metadata": {},
   "outputs": [],
   "source": [
    "# This chart shows top 100 songs by the amount of playlists the songs they are in.\n",
    "top_playlists = playlists.sort_values(by='sum',ascending= False).head(100)\n",
    "top_total = top_playlists['streams'].sum()\n",
    "print(f\"total amount of streams is: {top_total}\")\n",
    "top_playlists"
   ]
  },
  {
   "cell_type": "code",
   "execution_count": null,
   "id": "6425c523",
   "metadata": {},
   "outputs": [],
   "source": [
    "# This chart shows bottom 100 songs by the amount of playlists the songs they are in.\n",
    "\n",
    "bottom_playlists = playlists.sort_values(by='sum').head(100)\n",
    "bottom_total = bottom_playlists['streams'].sum()\n",
    "print(f\"total amount of streams is: {bottom_total}\")\n",
    "bottom_playlists"
   ]
  },
  {
   "cell_type": "code",
   "execution_count": null,
   "id": "7954a49f",
   "metadata": {},
   "outputs": [],
   "source": [
    "#shows plots of songs with the top amount of playlists vs the bottom amount of playlists\n",
    "\n",
    "plt.scatter(top_playlists['streams'], top_playlists['sum'])\n",
    "plt.scatter(bottom_playlists['streams'], bottom_playlists['sum'])\n",
    "plt.xlabel(\"Streams (billions)\")\n",
    "plt.ylabel(\"Total amount of playlists\")\n",
    "\n",
    "plt.show()"
   ]
  },
  {
   "cell_type": "code",
   "execution_count": null,
   "id": "a57857c9",
   "metadata": {},
   "outputs": [],
   "source": [
    "# This chart shows the placement of song in spotify charts\n",
    "\n",
    "charts = spotify_df[[\"track_name\", \"streams\", \"in_spotify_charts\"]]\n",
    "\n",
    "\n",
    "top_spotify_charts = charts.loc[charts[\"in_spotify_charts\"] != 0]\n",
    "top_spotify_charts.sort_values(by='in_spotify_charts')"
   ]
  },
  {
   "cell_type": "code",
   "execution_count": null,
   "id": "314b53c4",
   "metadata": {},
   "outputs": [],
   "source": [
    "#this gives us the correlation between the top 100 number of songs in charts vs the amount of streams\n",
    "\n",
    "correlation = st.pearsonr(top_spotify_charts['in_spotify_charts'], top_spotify_charts['streams'])\n",
    "print(f\"The correlation coefficient between Placement in Spotify charts and Amount of Streams is {round(correlation[0],10)}\")\n",
    "\n",
    "\n",
    "\n",
    "plt.scatter(top_spotify_charts['in_spotify_charts'], top_spotify_charts['streams'])\n",
    "plt.ylabel(\"Streams (billions)\")\n",
    "plt.xlabel(\"Placement in Spotify charts\")\n",
    "plt.show()"
   ]
  },
  {
   "cell_type": "code",
   "execution_count": null,
   "id": "a085db2a",
   "metadata": {},
   "outputs": [],
   "source": [
    "charts = spotify_df[[\"track_name\", \"streams\", \"in_apple_charts\"]]\n",
    "\n",
    "\n",
    "top_apple_charts = charts.loc[charts[\"in_apple_charts\"] != 0]\n",
    "top_apple_charts.sort_values(by='in_apple_charts')\n"
   ]
  },
  {
   "cell_type": "code",
   "execution_count": null,
   "id": "833cf1ad",
   "metadata": {},
   "outputs": [],
   "source": [
    "correlation = st.pearsonr(top_apple_charts['in_apple_charts'], top_apple_charts['streams'])\n",
    "print(f\"The correlation coefficient between Placement in Apple charts and Amount of Streams is {round(correlation[0],10)}\")\n",
    "\n",
    "plt.scatter(top_apple_charts['in_apple_charts'], top_apple_charts['streams'])\n",
    "plt.ylabel(\"Streams (billions)\")\n",
    "plt.xlabel(\"Placement in Apple charts\")\n",
    "plt.show()"
   ]
  },
  {
   "cell_type": "code",
   "execution_count": null,
   "id": "59749a3d",
   "metadata": {},
   "outputs": [],
   "source": [
    "charts = spotify_df[[\"track_name\", \"streams\", \"in_deezer_charts\"]]\n",
    "\n",
    "\n",
    "top_deezer_charts = charts.loc[charts[\"in_deezer_charts\"] != 0]\n",
    "top_deezer_charts.sort_values(by='in_deezer_charts')"
   ]
  },
  {
   "cell_type": "code",
   "execution_count": null,
   "id": "662460bb",
   "metadata": {},
   "outputs": [],
   "source": [
    "correlation = st.pearsonr(top_deezer_charts['in_deezer_charts'], top_deezer_charts['streams'])\n",
    "print(f\"The correlation coefficient between Placement in Deezer charts and Amount of Streams is {round(correlation[0],10)}\")\n",
    "\n",
    "plt.scatter(top_deezer_charts['in_deezer_charts'], top_deezer_charts['streams'])\n",
    "plt.ylabel(\"Streams (billions)\")\n",
    "plt.xlabel(\"Placement in Deezer charts\")\n",
    "plt.show()"
   ]
  },
  {
   "cell_type": "code",
   "execution_count": null,
   "id": "cb9b6104",
   "metadata": {},
   "outputs": [],
   "source": [
    "charts = spotify_df[[\"track_name\", \"streams\", \"in_shazam_charts\"]]\n",
    "cleaned_charts = charts.dropna()\n",
    "cleaned_charts['in_shazam_charts'] = cleaned_charts['in_shazam_charts'].astype(int)\n",
    "\n",
    "\n",
    "top_shazam_charts = cleaned_charts.loc[cleaned_charts[\"in_shazam_charts\"] != 0]\n",
    "top_shazam_charts.sort_values(by='in_shazam_charts')\n"
   ]
  },
  {
   "cell_type": "code",
   "execution_count": null,
   "id": "98874026",
   "metadata": {},
   "outputs": [],
   "source": [
    "correlation = st.pearsonr(top_shazam_charts['in_shazam_charts'], top_shazam_charts['streams'])\n",
    "print(f\"The correlation coefficient between Total Amount of Playlists and Amount of Streams is {round(correlation[0],10)}\")\n",
    "\n",
    "\n",
    "plt.scatter(top_shazam_charts['in_shazam_charts'], top_shazam_charts['streams'])\n",
    "plt.ylabel(\"Streams (billions)\")\n",
    "plt.xlabel(\"Placement in Shazam charts\")\n",
    "plt.show()"
   ]
  },
  {
   "cell_type": "code",
   "execution_count": null,
   "id": "55fb6f34",
   "metadata": {},
   "outputs": [],
   "source": []
  },
  {
   "cell_type": "code",
   "execution_count": null,
   "id": "f4c90590",
   "metadata": {},
   "outputs": [],
   "source": []
  },
  {
   "cell_type": "code",
   "execution_count": null,
   "id": "9302a49e",
   "metadata": {},
   "outputs": [],
   "source": [
    "# Dan"
   ]
  },
  {
   "cell_type": "markdown",
   "id": "63ca8534",
   "metadata": {},
   "source": [
    "## Analysis of the Musical Characteristics\n",
    "\n",
    "This analysis focuses on three major components of the musical characteristics: Tempo (beats per minute), Modality (Major vs. Minor mode), and presence of a set of characteristics as defined and provided by the Spotify API. \n",
    "\n",
    "### Tempo\n",
    "\n",
    "While the selection of tempos in the top streamed songs ranges from 65 to 206, the median tempo clocks in at 120bpm. At two beats per second, this is an upbeat, fairly brisk tempo that may inspire energy in the listener, without being overwhelming. When analyzing the mode of the datasets, it was interesting to note a divergence between the full set of songs and the 20 most streamed artists' songs; 90bpm tracks showed up most often in the most streamed artists, but only accounted for 7 out of over 250 tracks. Meanwhile, the mode of the full dataset was equal to the median of 120bpm. While interesting, this only translated to 34 songs out of over 950 studied.\n",
    "\n",
    "### Modality\n",
    "\n",
    "In music, major modes tend to have bright, positive, upbeat qualities, while minor modes are often associated with sadness, mysterious, uncertain, and darker qualities. While the full dataset revealed a simple majority of nearly 58% songs utilized a major mode, it was of note to see that the top 20 most streamed artist's tracks leaned into this result further, with over 62% of tracks having a major modality. This preference for characteristics provided by major modes so far aligns with the analysis of tempo - the associations are strong between upbeat, moderately paced music with a bright, positive modality! While no causation can be declared with certainty, it is interesting to consider whether popular demand for music of this type led to major modality being a feature in the 20 most streamed artists' tracks, or if the artists' tracks influenced the use of major modality throughout the dataset via their popularity. Studying the profile of musical characteristics may help shed light on this question.\n",
    "\n",
    "## Characteristics\n",
    "\n",
    "The characteristics provided by the Spotify API included danceability, valence (amount of positive vibes/messaging), energy, acousticness, instrumentalness, liveness, and speechiness. These are represented as a percentage value Spotify has assigned to each track. Upon analyzing the dataset, it becomes immediately clear that in 2023, danceability, valence, and energy were highly demnaded musical traits, while acoustic, liveness, and speechiness qualities were considerably less popular. Practially non-existent for the year were tracks with purely instrumental qualities! When analyzing different measures of central tendency, it is interesting to note that the emphasis on certain characteristics seems to change. For instance, the most streamed artists appeared to put less emphasis on danceability, while more songs by those artists leaned into positive vibes and messaging. Meanwhile, the full data set revealed the opposite relationship between those values. The energy characteristic was highly utilized by both groups, regardless of approach to other musical traits.\n",
    "\n",
    "## Summary\n",
    "\n",
    "When considering the analysis of all of the musical characteristics in aggregate, it appears that Spotify users were most heavily drawn to high energy, upbeat, positive music that showcased positive vibes and was quite danceable. They also picked songs that were brisk without being aggressively fast, suggesting the music could compliment moderately physical activities, such as dancing or working out. It is also possible that listeners more often than not were seeking a \"pick-me-up\" or positive energy association with their music choices, rather than being conmtemplative or dark. Without qualitative surveys of listeners, or further information regarding how musical characteristic percentages are assigned, it is difficult to make more specific conclusions, or to test our initial findings. \n",
    "\n",
    "\n"
   ]
  },
  {
   "cell_type": "code",
   "execution_count": null,
   "id": "27a930ed",
   "metadata": {},
   "outputs": [],
   "source": [
    "# Pull out specific columns into a dataframe for analyzing just the music qualities:\n",
    "\n",
    "qualities_df = spotify_df[[\"track_name\", \"Artist Name 1\", \"streams\", \"bpm\", \"key\", \"mode\", \"danceability_%\", \"valence_%\",\t\"energy_%\",\t\n",
    "                           \"acousticness_%\",\t\"instrumentalness_%\",\t\"liveness_%\",\t\"speechiness_%\"]]\n",
    "\n",
    "qualities_df"
   ]
  },
  {
   "cell_type": "code",
   "execution_count": null,
   "id": "896600a6",
   "metadata": {},
   "outputs": [],
   "source": [
    "# General overview of values per column.\n",
    "\n",
    "qualities_df.nunique()"
   ]
  },
  {
   "cell_type": "code",
   "execution_count": null,
   "id": "69904d16",
   "metadata": {},
   "outputs": [],
   "source": [
    "# The first thing I wanted to look at were the track's tempos. I found the maximum \n",
    "# and minimum tempos to see the range I was studying.\n",
    "qualities_df[\"bpm\"].max()"
   ]
  },
  {
   "cell_type": "code",
   "execution_count": null,
   "id": "cbf8751e",
   "metadata": {},
   "outputs": [],
   "source": [
    "qualities_df[\"bpm\"].min()"
   ]
  },
  {
   "cell_type": "code",
   "execution_count": null,
   "id": "97bca803",
   "metadata": {},
   "outputs": [],
   "source": [
    "# In order to graph a scatter plot of all the tracks' tempos, I created a counter loop in order to assign a \n",
    "# number to each track listing in the dataframe. This makes the scatter plot easier to read. The x-axis numbers \n",
    "# are independent of the y-axis value - they simply mark individual tracks from the data set.\n",
    "\n",
    "# This first graph is messy and hard to read, and ultimately feels not particularly useful. I decided to \n",
    "# instead look for normal distribution via song tempos, and number of songs with that tempo.\n",
    "\n",
    "x_values = []\n",
    "counter = 0\n",
    "\n",
    "for row in qualities_df[\"track_name\"]:\n",
    "\n",
    "   counter = counter + 1\n",
    "\n",
    "   x_values.append(counter)\n",
    "  \n",
    "y_values = qualities_df[\"bpm\"]\n",
    "plt.scatter(x_values, y_values)\n",
    "plt.xlabel(\"Songs\")\n",
    "plt.ylabel(\"Beats Per Minute\")\n",
    "plt.title(\"BPM of Top Songs on Spotify in 2023\")\n",
    "\n",
    "plt.show()"
   ]
  },
  {
   "cell_type": "code",
   "execution_count": null,
   "id": "8bfe0a46",
   "metadata": {},
   "outputs": [],
   "source": [
    "# To check for the distribution of tempo choice for each song, I first created a list of tempos used by the songs in the dataset.\n",
    "\n",
    "song_speed = qualities_df[\"bpm\"].value_counts()\n",
    "\n",
    "tempos = song_speed.index.tolist()\n",
    "\n",
    "print(tempos)"
   ]
  },
  {
   "cell_type": "code",
   "execution_count": null,
   "id": "f92f899d",
   "metadata": {},
   "outputs": [],
   "source": [
    "# I then created a list to show the number of times each of the above tempos was selected for a track.\n",
    "\n",
    "total_songs = []\n",
    "for song in song_speed:\n",
    "    total_songs.append(song)\n",
    "\n",
    "total_songs"
   ]
  },
  {
   "cell_type": "code",
   "execution_count": null,
   "id": "640df7bf",
   "metadata": {},
   "outputs": [],
   "source": [
    "# This scatter plot shows the distribution of tempo selections for all songs in the dataset.\n",
    "# Based on the p-value, it appears there is a normal distribution to the tempos!\n",
    "\n",
    "plt.scatter(tempos, total_songs)\n",
    "plt.xlabel(\"Tempo in BPM\")\n",
    "plt.ylabel(\"Number of Songs\")\n",
    "plt.title(\"Distribution of Chosen Tempos for Most Popular Songs on Spotify in 2023\")\n",
    "\n",
    "std_dev = np.std(tempos)\n",
    "print(f'Standard Deviation of tempos: {std_dev}.')\n",
    "print(st.normaltest(tempos))\n",
    "plt.savefig(\"Outputs/tempo_distribution_all.png\")\n",
    "plt.show()\n",
    "\n",
    "\n"
   ]
  },
  {
   "cell_type": "code",
   "execution_count": null,
   "id": "efdb5b05",
   "metadata": {},
   "outputs": [],
   "source": [
    "# This code was an attempt to further categorize tempos using bins, in order to\n",
    "# utilize a histogram with the standard deviation calculations. Unfortunately, I had\n",
    "# issues with the plot alignment and had to abandon this for presentation. I would\n",
    "# consider this a worthy pursuit for \"next steps\" if we had more time.\n",
    " \n",
    "#bins = [0, 59, 69, 79, 89, 99, 109, 119, 129, 139, 149, 159, 169, 179, 189, 199, 250]\n",
    "#group_names = [\"Below 60\", \"60-69bpm\", \"70-79bpm\", \"80-89bpm\", \"90-99bpm\", \"100-109bpm\", \"110-119bpm\",\n",
    "                #\"120-129bpm\", \"130-139bpm\", \"140-149bpm\", \"150-159bpm\", \"160-169bpm\", \"170-179bpm\", \n",
    "                #\"180-189bpm\", \"190-199bpm\", \"200+bpm\"]\n",
    "\n",
    "#qualities_df[\"BPM Range\"] = pd.cut(qualities_df[\"bpm\"],\n",
    "                         #bins, labels=group_names,\n",
    "                         #include_lowest=True)\n",
    "\n",
    "#tempo_range = qualities_df[\"BPM Range\"].sort_values()"
   ]
  },
  {
   "cell_type": "code",
   "execution_count": null,
   "id": "6089f3a0",
   "metadata": {},
   "outputs": [],
   "source": [
    "# I was interested in comparing the most streamed artists in the dataset to the dataset as a whole, so\n",
    "# the next few blocks create a secondary dataframe that focuses on the to 20 artists from the dataset\n",
    "# with the most overall number of streams. I first looked at total number of songs...\n",
    "\n",
    "popular_artists = qualities_df[\"Artist Name 1\"].value_counts()\n",
    "\n",
    "popular_artists.sort_values(ascending=False)\n",
    "\n",
    "popular_artists.head(20)"
   ]
  },
  {
   "cell_type": "code",
   "execution_count": null,
   "id": "d8a10490",
   "metadata": {},
   "outputs": [],
   "source": [
    "# ...And then tried a sum of streams. There were some different artists that appeared!\n",
    "\n",
    "streams_df = qualities_df.groupby(\"Artist Name 1\")[\"streams\"].sum()\n",
    "\n",
    "streams_df.sort_values(ascending=False).head(20)"
   ]
  },
  {
   "cell_type": "code",
   "execution_count": null,
   "id": "027634db",
   "metadata": {},
   "outputs": [],
   "source": [
    "# I focused on the 20 artists with the most total streams for my sample population.\n",
    "\n",
    "top_artists = qualities_df.loc[(qualities_df[\"Artist Name 1\"] == \"Bad Bunny\") |\n",
    "                          (qualities_df[\"Artist Name 1\"] == \"The Weeknd\") |\n",
    "                          (qualities_df[\"Artist Name 1\"] == \"Ed Sheeran\") |\n",
    "                          (qualities_df[\"Artist Name 1\"] == \"Taylor Swift\") |\n",
    "                          (qualities_df[\"Artist Name 1\"] == \"Harry Styles\") |\n",
    "                          (qualities_df[\"Artist Name 1\"] == \"Eminem\") |\n",
    "                          (qualities_df[\"Artist Name 1\"] == \"Justin Bieber\") |\n",
    "                          (qualities_df[\"Artist Name 1\"] == \"Drake\") |\n",
    "                          (qualities_df[\"Artist Name 1\"] == \"Imagine Dragons\") |\n",
    "                          (qualities_df[\"Artist Name 1\"] == \"Olivia Rodrigo\") |\n",
    "                          (qualities_df[\"Artist Name 1\"] == \"Bruno Mars\") |\n",
    "                          (qualities_df[\"Artist Name 1\"] == \"Dua Lipa\") |\n",
    "                          (qualities_df[\"Artist Name 1\"] == \"SZA\") |\n",
    "                          (qualities_df[\"Artist Name 1\"] == \"Post Malone\") |\n",
    "                          (qualities_df[\"Artist Name 1\"] == \"Arctic Monkeys\") |\n",
    "                          (qualities_df[\"Artist Name 1\"] == \"Kendrick Lamar\") |\n",
    "                          (qualities_df[\"Artist Name 1\"] == \"Doja Cat\") |\n",
    "                          (qualities_df[\"Artist Name 1\"] == \"Billie Eilish\") |\n",
    "                          (qualities_df[\"Artist Name 1\"] == \"Coldplay\") |\n",
    "                          (qualities_df[\"Artist Name 1\"] == \"The Chainsmokers\")]\n",
    "                          \n",
    "top_artists.sort_values([\"Artist Name 1\"])\n",
    "                       "
   ]
  },
  {
   "cell_type": "code",
   "execution_count": null,
   "id": "8757b89d",
   "metadata": {},
   "outputs": [],
   "source": [
    "# I then repeated my process of creating x and y axes to create a scatter plot, \n",
    "# but only focused on the top 20 artists.\n",
    "top_tempos = top_artists[\"bpm\"].value_counts()\n",
    "\n",
    "popular_tempos = top_tempos.index.tolist()\n",
    "\n",
    "print(popular_tempos)"
   ]
  },
  {
   "cell_type": "code",
   "execution_count": null,
   "id": "c136eb53",
   "metadata": {},
   "outputs": [],
   "source": [
    "most_streamed_songs = []\n",
    "for song in top_tempos:\n",
    "    most_streamed_songs.append(song)\n",
    "\n",
    "most_streamed_songs"
   ]
  },
  {
   "cell_type": "code",
   "execution_count": null,
   "id": "25cdeb1b",
   "metadata": {},
   "outputs": [],
   "source": [
    "# The most streamed artists also appear normally distributed, though the p-value is larger for \n",
    "# the sample. The Standard deviation is also about 4 beats per minute lower for the most \n",
    "# streamed artists.\n",
    "plt.scatter(popular_tempos, most_streamed_songs)\n",
    "plt.xlabel(\"Tempo in BPM\")\n",
    "plt.ylabel(\"Number of Songs\")\n",
    "plt.title(\"Distribution of Chosen Tempos for 20 Most Streamed Artists on Spotify in 2023\")\n",
    "\n",
    "std_dev = np.std(popular_tempos)\n",
    "print(f'Standard Deviation of tempos: {std_dev}.')\n",
    "print(st.normaltest(popular_tempos))\n",
    "plt.show()"
   ]
  },
  {
   "cell_type": "code",
   "execution_count": null,
   "id": "097ba694",
   "metadata": {},
   "outputs": [],
   "source": [
    "# The following set of calculations was to determine what share of songs \n",
    "# the most streamed artists accounted for, as well as what share of \n",
    "# total streams they captured. Interestingly, it seems that while \n",
    "# the most streamed artists comprised about 27% of the tracks in the \n",
    "# data, they accounted for 36% of the streams for 2023!\n",
    "top_artists[\"streams\"].sum()"
   ]
  },
  {
   "cell_type": "code",
   "execution_count": null,
   "id": "fdc06047",
   "metadata": {},
   "outputs": [],
   "source": [
    "qualities_df[\"streams\"].sum()"
   ]
  },
  {
   "cell_type": "code",
   "execution_count": null,
   "id": "9b04595a",
   "metadata": {},
   "outputs": [],
   "source": [
    "((top_artists[\"streams\"].sum()) / (qualities_df[\"streams\"].sum())) *100"
   ]
  },
  {
   "cell_type": "code",
   "execution_count": null,
   "id": "91a21d33",
   "metadata": {},
   "outputs": [],
   "source": [
    "len(top_artists[\"track_name\"])"
   ]
  },
  {
   "cell_type": "code",
   "execution_count": null,
   "id": "3ee67d21",
   "metadata": {},
   "outputs": [],
   "source": [
    "len(qualities_df[\"track_name\"])"
   ]
  },
  {
   "cell_type": "code",
   "execution_count": null,
   "id": "ca35899e",
   "metadata": {},
   "outputs": [],
   "source": [
    "(len(top_artists[\"track_name\"]) / len(qualities_df[\"track_name\"])) * 100"
   ]
  },
  {
   "cell_type": "code",
   "execution_count": null,
   "id": "5bfa0e34",
   "metadata": {},
   "outputs": [],
   "source": [
    "# This was an attempt before calculating the tempo distribution, involving my orioginal idea.\n",
    "# The scatter plot of songs at each tempo is also messy and not helpful.\n",
    "\n",
    "pop_x = []\n",
    "counter = 0\n",
    "\n",
    "for row in top_artists[\"track_name\"]:\n",
    "\n",
    "   counter = counter + 1\n",
    "\n",
    "   pop_x.append(counter)\n",
    "\n",
    "\n",
    "pop_y = top_artists[\"bpm\"]\n",
    "plt.scatter(pop_x, pop_y)\n",
    "plt.xlabel(\"Songs\")\n",
    "plt.ylabel(\"Beats Per Minute\")\n",
    "plt.title(\"BPM of the 20 Most Streamed Artists on Spotify in 2023\")\n",
    "\n",
    "plt.show()"
   ]
  },
  {
   "cell_type": "code",
   "execution_count": null,
   "id": "113c2a87",
   "metadata": {},
   "outputs": [],
   "source": [
    "# Again, before analyzing the distribution of tempo selection, I attempted to compare\n",
    "# tempos of all songs in the dataset vs. songs by the 20 most streamed artists. Both graphs\n",
    "# have a similar distribution, but are generally difficult to analyze further.\n",
    "\n",
    "fig, ax = plt.subplots(figsize=(12, 8))\n",
    "ax.scatter(x_values, y_values, c='b', marker='o', label=\"All Artists\")\n",
    "ax.scatter(pop_x, pop_y, c='m', marker=\"s\", label=\"20 Most Streamed Artists\")\n",
    "ax.set_xlabel(\"Songs\")\n",
    "ax.set_ylabel(\"Beats Per Minute\")\n",
    "ax.set_title(\"BPM Comparison of Most Streamed Songs vs 20 Most Streamed Artists in 2023\")\n",
    "ax.legend(loc='upper right')\n",
    "\n",
    "plt.savefig(\"Outputs/bpm_comparison.png\")\n",
    "plt.show()\n"
   ]
  },
  {
   "cell_type": "code",
   "execution_count": null,
   "id": "9b5ebfc7",
   "metadata": {},
   "outputs": [],
   "source": [
    "# Next, I printed the mean, median, and mode of BPMs for both dataframes.\n",
    "\n",
    "print(f'The average BPM of all top songs from 2023 is {qualities_df[\"bpm\"].mean()}.')\n",
    "print(f'The average BPM of songs by the 20 most streamed artists in 2023 is {top_artists[\"bpm\"].mean()}.')\n",
    "print(f'--------------------------')\n",
    "print(f'The median BPM of all top songs from 2023 is {qualities_df[\"bpm\"].median()}.')\n",
    "print(f'The median BPM of songs by the 20 most streamed artists in 2023 is {top_artists[\"bpm\"].median()}.')\n",
    "print(f'--------------------------')\n",
    "print(f'The mode BPM of all top songs from 2023 is {qualities_df[\"bpm\"].mode()}.')\n",
    "print(f'The mode BPM of songs by the 20 most streamed artists in 2023 is {top_artists[\"bpm\"].mode()}.')"
   ]
  },
  {
   "cell_type": "code",
   "execution_count": null,
   "id": "b732e7fe",
   "metadata": {},
   "outputs": [],
   "source": [
    "# Since the median bpm was extremely close between the sample and population, I decided to investigate each set's mode. Both modes accounted\n",
    "# for small shares of their respective datasets.\n",
    "\n",
    "top_artists.loc[top_artists[\"bpm\"] == 90].value_counts()\n"
   ]
  },
  {
   "cell_type": "code",
   "execution_count": null,
   "id": "dde6fbd1",
   "metadata": {},
   "outputs": [],
   "source": [
    "qualities_df.loc[qualities_df[\"bpm\"] == 120].value_counts()"
   ]
  },
  {
   "cell_type": "code",
   "execution_count": null,
   "id": "c2034931",
   "metadata": {},
   "outputs": [],
   "source": [
    "# After analyzing the BPM of the tracks, I wanted to look into the modality used (Major vs. Minor).\n",
    "# I first wanted to explore if artists stuck to specific mode, or alternated.\n",
    "\n",
    "all_mode = qualities_df.groupby([\"Artist Name 1\"])[\"mode\"].value_counts()\n",
    "\n",
    "all_modes = pd.DataFrame(all_mode.sort_values(ascending=False))\n",
    "\n",
    "all_modes"
   ]
  },
  {
   "cell_type": "code",
   "execution_count": null,
   "id": "2a25c79b",
   "metadata": {},
   "outputs": [],
   "source": [
    "# I then looked at the same information for the most streamed artists.\n",
    "\n",
    "top_mode = top_artists.groupby([\"Artist Name 1\"])[\"mode\"].value_counts()\n",
    "\n",
    "top_modes = pd.DataFrame(top_mode.sort_values(ascending=False))\n",
    "\n",
    "top_modes"
   ]
  },
  {
   "cell_type": "code",
   "execution_count": null,
   "id": "128796a7",
   "metadata": {},
   "outputs": [],
   "source": [
    "# For further analysis, I thought a pie chart showing the breakdown of Major modality\n",
    "# vs. Minor modality would be interesting. The next cells use lists and for loops\n",
    "# to capture the total number of Major and Minor tracks. The first cell is for the \n",
    "# full dataset, while the second is for the most streamed artists.\n",
    "\n",
    "total_major = []\n",
    "total_minor = []\n",
    "major = 0\n",
    "minor = 0\n",
    "\n",
    "for row in qualities_df[\"mode\"]:\n",
    "    if row == \"Major\":\n",
    "        major = major + 1\n",
    "       \n",
    "    elif row == \"Minor\":\n",
    "        minor = minor + 1\n",
    "\n",
    "total_major.append(major)\n",
    "total_minor.append(minor)\n",
    "print(total_major)\n",
    "print(total_minor)"
   ]
  },
  {
   "cell_type": "code",
   "execution_count": null,
   "id": "b14e8aae",
   "metadata": {},
   "outputs": [],
   "source": [
    "top_major = []\n",
    "top_minor = []\n",
    "t_major = 0\n",
    "t_minor = 0\n",
    "\n",
    "for row in top_artists[\"mode\"]:\n",
    "    if row == \"Major\":\n",
    "        t_major = t_major + 1\n",
    "       \n",
    "    elif row == \"Minor\":\n",
    "        t_minor = t_minor + 1\n",
    "\n",
    "top_major.append(t_major)\n",
    "top_minor.append(t_minor)\n",
    "print(top_major)\n",
    "print(top_minor)"
   ]
  },
  {
   "cell_type": "code",
   "execution_count": null,
   "id": "832b82e9",
   "metadata": {},
   "outputs": [],
   "source": [
    "# After creating the pie charts, it was interesting to see that both groups trended toward\n",
    "# a Major modality. Interestingly, the most streamed songs skewed further into major modality, \n",
    "# which may indicate a strong popular preference for a Major modal sound when streaming.\n",
    "modes = [\"Major\", \"Minor\"]\n",
    "total_modes = [549, 403]\n",
    "explode = (0.1, 0)\n",
    "colors = [\"yellowgreen\", \"blue\"]\n",
    "\n",
    "plt.pie(total_modes, explode=explode, labels=modes, colors=colors,\n",
    "        autopct=\"%1.1f%%\", shadow=True, startangle=120)\n",
    "plt.title(\"Mode Breakdown for Top Songs in Spotify for 2023\")\n",
    "\n",
    "plt.savefig(\"Outputs/all_songs_modes.png\")\n",
    "\n",
    "plt.show()\n"
   ]
  },
  {
   "cell_type": "code",
   "execution_count": null,
   "id": "ffcd1072",
   "metadata": {},
   "outputs": [],
   "source": [
    "modes = [\"Major\", \"Minor\"]\n",
    "top_modes = [161, 98]\n",
    "explode = (0.1, 0)\n",
    "colors = [\"lightskyblue\", \"purple\"]\n",
    "\n",
    "plt.pie(top_modes, explode=explode, labels=modes, colors=colors,\n",
    "        autopct=\"%1.1f%%\", shadow=True, startangle=120)\n",
    "plt.title(\"Mode Breakdown for 20 Most Streamed Artists in Spotify for 2023\")\n",
    "\n",
    "plt.savefig(\"Outputs/top20_artists_modes.png\")\n",
    "\n",
    "plt.show()\n"
   ]
  },
  {
   "cell_type": "code",
   "execution_count": null,
   "id": "72d8b739",
   "metadata": {},
   "outputs": [],
   "source": [
    "# The next two blocks show the measures of central tendency for the musical characteristics\n",
    "# provided by the dataset. The first block is for the full dataset, while the second is for \n",
    "# the most streamed artists.\n",
    "\n",
    "print(f'The mean danceability % is {round(qualities_df[\"danceability_%\"].mean(), 2)}.')\n",
    "print(f'The median danceability % is {round(qualities_df[\"danceability_%\"].median(), 2)}.')\n",
    "print(f'The mode danceability % is {round(qualities_df[\"danceability_%\"].mode(), 2)}.')\n",
    "print(\"--------------------------\")\n",
    "print(f'The mean valence % is {round(qualities_df[\"valence_%\"].mean(), 2)}.')\n",
    "print(f'The median valence % is {round(qualities_df[\"valence_%\"].median(), 2)}.')\n",
    "print(f'The mode valence % is {round(qualities_df[\"valence_%\"].mode(), 2)}.')\n",
    "print(\"--------------------------\")\n",
    "print(f'The mean energy % is {round(qualities_df[\"energy_%\"].mean(), 2)}.')\n",
    "print(f'The median energy % is {round(qualities_df[\"energy_%\"].median(), 2)}.')\n",
    "print(f'The mode energy % is {round(qualities_df[\"energy_%\"].mode(), 2)}.')\n",
    "print(\"--------------------------\")\n",
    "print(f'The mean acousticness % is {round(qualities_df[\"acousticness_%\"].mean(), 2)}.')\n",
    "print(f'The median acousticness % is {round(qualities_df[\"acousticness_%\"].median(), 2)}.')\n",
    "print(f'The mode acousticness % is {round(qualities_df[\"acousticness_%\"].mode(), 2)}.')\n",
    "print(\"--------------------------\")\n",
    "print(f'The mean instrumentalness % is {round(qualities_df[\"instrumentalness_%\"].mean(), 2)}.')\n",
    "print(f'The median instrumentalness % is {round(qualities_df[\"instrumentalness_%\"].median(), 2)}.')\n",
    "print(f'The mode instrumentalness % is {round(qualities_df[\"instrumentalness_%\"].mode(), 2)}.')\n",
    "print(\"--------------------------\")\n",
    "print(f'The mean liveness % is {round(qualities_df[\"liveness_%\"].mean(), 2)}.')\n",
    "print(f'The median liveness % is {round(qualities_df[\"liveness_%\"].median(), 2)}.')\n",
    "print(f'The mode liveness % is {round(qualities_df[\"liveness_%\"].mode(), 2)}.')\n",
    "print(\"--------------------------\")\n",
    "print(f'The mean speechiness % is {round(qualities_df[\"speechiness_%\"].mean(), 2)}.')\n",
    "print(f'The median speechiness % is {round(qualities_df[\"speechiness_%\"].median(), 2)}.')\n",
    "print(f'The mode speechiness % is {round(qualities_df[\"speechiness_%\"].mode(), 2)}.')\n",
    "print(\"--------------------------\")\n",
    "print(f'The mean bpm is {round(qualities_df[\"bpm\"].mean(), 2)}.')\n",
    "print(f'The median bpm is {round(qualities_df[\"bpm\"].median(), 2)}.')\n",
    "print(f'The mode bpm is {round(qualities_df[\"bpm\"].mode(), 2)}.')"
   ]
  },
  {
   "cell_type": "code",
   "execution_count": null,
   "id": "450df2ce",
   "metadata": {},
   "outputs": [],
   "source": [
    "print(f'The mean danceability % of songs by the 20 most streamed artists is {round(top_artists[\"danceability_%\"].mean(), 2)}.')\n",
    "print(f'The median danceability % of songs by the 20 most streamed artists is {round(top_artists[\"danceability_%\"].median(), 2)}.')\n",
    "print(f'The mode danceability % of songs by the 20 most streamed artists is {round(top_artists[\"danceability_%\"].mode(), 2)}.')\n",
    "print(\"--------------------------\")\n",
    "print(f'The mean valence % of songs by the 20 most streamed artists is {round(top_artists[\"valence_%\"].mean(), 2)}.')\n",
    "print(f'The median valence % of songs by the 20 most streamed artists is {round(top_artists[\"valence_%\"].median(), 2)}.')\n",
    "print(f'The mode valence % of songs by the 20 most streamed artists is {round(top_artists[\"valence_%\"].mode(), 2)}.')\n",
    "print(\"--------------------------\")\n",
    "print(f'The mean energy % of songs by the 20 most streamed artists is {round(top_artists[\"energy_%\"].mean(), 2)}.')\n",
    "print(f'The median energy % of songs by the 20 most streamed artists is {round(top_artists[\"energy_%\"].median(), 2)}.')\n",
    "print(f'The mode energy % of songs by the 20 most streamed artists is {round(top_artists[\"energy_%\"].mode(), 2)}.')\n",
    "print(\"--------------------------\")\n",
    "print(f'The mean acousticness % of songs by the 20 most streamed artists is {round(top_artists[\"acousticness_%\"].mean(), 2)}.')\n",
    "print(f'The median acousticness % of songs by the 20 most streamed artists is {round(top_artists[\"acousticness_%\"].median(), 2)}.')\n",
    "print(f'The mode acousticness % of songs by the 20 most streamed artists is {round(top_artists[\"acousticness_%\"].mode(), 2)}.')\n",
    "print(\"--------------------------\")\n",
    "print(f'The mean instrumentalness % of songs by the 20 most streamed artists is {round(top_artists[\"instrumentalness_%\"].mean(), 2)}.')\n",
    "print(f'The median instrumentalness % of songs by the 20 most streamed artists is {round(top_artists[\"instrumentalness_%\"].median(), 2)}.')\n",
    "print(f'The mode instrumentalness % of songs by the 20 most streamed artists is {round(top_artists[\"instrumentalness_%\"].mode(), 2)}.')\n",
    "print(\"--------------------------\")\n",
    "print(f'The mean liveness % of songs by the 20 most streamed artists is {round(top_artists[\"liveness_%\"].mean(), 2)}.')\n",
    "print(f'The median liveness % of songs by the 20 most streamed artists is {round(top_artists[\"liveness_%\"].median(), 2)}.')\n",
    "print(f'The mode liveness % of songs by the 20 most streamed artists is {round(top_artists[\"liveness_%\"].mode(), 2)}.')\n",
    "print(\"--------------------------\")\n",
    "print(f'The mean speechiness % of songs by the 20 most streamed artists is {round(top_artists[\"speechiness_%\"].mean(), 2)}.')\n",
    "print(f'The median speechiness % of songs by the 20 most streamed artists is {round(top_artists[\"speechiness_%\"].median(), 2)}.')\n",
    "print(f'The mode speechiness % of songs by the 20 most streamed artists is {round(top_artists[\"speechiness_%\"].mode(), 2)}.')\n",
    "print(\"--------------------------\")\n",
    "print(f'The mean bpm of songs by the 20 most streamed artists is {round(top_artists[\"bpm\"].mean(), 2)}.')\n",
    "print(f'The median bpm of songs by the 20 most streamed artists is {round(top_artists[\"bpm\"].median(), 2)}.')\n",
    "print(f'The mode bpm of songs by the 20 most streamed artists is {round(top_artists[\"bpm\"].mode(), 2)}.')"
   ]
  },
  {
   "cell_type": "code",
   "execution_count": null,
   "id": "fdb9b3d1",
   "metadata": {},
   "outputs": [],
   "source": [
    "# In order to compare the musical characteristics, I decided to prepare a multi-bar\n",
    "# graph. The first graph would compare the medians of each characteristic for both\n",
    "# the population and sample sets. Since these are percentage values, I first opted\n",
    "# to compare mean values to get a general idea for each characteristic in the\n",
    "# respective dataset.\n",
    "all_chars = []\n",
    "all_chars.append(round(qualities_df[\"danceability_%\"].mean(), 2))\n",
    "all_chars.append(round(qualities_df[\"valence_%\"].mean(), 2))\n",
    "all_chars.append(round(qualities_df[\"energy_%\"].mean(), 2))\n",
    "all_chars.append(round(qualities_df[\"acousticness_%\"].mean(), 2))\n",
    "all_chars.append(round(qualities_df[\"instrumentalness_%\"].mean(), 2))\n",
    "all_chars.append(round(qualities_df[\"liveness_%\"].mean(), 2))\n",
    "all_chars.append(round(qualities_df[\"speechiness_%\"].mean(), 2))\n",
    "\n",
    "\n",
    "all_chars"
   ]
  },
  {
   "cell_type": "code",
   "execution_count": null,
   "id": "baaef2cb",
   "metadata": {},
   "outputs": [],
   "source": [
    "top20_chars = []\n",
    "top20_chars.append(round(top_artists[\"danceability_%\"].mean(), 2))\n",
    "top20_chars.append(round(top_artists[\"valence_%\"].mean(), 2))\n",
    "top20_chars.append(round(top_artists[\"energy_%\"].mean(), 2))\n",
    "top20_chars.append(round(top_artists[\"acousticness_%\"].mean(), 2))\n",
    "top20_chars.append(round(top_artists[\"instrumentalness_%\"].mean(), 2))\n",
    "top20_chars.append(round(top_artists[\"liveness_%\"].mean(), 2))\n",
    "top20_chars.append(round(top_artists[\"speechiness_%\"].mean(), 2))\n",
    "\n",
    "top20_chars"
   ]
  },
  {
   "cell_type": "code",
   "execution_count": null,
   "id": "ac636b7a",
   "metadata": {},
   "outputs": [],
   "source": [
    "# Both groups of tracks heavily favor danceability, valence, and energy in their tracks, though it is\n",
    "# interesting to see a slight increase in some of the other characteristics by the most streamed artists,\n",
    "# such as slightly more acousticness or liveness traits.\n",
    "\n",
    "characteristics = [\"Danceability\", \"Valence (Positive Vibes)\",\"Energy\",\"Acousticness\",\n",
    "                   \"Instrumentalness\",\"Liveness\",\"Speechiness\"]\n",
    "bar_width = 0.35\n",
    "fig, ax = plt.subplots(figsize=(8, 12))\n",
    "bar1 = ax.bar(characteristics, all_chars, bar_width, label=\"All Songs\", color='b')\n",
    "bar2 = ax.bar([i + bar_width for i in range(len(characteristics))], top20_chars, \n",
    "              bar_width, label=\"Top 20 Artists\", color='purple')\n",
    "ax.set_title(\"Average Presence of Characteristics in Top Streamed Songs in Spotify for 2023\")\n",
    "ax.legend()\n",
    "ax.set_xlabel(\"Song Characteristic\")\n",
    "ax.set_ylabel(\"Percentage of Characteristic\")\n",
    "ax.set_xticklabels(characteristics, rotation=45)\n",
    "fig.savefig(\"Outputs/characteristics_means_barchart.png\")\n",
    "fig.show()"
   ]
  },
  {
   "cell_type": "code",
   "execution_count": null,
   "id": "b16156a6",
   "metadata": {},
   "outputs": [],
   "source": [
    "# Comparing the mean of the characteristics to the mode seemed interesting, so I \n",
    "# prepared a second multi-bar graph using the modes.\n",
    "all_modes = []\n",
    "all_modes.append(qualities_df[\"danceability_%\"].mode().iloc[0])\n",
    "all_modes.append(qualities_df[\"valence_%\"].mode().iloc[0])\n",
    "all_modes.append(qualities_df[\"energy_%\"].mode().iloc[0])\n",
    "all_modes.append(qualities_df[\"acousticness_%\"].mode().iloc[0])\n",
    "all_modes.append(qualities_df[\"instrumentalness_%\"].mode().iloc[0])\n",
    "all_modes.append(qualities_df[\"liveness_%\"].mode().iloc[0])\n",
    "all_modes.append(qualities_df[\"speechiness_%\"].mode().iloc[0])\n",
    "\n",
    "\n",
    "all_modes"
   ]
  },
  {
   "cell_type": "code",
   "execution_count": null,
   "id": "4bb6eab0",
   "metadata": {},
   "outputs": [],
   "source": [
    "top20_modes = []\n",
    "top20_modes.append(top_artists[\"danceability_%\"].mode().iloc[0])\n",
    "top20_modes.append(top_artists[\"valence_%\"].mode().iloc[0])\n",
    "top20_modes.append(top_artists[\"energy_%\"].mode().iloc[0])\n",
    "top20_modes.append(top_artists[\"acousticness_%\"].mode().iloc[0])\n",
    "top20_modes.append(top_artists[\"instrumentalness_%\"].mode().iloc[0])\n",
    "top20_modes.append(top_artists[\"liveness_%\"].mode().iloc[0])\n",
    "top20_modes.append(top_artists[\"speechiness_%\"].mode().iloc[0])\n",
    "\n",
    "top20_modes"
   ]
  },
  {
   "cell_type": "code",
   "execution_count": null,
   "id": "c2e58983",
   "metadata": {},
   "outputs": [],
   "source": [
    "# The most interesting finding here was the drop in danceability for the most streamed artists, \n",
    "# and the substantial drop in valence for the full dataset. It appears that the most streamed artists'\n",
    "# songs placed a strong emphasis on positive messages and/or \"vibes.\"\n",
    "characteristics = [\"Danceability\", \"Valence (Positive Vibes)\",\"Energy\",\"Acousticness\",\n",
    "                   \"Instrumentalness\",\"Liveness\",\"Speechiness\"]\n",
    "bar_width = 0.35\n",
    "fig, ax = plt.subplots(figsize=(8, 12))\n",
    "bar1 = ax.bar(characteristics, all_modes, bar_width, label=\"All Songs\", color='b')\n",
    "bar2 = ax.bar([i + bar_width for i in range(len(characteristics))], top20_modes, \n",
    "              bar_width, label=\"Top 20 Artists\", color='purple')\n",
    "ax.set_title(\"Mode Presence of Characteristics in Top Streamed Songs in Spotify for 2023\")\n",
    "ax.legend()\n",
    "ax.set_xlabel(\"Song Characteristic\")\n",
    "ax.set_ylabel(\"Percentage of Characteristic\")\n",
    "ax.set_xticklabels(characteristics, rotation=45)\n",
    "fig.savefig(\"Outputs/characteristics_modes_barchart.png\")\n",
    "fig.show()"
   ]
  },
  {
   "cell_type": "code",
   "execution_count": null,
   "id": "ac58e784",
   "metadata": {},
   "outputs": [],
   "source": []
  }
 ],
 "metadata": {
  "kernelspec": {
   "display_name": "Python 3 (ipykernel)",
   "language": "python",
   "name": "python3"
  },
  "language_info": {
   "codemirror_mode": {
    "name": "ipython",
    "version": 3
   },
   "file_extension": ".py",
   "mimetype": "text/x-python",
   "name": "python",
   "nbconvert_exporter": "python",
   "pygments_lexer": "ipython3",
   "version": "3.10.13"
  }
 },
 "nbformat": 4,
 "nbformat_minor": 5
}
